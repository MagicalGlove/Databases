{
 "cells": [
  {
   "cell_type": "markdown",
   "id": "d07c6275",
   "metadata": {},
   "source": [
    "# Creating and  Using Graph DB in Python Application"
   ]
  },
  {
   "cell_type": "markdown",
   "id": "5d2636ee",
   "metadata": {},
   "source": [
    "## Prepare the Environment"
   ]
  },
  {
   "cell_type": "code",
   "execution_count": 9,
   "id": "37e9ddf2",
   "metadata": {},
   "outputs": [
    {
     "name": "stdout",
     "output_type": "stream",
     "text": [
      "Requirement already satisfied: neo4j in c:\\users\\bruger\\appdata\\local\\programs\\python\\python311\\lib\\site-packages (5.19.0)\n",
      "Requirement already satisfied: pytz in c:\\users\\bruger\\appdata\\local\\programs\\python\\python311\\lib\\site-packages (from neo4j) (2022.7.1)\n"
     ]
    }
   ],
   "source": [
    "# Try again\n",
    "#!pip install -U neo4j \n",
    "!python -m pip install neo4j"
   ]
  },
  {
   "cell_type": "code",
   "execution_count": 10,
   "id": "46ce6bf9",
   "metadata": {},
   "outputs": [
    {
     "name": "stdout",
     "output_type": "stream",
     "text": [
      "Processing c:\\users\\tdi\\downloads\\neo4j-5.18.0.tar\n"
     ]
    },
    {
     "name": "stderr",
     "output_type": "stream",
     "text": [
      "WARNING: Requirement '/Users/tdi/Downloads/neo4j-5.18.0.tar' looks like a filename, but the file does not exist\n",
      "ERROR: Could not install packages due to an OSError: [Errno 2] No such file or directory: 'C:\\\\Users\\\\tdi\\\\Downloads\\\\neo4j-5.18.0.tar'\n",
      "\n"
     ]
    }
   ],
   "source": [
    "# download the latest Python driver from https://pypi.org/project/neo4j/#files and install it\n",
    "!pip install \"/Users/tdi/Downloads/neo4j-5.18.0.tar\""
   ]
  },
  {
   "cell_type": "code",
   "execution_count": 11,
   "id": "4abb3b0b",
   "metadata": {},
   "outputs": [],
   "source": [
    "from neo4j import GraphDatabase, RoutingControl, basic_auth"
   ]
  },
  {
   "cell_type": "code",
   "execution_count": 12,
   "id": "c9446329",
   "metadata": {},
   "outputs": [],
   "source": [
    "import pandas as pd\n",
    "import numpy as np"
   ]
  },
  {
   "cell_type": "markdown",
   "id": "b0c8b55a",
   "metadata": {},
   "source": [
    "## Setup the Connection to the Database\n",
    "Choose a database server, a database, credentials for accessing it, and use them to configure the driver.\\\n",
    "The driver helps connecting the database and passing the Cypher statements"
   ]
  },
  {
   "cell_type": "code",
   "execution_count": 13,
   "id": "789b9896",
   "metadata": {},
   "outputs": [],
   "source": [
    "# DB URI and authentication\n",
    "URI = \"bolt://localhost:7687\"\n",
    "AUTH = (\"neo4j\",\"Ola3Ola3\")"
   ]
  },
  {
   "cell_type": "code",
   "execution_count": 14,
   "id": "425f14b6",
   "metadata": {},
   "outputs": [],
   "source": [
    "driver = GraphDatabase.driver(URI, auth=AUTH)"
   ]
  },
  {
   "cell_type": "code",
   "execution_count": 15,
   "id": "28cbb451",
   "metadata": {},
   "outputs": [],
   "source": [
    "driver.verify_connectivity()"
   ]
  },
  {
   "cell_type": "markdown",
   "id": "1be487cc",
   "metadata": {},
   "source": [
    "### Query Templates"
   ]
  },
  {
   "cell_type": "markdown",
   "id": "77936962",
   "metadata": {},
   "source": [
    "Execute a Cypher statement by creating a session and using the methods \n",
    "- Session.execute_read() and \n",
    "- Session.execute_write()\n",
    "\n",
    "Do not hardcode or concatenate parameters: \n",
    "- use placeholders and \n",
    "- specify the parameters as keyword arguments"
   ]
  },
  {
   "cell_type": "code",
   "execution_count": 16,
   "id": "700c791a",
   "metadata": {},
   "outputs": [],
   "source": [
    "# template write request\n",
    "def write_query(query, params={}):\n",
    "    with driver.session(database=\"neo4j\") as session:\n",
    "        results = session.execute_write(lambda tx: tx.run(query, params).data())\n",
    "        # response = [record.values()[0] for record in results]\n",
    "        return results"
   ]
  },
  {
   "cell_type": "code",
   "execution_count": 17,
   "id": "c553fb58",
   "metadata": {},
   "outputs": [],
   "source": [
    "# template read request\n",
    "def read_query(query, params={}):\n",
    "    with driver.session(database=\"neo4j\") as session:\n",
    "        results = session.execute_read(lambda tx: tx.run(query, params).data())       \n",
    "        response = [record.values()[0] for record in results]\n",
    "        return response"
   ]
  },
  {
   "cell_type": "markdown",
   "id": "dfc2010e",
   "metadata": {},
   "source": [
    "### File Reading Utilities"
   ]
  },
  {
   "cell_type": "code",
   "execution_count": 18,
   "id": "0524bd19",
   "metadata": {},
   "outputs": [],
   "source": [
    "# Run countries before this\n",
    "\n",
    "community_Wide_2017 = pd.read_csv('./Data/2017_-_Cities_Community_Wide_Emissions.csv')\n",
    "emissions_reduction_2016 = pd.read_csv('./Data/2016_-_Cities_Emissions_Reduction_Targets_20240207.csv')\n",
    "emissions_reduction_2017 = pd.read_csv(\"./Data/2017_-_Cities_Emissions_Reduction_Targets_20240207.csv\")\n",
    "citywide_ghg_2016 = pd.read_csv('./Data/2016_-_Citywide_GHG_Emissions_20240207.csv')\n",
    "climate_risk = pd.read_csv('./Data/2023_Cities_Climate_Risk_and_Vulnerability_Assessments_20240207.csv')"
   ]
  },
  {
   "cell_type": "code",
   "execution_count": 19,
   "id": "563518d3",
   "metadata": {},
   "outputs": [],
   "source": [
    "\n",
    "def fillna_with_mode(series):\n",
    "    # Calculate the mode while ignoring NaN values\n",
    "    mode_series = series.dropna().mode()\n",
    "    if not mode_series.empty:\n",
    "        # If there's at least one mode, use the first one\n",
    "        mode_value = mode_series.iloc[0]\n",
    "    else:\n",
    "        # Fallback strategy if there's no mode\n",
    "        mode_value = \"Some default value\"  # Adjust this as necessary\n",
    "    return series.fillna(mode_value)\n"
   ]
  },
  {
   "cell_type": "code",
   "execution_count": 20,
   "id": "770c5e3c",
   "metadata": {},
   "outputs": [],
   "source": [
    "country = emissions_reduction_2017[[\"Country\",\"Country Location\",\"Region\"]]\n",
    "country = pd.concat([country, emissions_reduction_2016[[\"Country\",\"Country Location\"]]])\n",
    "country = pd.concat([country, community_Wide_2017[[\"Country\",\"Country Location\",\"Region\"]]])\n",
    "country = pd.concat([country, citywide_ghg_2016[[\"Country\",\"Country Location\"]]])\n",
    "\n",
    "climate_risk = climate_risk.rename(columns={\"Country/Area\":\"Country\", \"CDP Region\": \"Region\"})\n",
    "country = pd.concat([country, climate_risk[[\"Country\",\"Region\"]]])\n",
    "country = country.rename(columns = {\"Country\":\"name\", \"Country Location\":\"location\", \"Region\":\"region\"})\n",
    "\n",
    "country['location'] = country.groupby('name')['location'].transform(fillna_with_mode)\n",
    "country['region'] = country.groupby('name')['region'].transform(fillna_with_mode)"
   ]
  },
  {
   "cell_type": "code",
   "execution_count": 21,
   "id": "bce436db",
   "metadata": {},
   "outputs": [],
   "source": [
    "country = country.drop_duplicates(subset= [\"name\"], keep='first').head(1000)\n",
    "country = country.dropna(subset=[\"name\"])\n"
   ]
  },
  {
   "cell_type": "code",
   "execution_count": 22,
   "id": "f0437bb6",
   "metadata": {},
   "outputs": [],
   "source": [
    "city = emissions_reduction_2016[[\"Organisation\", \"Country\", \"Account No\", \"C40\", \"City Location\", \"City Short Name\"]]\n",
    "city =city.rename(columns ={\"Organisation\":\"city_name\", \"Country\": \"country_id\", \"Account No\":\"account_no\", \"City Short Name\": \"city_short_name\", \"City Location\": \"city_location\", \"C40\":\"c40\"})\n",
    "df2 = emissions_reduction_2017[[\"Organisation\", \"Country\", \"Account No\", \"C40\", \"City Location\"]]\n",
    "df2 =df2.rename(columns ={\"Organisation\":\"city_name\", \"Country\": \"country_id\", \"Account No\":\"account_no\",  \"City Location\": \"city_location\", \"C40\":\"c40\"})\n",
    "\n",
    "city = pd.concat([city,df2])\n",
    "\n",
    "city =city.drop_duplicates(\"account_no\")\n",
    "city[\"c40\"]=city[\"c40\"]==\"C40\"\n",
    "\n"
   ]
  },
  {
   "cell_type": "code",
   "execution_count": 23,
   "id": "e7aecc1c",
   "metadata": {},
   "outputs": [],
   "source": [
    "\n",
    "for index, row in community_Wide_2017.iterrows():\n",
    "    if row[\"Account number\"] in city[\"account_no\"].values:\n",
    "        city.loc[city[\"account_no\"] == row[\"Account number\"], \"land_area\"] = row[\"​Land area (in square km)\"]\n",
    "        city.loc[city[\"account_no\"] == row[\"Account number\"], \"average_altitude\"] = row[\"​Average altitude (m)\"]\n",
    "\n",
    "    else:\n",
    "        _row = pd.DataFrame({\"city_name\": [row[\"Organization\"]],\"country_id\": [row[\"Country\"]], \"account_no\": [row[\"Account number\"]],\n",
    "                             \"city_short_name\": [row[\"City\"]], \"c40\": [row[\"C40\"]]==\"C40\", \"city_location\": row[[\"City Location\"]], \"average_altitude\": row[\"​Average altitude (m)\"], \"land_area\": row[\"​Land area (in square km)\"]})\n",
    "        city = pd.concat([city, _row], ignore_index = True)"
   ]
  },
  {
   "cell_type": "code",
   "execution_count": 24,
   "id": "b7b56d1c",
   "metadata": {},
   "outputs": [],
   "source": [
    "for index, row in citywide_ghg_2016.iterrows():\n",
    "    if row[\"Account Number\"] in city[\"account_no\"].values:\n",
    "        city.loc[city[\"account_no\"] == row[\"Account Number\"], \"land_area\"] = row[\"​Land area (in square km)\"]\n",
    "        city.loc[city[\"account_no\"] == row[\"Account Number\"], \"average_altitude\"] = row[\"Average altitude (m)\"]\n",
    "\n",
    "    else:\n",
    "        _row = pd.DataFrame({\"city_name\": [row[\"City Name\"]],\"country_id\": [row[\"Country\"]], \"account_no\": [row[\"Account Number\"]],\n",
    "                             \"city_short_name\": [row[\"City Short Name\"]], \"c40\": [row[\"C40\"]]==\"C40\", \"city_location\": row[[\"City Location\"]], \"average_altitude\": row[\"Average altitude (m)\"], \"land_area\": row[\"​Land area (in square km)\"]})\n",
    "        city = pd.concat([city, _row], ignore_index = True)"
   ]
  },
  {
   "cell_type": "code",
   "execution_count": 25,
   "id": "df379f08",
   "metadata": {},
   "outputs": [],
   "source": [
    "city[\"gcom\"] = None\n",
    "for index, row in climate_risk.iterrows():\n",
    "    if row[\"Organization Number\"] in city[\"account_no\"].values:\n",
    "        city.loc[city[\"account_no\"] == row[\"Organization Number\"], \"gcom\"] = row[\"GCoM City\"]\n",
    "    else:\n",
    "        _row = pd.DataFrame({\"city_name\": [row[\"Organization Name\"]],\"country_id\": [row[\"Country\"]], \"account_no\": [row[\"Organization Number\"]],\n",
    "                             \"city_short_name\": [row[\"City\"]], \"c40\": [row[\"C40 City\"]], \"city_location\": row[[\"City Location\"]], \"gcom\": [row[\"GCoM City\"]]})\n",
    "        city = pd.concat([city, _row], ignore_index = True)\n"
   ]
  },
  {
   "cell_type": "markdown",
   "id": "266bb6fc",
   "metadata": {},
   "source": [
    "### Ingest the Data into the Database"
   ]
  },
  {
   "cell_type": "markdown",
   "id": "ff47ad9e",
   "metadata": {},
   "source": [
    "#### Characters"
   ]
  },
  {
   "cell_type": "code",
   "execution_count": 31,
   "id": "a01b3594",
   "metadata": {},
   "outputs": [],
   "source": [
    "create_db = \"\"\"\n",
    "MERGE (c:Country{name:$name})\n",
    "    SET c.location = CASE trim(toString(c.location)) WHEN 'None' THEN null ELSE $location END\n",
    "    SET c.region = CASE trim(toString(c.region)) WHEN 'None' THEN null ELSE $region END\n",
    "\"\"\""
   ]
  },
  {
   "cell_type": "code",
   "execution_count": 32,
   "id": "dd6f8f1b",
   "metadata": {},
   "outputs": [],
   "source": [
    "# Execute transaction\n",
    "for index, row in country.iterrows():\n",
    "    response = write_query(create_db, params = {'name':row['name'], 'location':row['location'], 'region':row['region']})"
   ]
  },
  {
   "cell_type": "code",
   "execution_count": 33,
   "id": "b889cdb9",
   "metadata": {},
   "outputs": [],
   "source": [
    "add_cities = '''\n",
    "    MERGE (c:Country {name:$name})\n",
    "    WITH c\n",
    "    MERGE (g:City {account_no: $account_no, country: c.name}) \n",
    "        SET g.city_name = CASE trim(toString(g.city_name)) WHEN 'None' THEN null ELSE $city_name END\n",
    "        SET g.city_short_name = CASE trim(toString(g.city_short_name)) WHEN 'None' THEN null ELSE $city_short_name END\n",
    "        SET g.c40 = CASE trim(toString(g.c40)) WHEN 'None' THEN null ELSE $c40 END\n",
    "        SET g.city_location = CASE trim(toString(g.city_location)) WHEN 'None' THEN null ELSE $city_location END\n",
    "        SET g.gcom = CASE trim(toString(g.gcom)) WHEN 'None' THEN null ELSE $gcom END\n",
    "    MERGE (g)-[:IS_IN]->(c)\n",
    "    RETURN c\n",
    "'''"
   ]
  },
  {
   "cell_type": "code",
   "execution_count": 35,
   "id": "b035c9d3",
   "metadata": {},
   "outputs": [],
   "source": [
    "city = city.dropna(subset=\"country_id\")"
   ]
  },
  {
   "cell_type": "code",
   "execution_count": 36,
   "id": "7b05d0e3",
   "metadata": {},
   "outputs": [],
   "source": [
    "\n",
    "# Execute transaction\n",
    "for index, row in city.iterrows():\n",
    "    response = write_query(add_cities, params = {'city_name':row['city_name'], \n",
    "                                                 'city_location':row['city_location'], \n",
    "                                                 'account_no':row['account_no'], \n",
    "                                                 'name':row['country_id'], \n",
    "                                                 'city_short_name':row['city_short_name'], \n",
    "                                                 'c40':row['c40'], \n",
    "                                                 'gcom':row['gcom']})"
   ]
  },
  {
   "cell_type": "code",
   "execution_count": 44,
   "id": "027b7559",
   "metadata": {},
   "outputs": [],
   "source": [
    "citywide_ghg_2016 = citywide_ghg_2016.rename(columns ={ \"Account Number\": \"account_no\", \"Reporting Year\": \"reporting_year\",\"Measurement Year\":\"measurement_year\", \"Boundary\": \"boundary\", \"Primary Methodology\": \"primary_methodology\", \"Methodology Details\": \"methodology_details\", \"Gases included\": \"gases\", \"Total City-wide Emissions (metric tonnes CO2e)\": \"total_emissions\", \"Total Scope 1 Emissions (metric tonnes CO2e)\": \"total_scope_1\", \"Total Scope 2 Emissions (metric tonnes CO2e)\": \"total_scope_2\", \"Increase/Decrease from last year\": \"increase_decrease\", \"Reason for increase/decrease in emissions\": \"reason_for_increase\"})"
   ]
  },
  {
   "cell_type": "code",
   "execution_count": 47,
   "id": "347079a5",
   "metadata": {},
   "outputs": [],
   "source": [
    "add_ghg = '''\n",
    "    MERGE (g:ghg {city_id:$account_no})\n",
    "        SET g.reporting_year = CASE trim(toString(g.reporting_year)) WHEN 'None' THEN null ELSE $reporting_year END\n",
    "        SET g.measurement_year = CASE trim(toString(g.measurement_year)) WHEN 'None' THEN null ELSE $measurement_year END\n",
    "        SET g.boundary = CASE trim(toString(g.boundary)) WHEN 'None' THEN null ELSE $boundary END\n",
    "        SET g.primary_methodology = CASE trim(toString(g.primary_methodology)) WHEN 'None' THEN null ELSE $primary_methodology END\n",
    "        SET g.methodology_details = CASE trim(toString(g.methodology_details)) WHEN 'None' THEN null ELSE $methodology_details END\n",
    "        SET g.gases = CASE trim(toString(g.gases)) WHEN 'None' THEN null ELSE $gases END\n",
    "        SET g.total_emissions = CASE trim(toString(g.total_emissions)) WHEN 'None' THEN null ELSE $total_emissions END\n",
    "        SET g.total_scope_1 = CASE trim(toString(g.total_scope_1)) WHEN 'None' THEN null ELSE $total_scope_1 END\n",
    "        SET g.total_scope_2 = CASE trim(toString(g.total_scope_2)) WHEN 'None' THEN null ELSE $total_scope_2 END\n",
    "        SET g.increase_decrease = CASE trim(toString(g.increase_decrease)) WHEN 'None' THEN null ELSE $increase_decrease END\n",
    "        SET g.reason_for_increase = CASE trim(toString(g.reason_for_increase)) WHEN 'None' THEN null ELSE $reason_for_increase END\n",
    "    WITH g\n",
    "    MERGE (c:City {account_no: $account_no}) \n",
    "    MERGE (g)-[:FROM]->(c)\n",
    "    RETURN g\n",
    "'''"
   ]
  },
  {
   "cell_type": "code",
   "execution_count": 49,
   "id": "e0c63a74",
   "metadata": {},
   "outputs": [],
   "source": [
    "\n",
    "# Execute transaction\n",
    "for index, row in citywide_ghg_2016.iterrows():\n",
    "    response = write_query(add_ghg, params = { \"account_no\": row[\"account_no\"],\n",
    "            \"reporting_year\": row[\"reporting_year\"],\n",
    "            \"measurement_year\":row[\"measurement_year\"],\n",
    "            \"boundary\": row[\"boundary\"],\n",
    "            \"primary_methodology\":row[\"primary_methodology\"],\n",
    "            \"methodology_details\":row[\"methodology_details\"],\n",
    "            \"gases\": row[\"gases\"].split(\";\") if pd.notna(row[\"gases\"]) else [],\n",
    "            \"total_emissions\": row[\"total_emissions\"],\n",
    "            \"total_scope_1\": row[\"total_scope_1\"],\n",
    "            \"total_scope_2\": row[\"total_scope_2\"],\n",
    "            \"increase_decrease\": row[\"increase_decrease\"],\n",
    "            \"reason_for_increase\":row[\"reason_for_increase\"]\n",
    "            })"
   ]
  },
  {
   "cell_type": "code",
   "execution_count": 51,
   "id": "b99b6c22",
   "metadata": {},
   "outputs": [],
   "source": [
    "climate_risk = climate_risk.rename(columns ={ \"Organization Number\": \"city_id\", \"Primary author(s) of assessment\": \"author\", \"Confirm attachment/link provided\": \"confirmation\",\"Assessment attachment and/or direct link\":\"attachment\", \"Access\": \"is_public\", \"Questionnaire\": \"questionnaire\"})\n",
    "climate_risk[\"is_public\"] = climate_risk[\"is_public\"] == \"public\""
   ]
  },
  {
   "cell_type": "code",
   "execution_count": 52,
   "id": "b8fa422c",
   "metadata": {},
   "outputs": [],
   "source": [
    "add_climate_risk = '''\n",
    "    MERGE (r:risk {city_id:$city_id})\n",
    "        SET r.author = CASE trim(toString(r.author)) WHEN 'None' THEN null ELSE $author END\n",
    "        SET r.confirmation = CASE trim(toString(r.confirmation)) WHEN 'None' THEN null ELSE $confirmation END\n",
    "        SET r.attachment = CASE trim(toString(r.attachment)) WHEN 'None' THEN null ELSE $attachment END\n",
    "        SET r.is_public = CASE trim(toString(r.is_public)) WHEN 'None' THEN null ELSE $is_public END\n",
    "        SET r.questionnaire = CASE trim(toString(r.questionnaire)) WHEN 'None' THEN null ELSE $questionnaire END\n",
    "    WITH r\n",
    "    MERGE (c:City {account_no: $city_id})\n",
    "    MERGE (r)-[:FROM]->(c)\n",
    "    RETURN r\n",
    "'''"
   ]
  },
  {
   "cell_type": "code",
   "execution_count": 53,
   "id": "98331b78",
   "metadata": {},
   "outputs": [],
   "source": [
    "\n",
    "# Execute transaction\n",
    "for index, row in climate_risk.iterrows():\n",
    "    response = write_query(add_climate_risk, params = { \"city_id\": row[\"city_id\"],\n",
    "            \"author\": row[\"author\"],\n",
    "            \"confirmation\":row[\"confirmation\"],\n",
    "            \"attachment\": row[\"attachment\"],\n",
    "            \"is_public\":row[\"is_public\"],\n",
    "            \"questionnaire\":row[\"questionnaire\"],\n",
    "            })"
   ]
  },
  {
   "cell_type": "markdown",
   "id": "814ac336",
   "metadata": {},
   "source": [
    "#### Relations"
   ]
  },
  {
   "cell_type": "code",
   "execution_count": null,
   "id": "7696bbf0",
   "metadata": {},
   "outputs": [],
   "source": [
    "file_name = 'HP-relations-seen.csv'\n",
    "path = data_dir+file_name"
   ]
  },
  {
   "cell_type": "code",
   "execution_count": null,
   "id": "43f71ce2",
   "metadata": {},
   "outputs": [
    {
     "name": "stdout",
     "output_type": "stream",
     "text": [
      "Unexpected exception formatting exception. Falling back to standard exception\n"
     ]
    },
    {
     "name": "stderr",
     "output_type": "stream",
     "text": [
      "C:\\Users\\Bruger\\AppData\\Local\\Temp\\ipykernel_18736\\301918582.py:2: FutureWarning: In a future version of pandas all arguments of read_csv except for the argument 'filepath_or_buffer' will be keyword-only.\n",
      "  data = pd.read_csv(path, ',')\n",
      "Traceback (most recent call last):\n",
      "  File \"C:\\Users\\Bruger\\AppData\\Roaming\\Python\\Python311\\site-packages\\IPython\\core\\formatters.py\", line 221, in catch_format_error\n",
      "    r = method(self, *args, **kwargs)\n",
      "        ^^^^^^^^^^^^^^^^^^^^^^^^^^^^^\n",
      "  File \"C:\\Users\\Bruger\\AppData\\Roaming\\Python\\Python311\\site-packages\\IPython\\core\\formatters.py\", line 342, in __call__\n",
      "    return method()\n",
      "           ^^^^^^^^\n",
      "  File \"c:\\Users\\Bruger\\AppData\\Local\\Programs\\Python\\Python311\\Lib\\site-packages\\pandas\\core\\frame.py\", line 1106, in _repr_html_\n",
      "  File \"c:\\Users\\Bruger\\AppData\\Local\\Programs\\Python\\Python311\\Lib\\site-packages\\pandas\\io\\formats\\format.py\", line 1110, in to_html\n",
      "    When formatting an Index subclass\n",
      "             ^^^^^^^^^^^^^^^^^^^^^^^^^\n",
      "  File \"c:\\Users\\Bruger\\AppData\\Local\\Programs\\Python\\Python311\\Lib\\site-packages\\pandas\\io\\formats\\html.py\", line 88, in to_string\n",
      "    lines = self.render()\n",
      "            ^^^^^^^^^^^^^\n",
      "  File \"c:\\Users\\Bruger\\AppData\\Local\\Programs\\Python\\Python311\\Lib\\site-packages\\pandas\\io\\formats\\html.py\", line 644, in render\n",
      "    super().render()\n",
      "  File \"c:\\Users\\Bruger\\AppData\\Local\\Programs\\Python\\Python311\\Lib\\site-packages\\pandas\\io\\formats\\html.py\", line 94, in render\n",
      "    self._write_table()\n",
      "  File \"c:\\Users\\Bruger\\AppData\\Local\\Programs\\Python\\Python311\\Lib\\site-packages\\pandas\\io\\formats\\html.py\", line 267, in _write_table\n",
      "    self._write_header(indent + self.indent_delta)\n",
      "  File \"c:\\Users\\Bruger\\AppData\\Local\\Programs\\Python\\Python311\\Lib\\site-packages\\pandas\\io\\formats\\html.py\", line 403, in _write_header\n",
      "    self._write_col_header(indent + self.indent_delta)\n",
      "  File \"c:\\Users\\Bruger\\AppData\\Local\\Programs\\Python\\Python311\\Lib\\site-packages\\pandas\\io\\formats\\html.py\", line 383, in _write_col_header\n",
      "    row.extend(self._get_columns_formatted_values())\n",
      "               ^^^^^^^^^^^^^^^^^^^^^^^^^^^^^^^^^^^^\n",
      "  File \"c:\\Users\\Bruger\\AppData\\Local\\Programs\\Python\\Python311\\Lib\\site-packages\\pandas\\io\\formats\\html.py\", line 611, in _get_columns_formatted_values\n",
      "    return self.columns._format_flat(include_name=False)\n",
      "           ^^^^^^^^^^^^^^^^^^^^^^^^^\n",
      "AttributeError: 'Index' object has no attribute '_format_flat'\n",
      "\n",
      "During handling of the above exception, another exception occurred:\n",
      "\n",
      "Traceback (most recent call last):\n",
      "  File \"C:\\Users\\Bruger\\AppData\\Roaming\\Python\\Python311\\site-packages\\IPython\\core\\interactiveshell.py\", line 2057, in showtraceback\n",
      "    stb = self.InteractiveTB.structured_traceback(\n",
      "          ^^^^^^^^^^^^^^^^^^^^^^^^^^^^^^^^^^^^^^^^\n",
      "  File \"C:\\Users\\Bruger\\AppData\\Roaming\\Python\\Python311\\site-packages\\IPython\\core\\ultratb.py\", line 1118, in structured_traceback\n",
      "    return FormattedTB.structured_traceback(\n",
      "           ^^^^^^^^^^^^^^^^^^^^^^^^^^^^^^^^^\n",
      "  File \"C:\\Users\\Bruger\\AppData\\Roaming\\Python\\Python311\\site-packages\\IPython\\core\\ultratb.py\", line 1012, in structured_traceback\n",
      "    return VerboseTB.structured_traceback(\n",
      "           ^^^^^^^^^^^^^^^^^^^^^^^^^^^^^^^\n",
      "  File \"C:\\Users\\Bruger\\AppData\\Roaming\\Python\\Python311\\site-packages\\IPython\\core\\ultratb.py\", line 865, in structured_traceback\n",
      "    formatted_exception = self.format_exception_as_a_whole(etype, evalue, etb, number_of_lines_of_context,\n",
      "                          ^^^^^^^^^^^^^^^^^^^^^^^^^^^^^^^^^^^^^^^^^^^^^^^^^^^^^^^^^^^^^^^^^^^^^^^^^^^^^^^^\n",
      "  File \"C:\\Users\\Bruger\\AppData\\Roaming\\Python\\Python311\\site-packages\\IPython\\core\\ultratb.py\", line 818, in format_exception_as_a_whole\n",
      "    frames.append(self.format_record(r))\n",
      "                  ^^^^^^^^^^^^^^^^^^^^^\n",
      "  File \"C:\\Users\\Bruger\\AppData\\Roaming\\Python\\Python311\\site-packages\\IPython\\core\\ultratb.py\", line 736, in format_record\n",
      "    result += ''.join(_format_traceback_lines(frame_info.lines, Colors, self.has_colors, lvals))\n",
      "                                              ^^^^^^^^^^^^^^^^\n",
      "  File \"C:\\Users\\Bruger\\AppData\\Roaming\\Python\\Python311\\site-packages\\stack_data\\utils.py\", line 144, in cached_property_wrapper\n",
      "    value = obj.__dict__[self.func.__name__] = self.func(obj)\n",
      "                                               ^^^^^^^^^^^^^^\n",
      "  File \"C:\\Users\\Bruger\\AppData\\Roaming\\Python\\Python311\\site-packages\\stack_data\\core.py\", line 734, in lines\n",
      "    pieces = self.included_pieces\n",
      "             ^^^^^^^^^^^^^^^^^^^^\n",
      "  File \"C:\\Users\\Bruger\\AppData\\Roaming\\Python\\Python311\\site-packages\\stack_data\\utils.py\", line 144, in cached_property_wrapper\n",
      "    value = obj.__dict__[self.func.__name__] = self.func(obj)\n",
      "                                               ^^^^^^^^^^^^^^\n",
      "  File \"C:\\Users\\Bruger\\AppData\\Roaming\\Python\\Python311\\site-packages\\stack_data\\core.py\", line 681, in included_pieces\n",
      "    pos = scope_pieces.index(self.executing_piece)\n",
      "                             ^^^^^^^^^^^^^^^^^^^^\n",
      "  File \"C:\\Users\\Bruger\\AppData\\Roaming\\Python\\Python311\\site-packages\\stack_data\\utils.py\", line 144, in cached_property_wrapper\n",
      "    value = obj.__dict__[self.func.__name__] = self.func(obj)\n",
      "                                               ^^^^^^^^^^^^^^\n",
      "  File \"C:\\Users\\Bruger\\AppData\\Roaming\\Python\\Python311\\site-packages\\stack_data\\core.py\", line 660, in executing_piece\n",
      "    return only(\n",
      "           ^^^^^\n",
      "  File \"C:\\Users\\Bruger\\AppData\\Roaming\\Python\\Python311\\site-packages\\executing\\executing.py\", line 190, in only\n",
      "    raise NotOneValueFound('Expected one value, found 0')\n",
      "executing.executing.NotOneValueFound: Expected one value, found 0\n"
     ]
    },
    {
     "data": {
      "text/plain": [
       "               source            target   value\n",
       "0     Petunia Dursley    Vernon Dursley   67629\n",
       "1      Dudley Dursley    Vernon Dursley   30647\n",
       "2      Dudley Dursley   Petunia Dursley  104637\n",
       "3        Harry Potter    Vernon Dursley   30959\n",
       "4        Harry Potter   Petunia Dursley  104646\n",
       "..                ...               ...     ...\n",
       "401    George Weasley     Poppy Pomfrey  100216\n",
       "402    Nicolas Flamel  Perenelle Flamel  100608\n",
       "403  Albus Dumbledore  Helena Ravenclaw  103872\n",
       "404    Ronald Weasley    Vernon Dursley  104671\n",
       "405  Hermione Granger    Vernon Dursley  104732\n",
       "\n",
       "[406 rows x 3 columns]"
      ]
     },
     "execution_count": 35,
     "metadata": {},
     "output_type": "execute_result"
    }
   ],
   "source": [
    "# with pandas\n",
    "data = pd.read_csv(path, ',')\n",
    "data"
   ]
  },
  {
   "cell_type": "code",
   "execution_count": null,
   "id": "0ce53d51",
   "metadata": {},
   "outputs": [
    {
     "data": {
      "text/plain": [
       "source    0\n",
       "target    0\n",
       "value     0\n",
       "dtype: int64"
      ]
     },
     "execution_count": 36,
     "metadata": {},
     "output_type": "execute_result"
    }
   ],
   "source": [
    "data.isnull().sum()"
   ]
  },
  {
   "cell_type": "code",
   "execution_count": null,
   "id": "687052be",
   "metadata": {},
   "outputs": [
    {
     "name": "stdout",
     "output_type": "stream",
     "text": [
      "<class 'pandas.core.frame.DataFrame'>\n",
      "RangeIndex: 406 entries, 0 to 405\n",
      "Data columns (total 3 columns):\n",
      " #   Column  Non-Null Count  Dtype \n",
      "---  ------  --------------  ----- \n",
      " 0   source  406 non-null    object\n",
      " 1   target  406 non-null    object\n",
      " 2   value   406 non-null    int64 \n",
      "dtypes: int64(1), object(2)\n",
      "memory usage: 9.6+ KB\n"
     ]
    }
   ],
   "source": [
    "data.info()"
   ]
  },
  {
   "cell_type": "code",
   "execution_count": null,
   "id": "09c15bb6",
   "metadata": {},
   "outputs": [],
   "source": [
    "datay = data.replace({np.nan: None})"
   ]
  },
  {
   "cell_type": "code",
   "execution_count": null,
   "id": "b08b0200",
   "metadata": {},
   "outputs": [
    {
     "name": "stdout",
     "output_type": "stream",
     "text": [
      "Unexpected exception formatting exception. Falling back to standard exception\n"
     ]
    },
    {
     "name": "stderr",
     "output_type": "stream",
     "text": [
      "Traceback (most recent call last):\n",
      "  File \"C:\\Users\\Bruger\\AppData\\Roaming\\Python\\Python311\\site-packages\\IPython\\core\\formatters.py\", line 221, in catch_format_error\n",
      "    r = method(self, *args, **kwargs)\n",
      "        ^^^^^^^^^^^^^^^^^^^^^^^^^^^^^\n",
      "  File \"C:\\Users\\Bruger\\AppData\\Roaming\\Python\\Python311\\site-packages\\IPython\\core\\formatters.py\", line 342, in __call__\n",
      "    return method()\n",
      "           ^^^^^^^^\n",
      "  File \"c:\\Users\\Bruger\\AppData\\Local\\Programs\\Python\\Python311\\Lib\\site-packages\\pandas\\core\\frame.py\", line 1106, in _repr_html_\n",
      "  File \"c:\\Users\\Bruger\\AppData\\Local\\Programs\\Python\\Python311\\Lib\\site-packages\\pandas\\io\\formats\\format.py\", line 1110, in to_html\n",
      "    When formatting an Index subclass\n",
      "             ^^^^^^^^^^^^^^^^^^^^^^^^^\n",
      "  File \"c:\\Users\\Bruger\\AppData\\Local\\Programs\\Python\\Python311\\Lib\\site-packages\\pandas\\io\\formats\\html.py\", line 88, in to_string\n",
      "    lines = self.render()\n",
      "            ^^^^^^^^^^^^^\n",
      "  File \"c:\\Users\\Bruger\\AppData\\Local\\Programs\\Python\\Python311\\Lib\\site-packages\\pandas\\io\\formats\\html.py\", line 644, in render\n",
      "    super().render()\n",
      "  File \"c:\\Users\\Bruger\\AppData\\Local\\Programs\\Python\\Python311\\Lib\\site-packages\\pandas\\io\\formats\\html.py\", line 94, in render\n",
      "    self._write_table()\n",
      "  File \"c:\\Users\\Bruger\\AppData\\Local\\Programs\\Python\\Python311\\Lib\\site-packages\\pandas\\io\\formats\\html.py\", line 267, in _write_table\n",
      "    self._write_header(indent + self.indent_delta)\n",
      "  File \"c:\\Users\\Bruger\\AppData\\Local\\Programs\\Python\\Python311\\Lib\\site-packages\\pandas\\io\\formats\\html.py\", line 403, in _write_header\n",
      "    self._write_col_header(indent + self.indent_delta)\n",
      "  File \"c:\\Users\\Bruger\\AppData\\Local\\Programs\\Python\\Python311\\Lib\\site-packages\\pandas\\io\\formats\\html.py\", line 383, in _write_col_header\n",
      "    row.extend(self._get_columns_formatted_values())\n",
      "               ^^^^^^^^^^^^^^^^^^^^^^^^^^^^^^^^^^^^\n",
      "  File \"c:\\Users\\Bruger\\AppData\\Local\\Programs\\Python\\Python311\\Lib\\site-packages\\pandas\\io\\formats\\html.py\", line 611, in _get_columns_formatted_values\n",
      "    return self.columns._format_flat(include_name=False)\n",
      "           ^^^^^^^^^^^^^^^^^^^^^^^^^\n",
      "AttributeError: 'Index' object has no attribute '_format_flat'\n",
      "\n",
      "During handling of the above exception, another exception occurred:\n",
      "\n",
      "Traceback (most recent call last):\n",
      "  File \"C:\\Users\\Bruger\\AppData\\Roaming\\Python\\Python311\\site-packages\\IPython\\core\\interactiveshell.py\", line 2057, in showtraceback\n",
      "    stb = self.InteractiveTB.structured_traceback(\n",
      "          ^^^^^^^^^^^^^^^^^^^^^^^^^^^^^^^^^^^^^^^^\n",
      "  File \"C:\\Users\\Bruger\\AppData\\Roaming\\Python\\Python311\\site-packages\\IPython\\core\\ultratb.py\", line 1118, in structured_traceback\n",
      "    return FormattedTB.structured_traceback(\n",
      "           ^^^^^^^^^^^^^^^^^^^^^^^^^^^^^^^^^\n",
      "  File \"C:\\Users\\Bruger\\AppData\\Roaming\\Python\\Python311\\site-packages\\IPython\\core\\ultratb.py\", line 1012, in structured_traceback\n",
      "    return VerboseTB.structured_traceback(\n",
      "           ^^^^^^^^^^^^^^^^^^^^^^^^^^^^^^^\n",
      "  File \"C:\\Users\\Bruger\\AppData\\Roaming\\Python\\Python311\\site-packages\\IPython\\core\\ultratb.py\", line 865, in structured_traceback\n",
      "    formatted_exception = self.format_exception_as_a_whole(etype, evalue, etb, number_of_lines_of_context,\n",
      "                          ^^^^^^^^^^^^^^^^^^^^^^^^^^^^^^^^^^^^^^^^^^^^^^^^^^^^^^^^^^^^^^^^^^^^^^^^^^^^^^^^\n",
      "  File \"C:\\Users\\Bruger\\AppData\\Roaming\\Python\\Python311\\site-packages\\IPython\\core\\ultratb.py\", line 818, in format_exception_as_a_whole\n",
      "    frames.append(self.format_record(r))\n",
      "                  ^^^^^^^^^^^^^^^^^^^^^\n",
      "  File \"C:\\Users\\Bruger\\AppData\\Roaming\\Python\\Python311\\site-packages\\IPython\\core\\ultratb.py\", line 736, in format_record\n",
      "    result += ''.join(_format_traceback_lines(frame_info.lines, Colors, self.has_colors, lvals))\n",
      "                                              ^^^^^^^^^^^^^^^^\n",
      "  File \"C:\\Users\\Bruger\\AppData\\Roaming\\Python\\Python311\\site-packages\\stack_data\\utils.py\", line 144, in cached_property_wrapper\n",
      "    value = obj.__dict__[self.func.__name__] = self.func(obj)\n",
      "                                               ^^^^^^^^^^^^^^\n",
      "  File \"C:\\Users\\Bruger\\AppData\\Roaming\\Python\\Python311\\site-packages\\stack_data\\core.py\", line 734, in lines\n",
      "    pieces = self.included_pieces\n",
      "             ^^^^^^^^^^^^^^^^^^^^\n",
      "  File \"C:\\Users\\Bruger\\AppData\\Roaming\\Python\\Python311\\site-packages\\stack_data\\utils.py\", line 144, in cached_property_wrapper\n",
      "    value = obj.__dict__[self.func.__name__] = self.func(obj)\n",
      "                                               ^^^^^^^^^^^^^^\n",
      "  File \"C:\\Users\\Bruger\\AppData\\Roaming\\Python\\Python311\\site-packages\\stack_data\\core.py\", line 681, in included_pieces\n",
      "    pos = scope_pieces.index(self.executing_piece)\n",
      "                             ^^^^^^^^^^^^^^^^^^^^\n",
      "  File \"C:\\Users\\Bruger\\AppData\\Roaming\\Python\\Python311\\site-packages\\stack_data\\utils.py\", line 144, in cached_property_wrapper\n",
      "    value = obj.__dict__[self.func.__name__] = self.func(obj)\n",
      "                                               ^^^^^^^^^^^^^^\n",
      "  File \"C:\\Users\\Bruger\\AppData\\Roaming\\Python\\Python311\\site-packages\\stack_data\\core.py\", line 660, in executing_piece\n",
      "    return only(\n",
      "           ^^^^^\n",
      "  File \"C:\\Users\\Bruger\\AppData\\Roaming\\Python\\Python311\\site-packages\\executing\\executing.py\", line 190, in only\n",
      "    raise NotOneValueFound('Expected one value, found 0')\n",
      "executing.executing.NotOneValueFound: Expected one value, found 0\n"
     ]
    },
    {
     "data": {
      "text/plain": [
       "                 source                target  value\n",
       "196        Harry Potter                Peeves  92920\n",
       "132       Gregory Goyle          Harry Potter  75359\n",
       "118    Alberic Grunnion  Hengist of Woodcroft  35543\n",
       "145  Neville Longbottom                Trevor  92348\n",
       "198  Neville Longbottom                Peeves  44475"
      ]
     },
     "execution_count": 39,
     "metadata": {},
     "output_type": "execute_result"
    }
   ],
   "source": [
    "datay.sample(5)"
   ]
  },
  {
   "cell_type": "code",
   "execution_count": null,
   "id": "c12fdfcc",
   "metadata": {},
   "outputs": [],
   "source": [
    "create_rel = \"\"\"\n",
    "    MERGE (s:Character{name:$source})\n",
    "    MERGE (t:Character{name:$target})\n",
    "    MERGE (s)-[r:INTERACTS]-(t)\n",
    "    SET r.weight = $value\n",
    "\"\"\"    "
   ]
  },
  {
   "cell_type": "code",
   "execution_count": null,
   "id": "ecbcbc40",
   "metadata": {},
   "outputs": [],
   "source": [
    "# Execute transaction\n",
    "for index, row in datay.iterrows():\n",
    "    response = write_query(create_rel, \n",
    "                           params = {'source':row['source'], 'target':row['target'], 'value':row['value']})"
   ]
  },
  {
   "cell_type": "markdown",
   "id": "a0cf3af1",
   "metadata": {},
   "source": [
    "## Query the Database"
   ]
  },
  {
   "cell_type": "markdown",
   "id": "661d6b9d",
   "metadata": {},
   "source": [
    "To enable permissions for running the algorithms on the localmachine, aadd this line to your config file:\n",
    "__dbms.security.procedures.unrestricted=jwt.security.*, apoc.*, gds.*__"
   ]
  },
  {
   "cell_type": "code",
   "execution_count": null,
   "id": "5c2b8ef2",
   "metadata": {},
   "outputs": [],
   "source": [
    "def read_gds(query, params=None):\n",
    "    with driver.session() as session:\n",
    "        result = session.run(query, params)\n",
    "        return pd.DataFrame([r.values() for r in result], columns=result.keys())"
   ]
  },
  {
   "cell_type": "markdown",
   "id": "1fae82de",
   "metadata": {},
   "source": [
    "### Community Detection"
   ]
  },
  {
   "cell_type": "code",
   "execution_count": null,
   "id": "c9f9946f",
   "metadata": {},
   "outputs": [],
   "source": [
    "# create a projection\n",
    "query = \"\"\"\n",
    "    CALL gds.graph.project('dor', 'Character', {INTERACTS:{orientation:'UNDIRECTED'}})\n",
    "    YIELD nodeId, score\n",
    "    RETURN gds.util.asNode(nodeId).name AS title, score AS rank\n",
    "    ORDER BY rank DESCENDING, title LIMIT 5\n",
    "\"\"\""
   ]
  },
  {
   "cell_type": "code",
   "execution_count": null,
   "id": "24ff231a",
   "metadata": {},
   "outputs": [],
   "source": [
    "response = read_gds(query)\n",
    "response"
   ]
  },
  {
   "cell_type": "code",
   "execution_count": null,
   "id": "afda1d00",
   "metadata": {},
   "outputs": [],
   "source": [
    "query = \"\"\"\n",
    "    CALL gds.louvain.stream('dom')\n",
    "    YIELD nodeId, communityId, intermediateCommunityIds\n",
    "    RETURN gds.util.asNode(nodeId).name AS name, communityId\n",
    "    ORDER BY communityId ASC LIMIT 15\n",
    "\"\"\""
   ]
  },
  {
   "cell_type": "code",
   "execution_count": null,
   "id": "fbab07b4",
   "metadata": {},
   "outputs": [],
   "source": [
    "# writes the calculated community coeficients as parameters of the nodes\n",
    "response = read_gds(query)\n",
    "response"
   ]
  },
  {
   "cell_type": "markdown",
   "id": "fe8ada56",
   "metadata": {},
   "source": [
    "### Degree Centrality"
   ]
  },
  {
   "cell_type": "code",
   "execution_count": null,
   "id": "a3bf2709",
   "metadata": {},
   "outputs": [],
   "source": [
    "query = \"\"\"\n",
    "    CALL gds.degree.stream('dor')\n",
    "    YIELD nodeId, score\n",
    "    RETURN gds.util.asNode(nodeId).name AS title, score AS connections\n",
    "    ORDER BY rank DESCENDING, title LIMIT 5\n",
    "\"\"\""
   ]
  },
  {
   "cell_type": "code",
   "execution_count": null,
   "id": "f15162f3",
   "metadata": {},
   "outputs": [],
   "source": [
    "response = read_gds(query)\n",
    "response"
   ]
  },
  {
   "cell_type": "markdown",
   "id": "137799e5",
   "metadata": {},
   "source": [
    "### Page Rank"
   ]
  },
  {
   "cell_type": "code",
   "execution_count": null,
   "id": "154da59c",
   "metadata": {},
   "outputs": [],
   "source": [
    "# create projection\n",
    "query = '''\n",
    "CALL gds.graph.project(\n",
    "  'dom',\n",
    "  'Character',\n",
    "  'INTERACTS',\n",
    "  {\n",
    "    relationshipProperties: 'weight'\n",
    "  }\n",
    ")\n",
    "'''"
   ]
  },
  {
   "cell_type": "code",
   "execution_count": null,
   "id": "4174be99",
   "metadata": {},
   "outputs": [],
   "source": [
    "response = read_gds(query)\n",
    "response"
   ]
  },
  {
   "cell_type": "code",
   "execution_count": null,
   "id": "f3d78597",
   "metadata": {},
   "outputs": [],
   "source": [
    "query = \"\"\"\n",
    "    CALL gds.pageRank.stream('dom')\n",
    "    YIELD nodeId, score\n",
    "    RETURN gds.util.asNode(nodeId).title AS title, score\n",
    "    ORDER BY score DESC\n",
    "\"\"\""
   ]
  },
  {
   "cell_type": "code",
   "execution_count": null,
   "id": "c2d0c79d",
   "metadata": {},
   "outputs": [],
   "source": [
    "response = read_gds(query)\n",
    "response"
   ]
  },
  {
   "cell_type": "markdown",
   "id": "0322e95f",
   "metadata": {},
   "source": [
    "### Shortest Path"
   ]
  },
  {
   "cell_type": "code",
   "execution_count": null,
   "id": "c921d5f4",
   "metadata": {},
   "outputs": [],
   "source": [
    "# create projection\n",
    "query = '''\n",
    "CALL gds.graph.project(\n",
    "    'pat',\n",
    "    'Character',\n",
    "    'INTERACTS',\n",
    "    {\n",
    "        relationshipProperties: 'weight'\n",
    "    }\n",
    ")\n",
    "'''"
   ]
  },
  {
   "cell_type": "code",
   "execution_count": null,
   "id": "0065dbae",
   "metadata": {},
   "outputs": [],
   "source": [
    "response = read_gds(query)\n",
    "response"
   ]
  },
  {
   "cell_type": "code",
   "execution_count": null,
   "id": "50bc8508",
   "metadata": {},
   "outputs": [],
   "source": [
    "query = \"\"\"\n",
    "    MATCH (source:Character {title: 'Harry Potter'}), (target:Character {title: 'Albus Dumbledore'})\n",
    "    CALL gds.shortestPath.dijkstra.stream('pat', \n",
    "    {\n",
    "        sourceNode: source,\n",
    "        targetNode: target,\n",
    "        relationshipWeightProperty: 'weight'\n",
    "    })\n",
    "    YIELD index, sourceNode, targetNode, totalCost, nodeIds, costs, path\n",
    "    RETURN\n",
    "        index,\n",
    "        gds.util.asNode(sourceNode).title AS sourceNodeName,\n",
    "        gds.util.asNode(targetNode).title AS targetNodeName,\n",
    "        totalCost,\n",
    "        [nodeId IN nodeIds | gds.util.asNode(nodeId).title] AS nodeNames,\n",
    "        costs,\n",
    "        nodes(path) as path\n",
    "    ORDER BY index\n",
    "\"\"\""
   ]
  },
  {
   "cell_type": "code",
   "execution_count": null,
   "id": "5435086b",
   "metadata": {},
   "outputs": [],
   "source": [
    "response = read_gds(query)\n",
    "response"
   ]
  },
  {
   "cell_type": "code",
   "execution_count": null,
   "id": "2fd5581c",
   "metadata": {},
   "outputs": [],
   "source": []
  },
  {
   "cell_type": "code",
   "execution_count": null,
   "id": "1d6d6418",
   "metadata": {},
   "outputs": [],
   "source": []
  }
 ],
 "metadata": {
  "kernelspec": {
   "display_name": "Python 3 (ipykernel)",
   "language": "python",
   "name": "python3"
  },
  "language_info": {
   "codemirror_mode": {
    "name": "ipython",
    "version": 3
   },
   "file_extension": ".py",
   "mimetype": "text/x-python",
   "name": "python",
   "nbconvert_exporter": "python",
   "pygments_lexer": "ipython3",
   "version": "3.11.1"
  }
 },
 "nbformat": 4,
 "nbformat_minor": 5
}
