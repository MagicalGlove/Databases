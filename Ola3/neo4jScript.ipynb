{
 "cells": [
  {
   "cell_type": "markdown",
   "id": "d07c6275",
   "metadata": {},
   "source": [
    "# Creating and  Using Graph DB in Python Application"
   ]
  },
  {
   "cell_type": "markdown",
   "id": "5d2636ee",
   "metadata": {},
   "source": [
    "## Prepare the Environment"
   ]
  },
  {
   "cell_type": "code",
   "execution_count": 184,
   "id": "37e9ddf2",
   "metadata": {},
   "outputs": [
    {
     "name": "stdout",
     "output_type": "stream",
     "text": [
      "Requirement already satisfied: neo4j in c:\\users\\bruger\\appdata\\local\\programs\\python\\python311\\lib\\site-packages (5.19.0)\n",
      "Requirement already satisfied: pytz in c:\\users\\bruger\\appdata\\local\\programs\\python\\python311\\lib\\site-packages (from neo4j) (2022.7.1)\n"
     ]
    }
   ],
   "source": [
    "# Try again\n",
    "#!pip install -U neo4j \n",
    "!python -m pip install neo4j"
   ]
  },
  {
   "cell_type": "code",
   "execution_count": 185,
   "id": "46ce6bf9",
   "metadata": {},
   "outputs": [
    {
     "name": "stdout",
     "output_type": "stream",
     "text": [
      "Processing c:\\users\\tdi\\downloads\\neo4j-5.18.0.tar\n"
     ]
    },
    {
     "name": "stderr",
     "output_type": "stream",
     "text": [
      "WARNING: Requirement '/Users/tdi/Downloads/neo4j-5.18.0.tar' looks like a filename, but the file does not exist\n",
      "ERROR: Could not install packages due to an OSError: [Errno 2] No such file or directory: 'C:\\\\Users\\\\tdi\\\\Downloads\\\\neo4j-5.18.0.tar'\n",
      "\n"
     ]
    }
   ],
   "source": [
    "# download the latest Python driver from https://pypi.org/project/neo4j/#files and install it\n",
    "!pip install \"/Users/tdi/Downloads/neo4j-5.18.0.tar\""
   ]
  },
  {
   "cell_type": "code",
   "execution_count": 186,
   "id": "4abb3b0b",
   "metadata": {},
   "outputs": [],
   "source": [
    "from neo4j import GraphDatabase, RoutingControl, basic_auth"
   ]
  },
  {
   "cell_type": "code",
   "execution_count": 187,
   "id": "c9446329",
   "metadata": {},
   "outputs": [],
   "source": [
    "import pandas as pd\n",
    "import numpy as np"
   ]
  },
  {
   "cell_type": "markdown",
   "id": "b0c8b55a",
   "metadata": {},
   "source": [
    "## Setup the Connection to the Database\n",
    "Choose a database server, a database, credentials for accessing it, and use them to configure the driver.\\\n",
    "The driver helps connecting the database and passing the Cypher statements"
   ]
  },
  {
   "cell_type": "code",
   "execution_count": 188,
   "id": "789b9896",
   "metadata": {},
   "outputs": [],
   "source": [
    "# DB URI and authentication\n",
    "URI = \"bolt://localhost:7687\"\n",
    "AUTH = (\"neo4j\",\"Ola3Ola3\")"
   ]
  },
  {
   "cell_type": "code",
   "execution_count": 189,
   "id": "425f14b6",
   "metadata": {},
   "outputs": [],
   "source": [
    "driver = GraphDatabase.driver(URI, auth=AUTH)"
   ]
  },
  {
   "cell_type": "code",
   "execution_count": 190,
   "id": "28cbb451",
   "metadata": {},
   "outputs": [],
   "source": [
    "driver.verify_connectivity()"
   ]
  },
  {
   "cell_type": "markdown",
   "id": "1be487cc",
   "metadata": {},
   "source": [
    "### Query Templates"
   ]
  },
  {
   "cell_type": "markdown",
   "id": "77936962",
   "metadata": {},
   "source": [
    "Execute a Cypher statement by creating a session and using the methods \n",
    "- Session.execute_read() and \n",
    "- Session.execute_write()\n",
    "\n",
    "Do not hardcode or concatenate parameters: \n",
    "- use placeholders and \n",
    "- specify the parameters as keyword arguments"
   ]
  },
  {
   "cell_type": "code",
   "execution_count": 191,
   "id": "700c791a",
   "metadata": {},
   "outputs": [],
   "source": [
    "# template write request\n",
    "def write_query(query, params={}):\n",
    "    with driver.session(database=\"neo4j\") as session:\n",
    "        results = session.execute_write(lambda tx: tx.run(query, params).data())\n",
    "        # response = [record.values()[0] for record in results]\n",
    "        return results"
   ]
  },
  {
   "cell_type": "code",
   "execution_count": 192,
   "id": "c553fb58",
   "metadata": {},
   "outputs": [],
   "source": [
    "# template read request\n",
    "def read_query(query, params={}):\n",
    "    with driver.session(database=\"neo4j\") as session:\n",
    "        results = session.execute_read(lambda tx: tx.run(query, params).data())       \n",
    "        response = [record.values()[0] for record in results]\n",
    "        return response"
   ]
  },
  {
   "cell_type": "markdown",
   "id": "dfc2010e",
   "metadata": {},
   "source": [
    "### File Reading Utilities"
   ]
  },
  {
   "cell_type": "code",
   "execution_count": 193,
   "id": "0524bd19",
   "metadata": {},
   "outputs": [],
   "source": [
    "# Run countries before this\n",
    "\n",
    "community_Wide_2017 = pd.read_csv('./Data/2017_-_Cities_Community_Wide_Emissions.csv')\n",
    "emissions_reduction_2016 = pd.read_csv('./Data/2016_-_Cities_Emissions_Reduction_Targets_20240207.csv')\n",
    "emissions_reduction_2017 = pd.read_csv(\"./Data/2017_-_Cities_Emissions_Reduction_Targets_20240207.csv\")\n",
    "citywide_ghg_2016 = pd.read_csv('./Data/2016_-_Citywide_GHG_Emissions_20240207.csv')\n",
    "climate_risk = pd.read_csv('./Data/2023_Cities_Climate_Risk_and_Vulnerability_Assessments_20240207.csv')"
   ]
  },
  {
   "cell_type": "code",
   "execution_count": 194,
   "id": "563518d3",
   "metadata": {},
   "outputs": [],
   "source": [
    "\n",
    "def fillna_with_mode(series):\n",
    "    # Calculate the mode while ignoring NaN values\n",
    "    mode_series = series.dropna().mode()\n",
    "    if not mode_series.empty:\n",
    "        # If there's at least one mode, use the first one\n",
    "        mode_value = mode_series.iloc[0]\n",
    "    else:\n",
    "        # Fallback strategy if there's no mode\n",
    "        mode_value = \"Some default value\"  # Adjust this as necessary\n",
    "    return series.fillna(mode_value)\n"
   ]
  },
  {
   "cell_type": "code",
   "execution_count": 195,
   "id": "770c5e3c",
   "metadata": {},
   "outputs": [],
   "source": [
    "country = emissions_reduction_2017[[\"Country\",\"Country Location\",\"Region\"]]\n",
    "country = pd.concat([country, emissions_reduction_2016[[\"Country\",\"Country Location\"]]])\n",
    "country = pd.concat([country, community_Wide_2017[[\"Country\",\"Country Location\",\"Region\"]]])\n",
    "country = pd.concat([country, citywide_ghg_2016[[\"Country\",\"Country Location\"]]])\n",
    "\n",
    "climate_risk = climate_risk.rename(columns={\"Country/Area\":\"Country\", \"CDP Region\": \"Region\"})\n",
    "country = pd.concat([country, climate_risk[[\"Country\",\"Region\"]]])\n",
    "country = country.rename(columns = {\"Country\":\"name\", \"Country Location\":\"location\", \"Region\":\"region\"})\n",
    "\n",
    "country['location'] = country.groupby('name')['location'].transform(fillna_with_mode)\n",
    "country['region'] = country.groupby('name')['region'].transform(fillna_with_mode)"
   ]
  },
  {
   "cell_type": "code",
   "execution_count": 196,
   "id": "bce436db",
   "metadata": {},
   "outputs": [],
   "source": [
    "country = country.drop_duplicates(subset= [\"name\"], keep='first').head(1000)\n",
    "country = country.dropna(subset=[\"name\"])\n"
   ]
  },
  {
   "cell_type": "code",
   "execution_count": 197,
   "id": "f0437bb6",
   "metadata": {},
   "outputs": [],
   "source": [
    "city = emissions_reduction_2016[[\"Organisation\", \"Country\", \"Account No\", \"C40\", \"City Location\", \"City Short Name\"]]\n",
    "city =city.rename(columns ={\"Organisation\":\"city_name\", \"Country\": \"country_id\", \"Account No\":\"account_no\", \"City Short Name\": \"city_short_name\", \"City Location\": \"city_location\", \"C40\":\"c40\"})\n",
    "df2 = emissions_reduction_2017[[\"Organisation\", \"Country\", \"Account No\", \"C40\", \"City Location\"]]\n",
    "df2 =df2.rename(columns ={\"Organisation\":\"city_name\", \"Country\": \"country_id\", \"Account No\":\"account_no\",  \"City Location\": \"city_location\", \"C40\":\"c40\"})\n",
    "\n",
    "city = pd.concat([city,df2])\n",
    "\n",
    "city =city.drop_duplicates(\"account_no\")\n",
    "city[\"c40\"]=city[\"c40\"]==\"C40\"\n",
    "\n"
   ]
  },
  {
   "cell_type": "code",
   "execution_count": 198,
   "id": "e7aecc1c",
   "metadata": {},
   "outputs": [],
   "source": [
    "\n",
    "for index, row in community_Wide_2017.iterrows():\n",
    "    if row[\"Account number\"] in city[\"account_no\"].values:\n",
    "        city.loc[city[\"account_no\"] == row[\"Account number\"], \"land_area\"] = row[\"​Land area (in square km)\"]\n",
    "        city.loc[city[\"account_no\"] == row[\"Account number\"], \"average_altitude\"] = row[\"​Average altitude (m)\"]\n",
    "\n",
    "    else:\n",
    "        _row = pd.DataFrame({\"city_name\": [row[\"Organization\"]],\"country_id\": [row[\"Country\"]], \"account_no\": [row[\"Account number\"]],\n",
    "                             \"city_short_name\": [row[\"City\"]], \"c40\": [row[\"C40\"]]==\"C40\", \"city_location\": row[[\"City Location\"]], \"average_altitude\": row[\"​Average altitude (m)\"], \"land_area\": row[\"​Land area (in square km)\"]})\n",
    "        city = pd.concat([city, _row], ignore_index = True)"
   ]
  },
  {
   "cell_type": "code",
   "execution_count": 199,
   "id": "b7b56d1c",
   "metadata": {},
   "outputs": [],
   "source": [
    "for index, row in citywide_ghg_2016.iterrows():\n",
    "    if row[\"Account Number\"] in city[\"account_no\"].values:\n",
    "        city.loc[city[\"account_no\"] == row[\"Account Number\"], \"land_area\"] = row[\"​Land area (in square km)\"]\n",
    "        city.loc[city[\"account_no\"] == row[\"Account Number\"], \"average_altitude\"] = row[\"Average altitude (m)\"]\n",
    "\n",
    "    else:\n",
    "        _row = pd.DataFrame({\"city_name\": [row[\"City Name\"]],\"country_id\": [row[\"Country\"]], \"account_no\": [row[\"Account Number\"]],\n",
    "                             \"city_short_name\": [row[\"City Short Name\"]], \"c40\": [row[\"C40\"]]==\"C40\", \"city_location\": row[[\"City Location\"]], \"average_altitude\": row[\"Average altitude (m)\"], \"land_area\": row[\"​Land area (in square km)\"]})\n",
    "        city = pd.concat([city, _row], ignore_index = True)"
   ]
  },
  {
   "cell_type": "code",
   "execution_count": 200,
   "id": "df379f08",
   "metadata": {},
   "outputs": [],
   "source": [
    "city[\"gcom\"] = None\n",
    "for index, row in climate_risk.iterrows():\n",
    "    if row[\"Organization Number\"] in city[\"account_no\"].values:\n",
    "        city.loc[city[\"account_no\"] == row[\"Organization Number\"], \"gcom\"] = row[\"GCoM City\"]\n",
    "    else:\n",
    "        _row = pd.DataFrame({\"city_name\": [row[\"Organization Name\"]],\"country_id\": [row[\"Country\"]], \"account_no\": [row[\"Organization Number\"]],\n",
    "                             \"city_short_name\": [row[\"City\"]], \"c40\": [row[\"C40 City\"]], \"city_location\": row[[\"City Location\"]], \"gcom\": [row[\"GCoM City\"]]})\n",
    "        city = pd.concat([city, _row], ignore_index = True)\n"
   ]
  },
  {
   "cell_type": "code",
   "execution_count": 201,
   "id": "00acf69a",
   "metadata": {},
   "outputs": [
    {
     "data": {
      "text/plain": [
       "Questionnaire                                                         0\n",
       "Organization Number                                                   0\n",
       "Organization Name                                                     0\n",
       "City                                                                439\n",
       "Country                                                               0\n",
       "Region                                                                0\n",
       "C40 City                                                              0\n",
       "GCoM City                                                             0\n",
       "Access                                                                0\n",
       "Assessment attachment and/or direct link                             37\n",
       "Confirm attachment/link provided                                      0\n",
       "Boundary of assessment relative to jurisdiction boundary             12\n",
       "Year of publication or approval                                      26\n",
       "Factors considered in assessment                                     51\n",
       "Primary author(s) of assessment                                      50\n",
       "Does the city have adaptation goal(s) and/or an adaptation plan?      0\n",
       "Population                                                            0\n",
       "Population Year                                                       8\n",
       "City Location                                                       570\n",
       "Last update                                                           0\n",
       "dtype: int64"
      ]
     },
     "execution_count": 201,
     "metadata": {},
     "output_type": "execute_result"
    }
   ],
   "source": [
    "community_Wide_2017.isnull().sum()\n",
    "emissions_reduction_2016.isnull().sum()\n",
    "emissions_reduction_2017.isnull().sum()\n",
    "citywide_ghg_2016.isnull().sum()\n",
    "climate_risk.isnull().sum()"
   ]
  },
  {
   "cell_type": "code",
   "execution_count": 202,
   "id": "a02503bd",
   "metadata": {},
   "outputs": [],
   "source": [
    "#community_Wide_2017.info()\n",
    "#emissions_reduction_2016.info()\n",
    "#emissions_reduction_2017.info()\n",
    "#citywide_ghg_2016.info()\n",
    "#climate_risk.info()"
   ]
  },
  {
   "cell_type": "code",
   "execution_count": 203,
   "id": "a971e982",
   "metadata": {},
   "outputs": [],
   "source": [
    "#datax = data.replace({np.nan: None})"
   ]
  },
  {
   "cell_type": "code",
   "execution_count": 204,
   "id": "b5315f50",
   "metadata": {},
   "outputs": [],
   "source": [
    "#datax.sample(5)"
   ]
  },
  {
   "cell_type": "code",
   "execution_count": 205,
   "id": "264bd927",
   "metadata": {},
   "outputs": [],
   "source": [
    "#datax['house'].tolist()"
   ]
  },
  {
   "cell_type": "markdown",
   "id": "266bb6fc",
   "metadata": {},
   "source": [
    "### Ingest the Data into the Database"
   ]
  },
  {
   "cell_type": "markdown",
   "id": "ff47ad9e",
   "metadata": {},
   "source": [
    "#### Characters"
   ]
  },
  {
   "cell_type": "code",
   "execution_count": 206,
   "id": "a01b3594",
   "metadata": {},
   "outputs": [],
   "source": [
    "create_db = \"\"\"\n",
    "MERGE (c:Country{name:$name})\n",
    "    SET c.location = CASE trim(toString(c.location)) WHEN 'None' THEN null ELSE $location END\n",
    "    SET c.region = CASE trim(toString(c.region)) WHEN 'None' THEN null ELSE $region END\n",
    "\"\"\""
   ]
  },
  {
   "cell_type": "code",
   "execution_count": 207,
   "id": "dd6f8f1b",
   "metadata": {},
   "outputs": [],
   "source": [
    "# Execute transaction\n",
    "for index, row in country.iterrows():\n",
    "    response = write_query(create_db, params = {'name':row['name'], 'location':row['location'], 'region':row['region']})"
   ]
  },
  {
   "cell_type": "code",
   "execution_count": 208,
   "id": "b889cdb9",
   "metadata": {},
   "outputs": [],
   "source": [
    "add_cities = '''\n",
    "    MERGE (c:Country {name:$name})\n",
    "    WITH c\n",
    "    MERGE (g:City {account_no: $account_no, country: c.name}) \n",
    "        SET g.city_name = CASE trim(toString(g.city_name)) WHEN 'None' THEN null ELSE $city_name END\n",
    "        SET g.city_short_name = CASE trim(toString(g.city_short_name)) WHEN 'None' THEN null ELSE $city_short_name END\n",
    "        SET g.c40 = CASE trim(toString(g.c40)) WHEN 'None' THEN null ELSE $c40 END\n",
    "        SET g.city_location = CASE trim(toString(g.city_location)) WHEN 'None' THEN null ELSE $city_location END\n",
    "        SET g.gcom = CASE trim(toString(g.gcom)) WHEN 'None' THEN null ELSE $gcom END\n",
    "    MERGE (g)-[:IS_IN]->(c)\n",
    "    RETURN c\n",
    "'''"
   ]
  },
  {
   "cell_type": "code",
   "execution_count": 209,
   "id": "dd4f84c6",
   "metadata": {},
   "outputs": [
    {
     "name": "stdout",
     "output_type": "stream",
     "text": [
      "       city_name country_id  account_no    c40           city_location  \\\n",
      "50  Tbilisi City    Georgia       50211  False  (41.715138, 44.827096)   \n",
      "\n",
      "   city_short_name  average_altitude  land_area  gcom  \n",
      "50         Tbilisi               NaN        NaN  None  \n"
     ]
    }
   ],
   "source": [
    "print(city.loc[city['country_id'] == \"Georgia\"])"
   ]
  },
  {
   "cell_type": "code",
   "execution_count": 210,
   "id": "b035c9d3",
   "metadata": {},
   "outputs": [],
   "source": [
    "city = city.dropna(subset=\"country_id\")"
   ]
  },
  {
   "cell_type": "code",
   "execution_count": 211,
   "id": "7b05d0e3",
   "metadata": {},
   "outputs": [],
   "source": [
    "\n",
    "# Execute transaction\n",
    "for index, row in city.iterrows():\n",
    "    response = write_query(add_cities, params = {'city_name':row['city_name'], \n",
    "                                                 'city_location':row['city_location'], \n",
    "                                                 'account_no':row['account_no'], \n",
    "                                                 'name':row['country_id'], \n",
    "                                                 'city_short_name':row['city_short_name'], \n",
    "                                                 'c40':row['c40'], \n",
    "                                                 'gcom':row['gcom']})"
   ]
  },
  {
   "cell_type": "code",
   "execution_count": 212,
   "id": "c6fde046",
   "metadata": {},
   "outputs": [],
   "source": [
    "add_country = '''\n",
    "    MERGE (c:Character {title:$title})\n",
    "    WITH c\n",
    "    UNWIND split($loyalty, ',') AS l\n",
    "        MERGE (g:Group {name:l}) \n",
    "        MERGE (c)-[:LOYAL_TO]->(g)\n",
    "    RETURN c\n",
    "'''"
   ]
  },
  {
   "cell_type": "code",
   "execution_count": 213,
   "id": "4ae4cd7f",
   "metadata": {},
   "outputs": [
    {
     "ename": "NameError",
     "evalue": "name 'datax' is not defined",
     "output_type": "error",
     "traceback": [
      "\u001b[1;31m---------------------------------------------------------------------------\u001b[0m",
      "\u001b[1;31mNameError\u001b[0m                                 Traceback (most recent call last)",
      "Cell \u001b[1;32mIn[213], line 2\u001b[0m\n\u001b[0;32m      1\u001b[0m \u001b[38;5;66;03m# Execute transaction\u001b[39;00m\n\u001b[1;32m----> 2\u001b[0m \u001b[38;5;28;01mfor\u001b[39;00m index, row \u001b[38;5;129;01min\u001b[39;00m \u001b[43mdatax\u001b[49m\u001b[38;5;241m.\u001b[39miterrows():\n\u001b[0;32m      3\u001b[0m     response \u001b[38;5;241m=\u001b[39m write_query(add_groups, params \u001b[38;5;241m=\u001b[39m {\u001b[38;5;124m'\u001b[39m\u001b[38;5;124mtitle\u001b[39m\u001b[38;5;124m'\u001b[39m:row[\u001b[38;5;124m'\u001b[39m\u001b[38;5;124mtitle\u001b[39m\u001b[38;5;124m'\u001b[39m], \u001b[38;5;124m'\u001b[39m\u001b[38;5;124mloyalty\u001b[39m\u001b[38;5;124m'\u001b[39m:row[\u001b[38;5;124m'\u001b[39m\u001b[38;5;124mloyalty\u001b[39m\u001b[38;5;124m'\u001b[39m] })\n",
      "\u001b[1;31mNameError\u001b[0m: name 'datax' is not defined"
     ]
    }
   ],
   "source": [
    "# Execute transaction\n",
    "for index, row in datax.iterrows():\n",
    "    response = write_query(add_groups, params = {'title':row['title'], 'loyalty':row['loyalty'] })"
   ]
  },
  {
   "cell_type": "code",
   "execution_count": null,
   "id": "d51ebc2b",
   "metadata": {},
   "outputs": [],
   "source": [
    "add_family = '''\n",
    "    MERGE (c:Character {title:$title})\n",
    "    WITH c\n",
    "    UNWIND split($family, ',') AS f\n",
    "    MERGE (f1:Character {name:f}) \n",
    "    MERGE (c)-[t:IN_FAMILY_WITH]->(f1) \n",
    "    RETURN c\n",
    "'''"
   ]
  },
  {
   "cell_type": "code",
   "execution_count": null,
   "id": "e2297c91",
   "metadata": {},
   "outputs": [],
   "source": [
    "# Execute transaction\n",
    "for index, row in datax.iterrows():\n",
    "    response = write_query(add_family, params = {'title':row['title'], 'family':row['family'] })"
   ]
  },
  {
   "cell_type": "code",
   "execution_count": null,
   "id": "f6254372",
   "metadata": {},
   "outputs": [],
   "source": [
    "add_house = '''\n",
    "    MERGE (c:Character {title:$title})\n",
    "    WITH c\n",
    "    FOREACH (h in CASE WHEN $house IS NOT NULL THEN [1] ELSE [] END | \n",
    "    MERGE (h1:House {name:$house}) \n",
    "    MERGE (c)-[:BELONGS_TO]->(h1)  ) \n",
    "    RETURN c\n",
    "'''"
   ]
  },
  {
   "cell_type": "code",
   "execution_count": null,
   "id": "c342ee1f",
   "metadata": {},
   "outputs": [],
   "source": [
    "# Execute transaction\n",
    "for index, row in datax.iterrows():\n",
    "    response = write_query(add_house, params = {'title':row['title'],'house':row['house']})"
   ]
  },
  {
   "cell_type": "code",
   "execution_count": null,
   "id": "98014834",
   "metadata": {},
   "outputs": [],
   "source": []
  },
  {
   "cell_type": "markdown",
   "id": "814ac336",
   "metadata": {},
   "source": [
    "#### Relations"
   ]
  },
  {
   "cell_type": "code",
   "execution_count": null,
   "id": "7696bbf0",
   "metadata": {},
   "outputs": [],
   "source": [
    "file_name = 'HP-relations-seen.csv'\n",
    "path = data_dir+file_name"
   ]
  },
  {
   "cell_type": "code",
   "execution_count": null,
   "id": "43f71ce2",
   "metadata": {},
   "outputs": [
    {
     "name": "stdout",
     "output_type": "stream",
     "text": [
      "Unexpected exception formatting exception. Falling back to standard exception\n"
     ]
    },
    {
     "name": "stderr",
     "output_type": "stream",
     "text": [
      "C:\\Users\\Bruger\\AppData\\Local\\Temp\\ipykernel_18736\\301918582.py:2: FutureWarning: In a future version of pandas all arguments of read_csv except for the argument 'filepath_or_buffer' will be keyword-only.\n",
      "  data = pd.read_csv(path, ',')\n",
      "Traceback (most recent call last):\n",
      "  File \"C:\\Users\\Bruger\\AppData\\Roaming\\Python\\Python311\\site-packages\\IPython\\core\\formatters.py\", line 221, in catch_format_error\n",
      "    r = method(self, *args, **kwargs)\n",
      "        ^^^^^^^^^^^^^^^^^^^^^^^^^^^^^\n",
      "  File \"C:\\Users\\Bruger\\AppData\\Roaming\\Python\\Python311\\site-packages\\IPython\\core\\formatters.py\", line 342, in __call__\n",
      "    return method()\n",
      "           ^^^^^^^^\n",
      "  File \"c:\\Users\\Bruger\\AppData\\Local\\Programs\\Python\\Python311\\Lib\\site-packages\\pandas\\core\\frame.py\", line 1106, in _repr_html_\n",
      "  File \"c:\\Users\\Bruger\\AppData\\Local\\Programs\\Python\\Python311\\Lib\\site-packages\\pandas\\io\\formats\\format.py\", line 1110, in to_html\n",
      "    When formatting an Index subclass\n",
      "             ^^^^^^^^^^^^^^^^^^^^^^^^^\n",
      "  File \"c:\\Users\\Bruger\\AppData\\Local\\Programs\\Python\\Python311\\Lib\\site-packages\\pandas\\io\\formats\\html.py\", line 88, in to_string\n",
      "    lines = self.render()\n",
      "            ^^^^^^^^^^^^^\n",
      "  File \"c:\\Users\\Bruger\\AppData\\Local\\Programs\\Python\\Python311\\Lib\\site-packages\\pandas\\io\\formats\\html.py\", line 644, in render\n",
      "    super().render()\n",
      "  File \"c:\\Users\\Bruger\\AppData\\Local\\Programs\\Python\\Python311\\Lib\\site-packages\\pandas\\io\\formats\\html.py\", line 94, in render\n",
      "    self._write_table()\n",
      "  File \"c:\\Users\\Bruger\\AppData\\Local\\Programs\\Python\\Python311\\Lib\\site-packages\\pandas\\io\\formats\\html.py\", line 267, in _write_table\n",
      "    self._write_header(indent + self.indent_delta)\n",
      "  File \"c:\\Users\\Bruger\\AppData\\Local\\Programs\\Python\\Python311\\Lib\\site-packages\\pandas\\io\\formats\\html.py\", line 403, in _write_header\n",
      "    self._write_col_header(indent + self.indent_delta)\n",
      "  File \"c:\\Users\\Bruger\\AppData\\Local\\Programs\\Python\\Python311\\Lib\\site-packages\\pandas\\io\\formats\\html.py\", line 383, in _write_col_header\n",
      "    row.extend(self._get_columns_formatted_values())\n",
      "               ^^^^^^^^^^^^^^^^^^^^^^^^^^^^^^^^^^^^\n",
      "  File \"c:\\Users\\Bruger\\AppData\\Local\\Programs\\Python\\Python311\\Lib\\site-packages\\pandas\\io\\formats\\html.py\", line 611, in _get_columns_formatted_values\n",
      "    return self.columns._format_flat(include_name=False)\n",
      "           ^^^^^^^^^^^^^^^^^^^^^^^^^\n",
      "AttributeError: 'Index' object has no attribute '_format_flat'\n",
      "\n",
      "During handling of the above exception, another exception occurred:\n",
      "\n",
      "Traceback (most recent call last):\n",
      "  File \"C:\\Users\\Bruger\\AppData\\Roaming\\Python\\Python311\\site-packages\\IPython\\core\\interactiveshell.py\", line 2057, in showtraceback\n",
      "    stb = self.InteractiveTB.structured_traceback(\n",
      "          ^^^^^^^^^^^^^^^^^^^^^^^^^^^^^^^^^^^^^^^^\n",
      "  File \"C:\\Users\\Bruger\\AppData\\Roaming\\Python\\Python311\\site-packages\\IPython\\core\\ultratb.py\", line 1118, in structured_traceback\n",
      "    return FormattedTB.structured_traceback(\n",
      "           ^^^^^^^^^^^^^^^^^^^^^^^^^^^^^^^^^\n",
      "  File \"C:\\Users\\Bruger\\AppData\\Roaming\\Python\\Python311\\site-packages\\IPython\\core\\ultratb.py\", line 1012, in structured_traceback\n",
      "    return VerboseTB.structured_traceback(\n",
      "           ^^^^^^^^^^^^^^^^^^^^^^^^^^^^^^^\n",
      "  File \"C:\\Users\\Bruger\\AppData\\Roaming\\Python\\Python311\\site-packages\\IPython\\core\\ultratb.py\", line 865, in structured_traceback\n",
      "    formatted_exception = self.format_exception_as_a_whole(etype, evalue, etb, number_of_lines_of_context,\n",
      "                          ^^^^^^^^^^^^^^^^^^^^^^^^^^^^^^^^^^^^^^^^^^^^^^^^^^^^^^^^^^^^^^^^^^^^^^^^^^^^^^^^\n",
      "  File \"C:\\Users\\Bruger\\AppData\\Roaming\\Python\\Python311\\site-packages\\IPython\\core\\ultratb.py\", line 818, in format_exception_as_a_whole\n",
      "    frames.append(self.format_record(r))\n",
      "                  ^^^^^^^^^^^^^^^^^^^^^\n",
      "  File \"C:\\Users\\Bruger\\AppData\\Roaming\\Python\\Python311\\site-packages\\IPython\\core\\ultratb.py\", line 736, in format_record\n",
      "    result += ''.join(_format_traceback_lines(frame_info.lines, Colors, self.has_colors, lvals))\n",
      "                                              ^^^^^^^^^^^^^^^^\n",
      "  File \"C:\\Users\\Bruger\\AppData\\Roaming\\Python\\Python311\\site-packages\\stack_data\\utils.py\", line 144, in cached_property_wrapper\n",
      "    value = obj.__dict__[self.func.__name__] = self.func(obj)\n",
      "                                               ^^^^^^^^^^^^^^\n",
      "  File \"C:\\Users\\Bruger\\AppData\\Roaming\\Python\\Python311\\site-packages\\stack_data\\core.py\", line 734, in lines\n",
      "    pieces = self.included_pieces\n",
      "             ^^^^^^^^^^^^^^^^^^^^\n",
      "  File \"C:\\Users\\Bruger\\AppData\\Roaming\\Python\\Python311\\site-packages\\stack_data\\utils.py\", line 144, in cached_property_wrapper\n",
      "    value = obj.__dict__[self.func.__name__] = self.func(obj)\n",
      "                                               ^^^^^^^^^^^^^^\n",
      "  File \"C:\\Users\\Bruger\\AppData\\Roaming\\Python\\Python311\\site-packages\\stack_data\\core.py\", line 681, in included_pieces\n",
      "    pos = scope_pieces.index(self.executing_piece)\n",
      "                             ^^^^^^^^^^^^^^^^^^^^\n",
      "  File \"C:\\Users\\Bruger\\AppData\\Roaming\\Python\\Python311\\site-packages\\stack_data\\utils.py\", line 144, in cached_property_wrapper\n",
      "    value = obj.__dict__[self.func.__name__] = self.func(obj)\n",
      "                                               ^^^^^^^^^^^^^^\n",
      "  File \"C:\\Users\\Bruger\\AppData\\Roaming\\Python\\Python311\\site-packages\\stack_data\\core.py\", line 660, in executing_piece\n",
      "    return only(\n",
      "           ^^^^^\n",
      "  File \"C:\\Users\\Bruger\\AppData\\Roaming\\Python\\Python311\\site-packages\\executing\\executing.py\", line 190, in only\n",
      "    raise NotOneValueFound('Expected one value, found 0')\n",
      "executing.executing.NotOneValueFound: Expected one value, found 0\n"
     ]
    },
    {
     "data": {
      "text/plain": [
       "               source            target   value\n",
       "0     Petunia Dursley    Vernon Dursley   67629\n",
       "1      Dudley Dursley    Vernon Dursley   30647\n",
       "2      Dudley Dursley   Petunia Dursley  104637\n",
       "3        Harry Potter    Vernon Dursley   30959\n",
       "4        Harry Potter   Petunia Dursley  104646\n",
       "..                ...               ...     ...\n",
       "401    George Weasley     Poppy Pomfrey  100216\n",
       "402    Nicolas Flamel  Perenelle Flamel  100608\n",
       "403  Albus Dumbledore  Helena Ravenclaw  103872\n",
       "404    Ronald Weasley    Vernon Dursley  104671\n",
       "405  Hermione Granger    Vernon Dursley  104732\n",
       "\n",
       "[406 rows x 3 columns]"
      ]
     },
     "execution_count": 35,
     "metadata": {},
     "output_type": "execute_result"
    }
   ],
   "source": [
    "# with pandas\n",
    "data = pd.read_csv(path, ',')\n",
    "data"
   ]
  },
  {
   "cell_type": "code",
   "execution_count": null,
   "id": "0ce53d51",
   "metadata": {},
   "outputs": [
    {
     "data": {
      "text/plain": [
       "source    0\n",
       "target    0\n",
       "value     0\n",
       "dtype: int64"
      ]
     },
     "execution_count": 36,
     "metadata": {},
     "output_type": "execute_result"
    }
   ],
   "source": [
    "data.isnull().sum()"
   ]
  },
  {
   "cell_type": "code",
   "execution_count": null,
   "id": "687052be",
   "metadata": {},
   "outputs": [
    {
     "name": "stdout",
     "output_type": "stream",
     "text": [
      "<class 'pandas.core.frame.DataFrame'>\n",
      "RangeIndex: 406 entries, 0 to 405\n",
      "Data columns (total 3 columns):\n",
      " #   Column  Non-Null Count  Dtype \n",
      "---  ------  --------------  ----- \n",
      " 0   source  406 non-null    object\n",
      " 1   target  406 non-null    object\n",
      " 2   value   406 non-null    int64 \n",
      "dtypes: int64(1), object(2)\n",
      "memory usage: 9.6+ KB\n"
     ]
    }
   ],
   "source": [
    "data.info()"
   ]
  },
  {
   "cell_type": "code",
   "execution_count": null,
   "id": "09c15bb6",
   "metadata": {},
   "outputs": [],
   "source": [
    "datay = data.replace({np.nan: None})"
   ]
  },
  {
   "cell_type": "code",
   "execution_count": null,
   "id": "b08b0200",
   "metadata": {},
   "outputs": [
    {
     "name": "stdout",
     "output_type": "stream",
     "text": [
      "Unexpected exception formatting exception. Falling back to standard exception\n"
     ]
    },
    {
     "name": "stderr",
     "output_type": "stream",
     "text": [
      "Traceback (most recent call last):\n",
      "  File \"C:\\Users\\Bruger\\AppData\\Roaming\\Python\\Python311\\site-packages\\IPython\\core\\formatters.py\", line 221, in catch_format_error\n",
      "    r = method(self, *args, **kwargs)\n",
      "        ^^^^^^^^^^^^^^^^^^^^^^^^^^^^^\n",
      "  File \"C:\\Users\\Bruger\\AppData\\Roaming\\Python\\Python311\\site-packages\\IPython\\core\\formatters.py\", line 342, in __call__\n",
      "    return method()\n",
      "           ^^^^^^^^\n",
      "  File \"c:\\Users\\Bruger\\AppData\\Local\\Programs\\Python\\Python311\\Lib\\site-packages\\pandas\\core\\frame.py\", line 1106, in _repr_html_\n",
      "  File \"c:\\Users\\Bruger\\AppData\\Local\\Programs\\Python\\Python311\\Lib\\site-packages\\pandas\\io\\formats\\format.py\", line 1110, in to_html\n",
      "    When formatting an Index subclass\n",
      "             ^^^^^^^^^^^^^^^^^^^^^^^^^\n",
      "  File \"c:\\Users\\Bruger\\AppData\\Local\\Programs\\Python\\Python311\\Lib\\site-packages\\pandas\\io\\formats\\html.py\", line 88, in to_string\n",
      "    lines = self.render()\n",
      "            ^^^^^^^^^^^^^\n",
      "  File \"c:\\Users\\Bruger\\AppData\\Local\\Programs\\Python\\Python311\\Lib\\site-packages\\pandas\\io\\formats\\html.py\", line 644, in render\n",
      "    super().render()\n",
      "  File \"c:\\Users\\Bruger\\AppData\\Local\\Programs\\Python\\Python311\\Lib\\site-packages\\pandas\\io\\formats\\html.py\", line 94, in render\n",
      "    self._write_table()\n",
      "  File \"c:\\Users\\Bruger\\AppData\\Local\\Programs\\Python\\Python311\\Lib\\site-packages\\pandas\\io\\formats\\html.py\", line 267, in _write_table\n",
      "    self._write_header(indent + self.indent_delta)\n",
      "  File \"c:\\Users\\Bruger\\AppData\\Local\\Programs\\Python\\Python311\\Lib\\site-packages\\pandas\\io\\formats\\html.py\", line 403, in _write_header\n",
      "    self._write_col_header(indent + self.indent_delta)\n",
      "  File \"c:\\Users\\Bruger\\AppData\\Local\\Programs\\Python\\Python311\\Lib\\site-packages\\pandas\\io\\formats\\html.py\", line 383, in _write_col_header\n",
      "    row.extend(self._get_columns_formatted_values())\n",
      "               ^^^^^^^^^^^^^^^^^^^^^^^^^^^^^^^^^^^^\n",
      "  File \"c:\\Users\\Bruger\\AppData\\Local\\Programs\\Python\\Python311\\Lib\\site-packages\\pandas\\io\\formats\\html.py\", line 611, in _get_columns_formatted_values\n",
      "    return self.columns._format_flat(include_name=False)\n",
      "           ^^^^^^^^^^^^^^^^^^^^^^^^^\n",
      "AttributeError: 'Index' object has no attribute '_format_flat'\n",
      "\n",
      "During handling of the above exception, another exception occurred:\n",
      "\n",
      "Traceback (most recent call last):\n",
      "  File \"C:\\Users\\Bruger\\AppData\\Roaming\\Python\\Python311\\site-packages\\IPython\\core\\interactiveshell.py\", line 2057, in showtraceback\n",
      "    stb = self.InteractiveTB.structured_traceback(\n",
      "          ^^^^^^^^^^^^^^^^^^^^^^^^^^^^^^^^^^^^^^^^\n",
      "  File \"C:\\Users\\Bruger\\AppData\\Roaming\\Python\\Python311\\site-packages\\IPython\\core\\ultratb.py\", line 1118, in structured_traceback\n",
      "    return FormattedTB.structured_traceback(\n",
      "           ^^^^^^^^^^^^^^^^^^^^^^^^^^^^^^^^^\n",
      "  File \"C:\\Users\\Bruger\\AppData\\Roaming\\Python\\Python311\\site-packages\\IPython\\core\\ultratb.py\", line 1012, in structured_traceback\n",
      "    return VerboseTB.structured_traceback(\n",
      "           ^^^^^^^^^^^^^^^^^^^^^^^^^^^^^^^\n",
      "  File \"C:\\Users\\Bruger\\AppData\\Roaming\\Python\\Python311\\site-packages\\IPython\\core\\ultratb.py\", line 865, in structured_traceback\n",
      "    formatted_exception = self.format_exception_as_a_whole(etype, evalue, etb, number_of_lines_of_context,\n",
      "                          ^^^^^^^^^^^^^^^^^^^^^^^^^^^^^^^^^^^^^^^^^^^^^^^^^^^^^^^^^^^^^^^^^^^^^^^^^^^^^^^^\n",
      "  File \"C:\\Users\\Bruger\\AppData\\Roaming\\Python\\Python311\\site-packages\\IPython\\core\\ultratb.py\", line 818, in format_exception_as_a_whole\n",
      "    frames.append(self.format_record(r))\n",
      "                  ^^^^^^^^^^^^^^^^^^^^^\n",
      "  File \"C:\\Users\\Bruger\\AppData\\Roaming\\Python\\Python311\\site-packages\\IPython\\core\\ultratb.py\", line 736, in format_record\n",
      "    result += ''.join(_format_traceback_lines(frame_info.lines, Colors, self.has_colors, lvals))\n",
      "                                              ^^^^^^^^^^^^^^^^\n",
      "  File \"C:\\Users\\Bruger\\AppData\\Roaming\\Python\\Python311\\site-packages\\stack_data\\utils.py\", line 144, in cached_property_wrapper\n",
      "    value = obj.__dict__[self.func.__name__] = self.func(obj)\n",
      "                                               ^^^^^^^^^^^^^^\n",
      "  File \"C:\\Users\\Bruger\\AppData\\Roaming\\Python\\Python311\\site-packages\\stack_data\\core.py\", line 734, in lines\n",
      "    pieces = self.included_pieces\n",
      "             ^^^^^^^^^^^^^^^^^^^^\n",
      "  File \"C:\\Users\\Bruger\\AppData\\Roaming\\Python\\Python311\\site-packages\\stack_data\\utils.py\", line 144, in cached_property_wrapper\n",
      "    value = obj.__dict__[self.func.__name__] = self.func(obj)\n",
      "                                               ^^^^^^^^^^^^^^\n",
      "  File \"C:\\Users\\Bruger\\AppData\\Roaming\\Python\\Python311\\site-packages\\stack_data\\core.py\", line 681, in included_pieces\n",
      "    pos = scope_pieces.index(self.executing_piece)\n",
      "                             ^^^^^^^^^^^^^^^^^^^^\n",
      "  File \"C:\\Users\\Bruger\\AppData\\Roaming\\Python\\Python311\\site-packages\\stack_data\\utils.py\", line 144, in cached_property_wrapper\n",
      "    value = obj.__dict__[self.func.__name__] = self.func(obj)\n",
      "                                               ^^^^^^^^^^^^^^\n",
      "  File \"C:\\Users\\Bruger\\AppData\\Roaming\\Python\\Python311\\site-packages\\stack_data\\core.py\", line 660, in executing_piece\n",
      "    return only(\n",
      "           ^^^^^\n",
      "  File \"C:\\Users\\Bruger\\AppData\\Roaming\\Python\\Python311\\site-packages\\executing\\executing.py\", line 190, in only\n",
      "    raise NotOneValueFound('Expected one value, found 0')\n",
      "executing.executing.NotOneValueFound: Expected one value, found 0\n"
     ]
    },
    {
     "data": {
      "text/plain": [
       "                 source                target  value\n",
       "196        Harry Potter                Peeves  92920\n",
       "132       Gregory Goyle          Harry Potter  75359\n",
       "118    Alberic Grunnion  Hengist of Woodcroft  35543\n",
       "145  Neville Longbottom                Trevor  92348\n",
       "198  Neville Longbottom                Peeves  44475"
      ]
     },
     "execution_count": 39,
     "metadata": {},
     "output_type": "execute_result"
    }
   ],
   "source": [
    "datay.sample(5)"
   ]
  },
  {
   "cell_type": "code",
   "execution_count": null,
   "id": "c12fdfcc",
   "metadata": {},
   "outputs": [],
   "source": [
    "create_rel = \"\"\"\n",
    "    MERGE (s:Character{name:$source})\n",
    "    MERGE (t:Character{name:$target})\n",
    "    MERGE (s)-[r:INTERACTS]-(t)\n",
    "    SET r.weight = $value\n",
    "\"\"\"    "
   ]
  },
  {
   "cell_type": "code",
   "execution_count": null,
   "id": "ecbcbc40",
   "metadata": {},
   "outputs": [],
   "source": [
    "# Execute transaction\n",
    "for index, row in datay.iterrows():\n",
    "    response = write_query(create_rel, \n",
    "                           params = {'source':row['source'], 'target':row['target'], 'value':row['value']})"
   ]
  },
  {
   "cell_type": "markdown",
   "id": "a0cf3af1",
   "metadata": {},
   "source": [
    "## Query the Database"
   ]
  },
  {
   "cell_type": "markdown",
   "id": "661d6b9d",
   "metadata": {},
   "source": [
    "To enable permissions for running the algorithms on the localmachine, aadd this line to your config file:\n",
    "__dbms.security.procedures.unrestricted=jwt.security.*, apoc.*, gds.*__"
   ]
  },
  {
   "cell_type": "code",
   "execution_count": null,
   "id": "5c2b8ef2",
   "metadata": {},
   "outputs": [],
   "source": [
    "def read_gds(query, params=None):\n",
    "    with driver.session() as session:\n",
    "        result = session.run(query, params)\n",
    "        return pd.DataFrame([r.values() for r in result], columns=result.keys())"
   ]
  },
  {
   "cell_type": "markdown",
   "id": "1fae82de",
   "metadata": {},
   "source": [
    "### Community Detection"
   ]
  },
  {
   "cell_type": "code",
   "execution_count": null,
   "id": "c9f9946f",
   "metadata": {},
   "outputs": [],
   "source": [
    "# create a projection\n",
    "query = \"\"\"\n",
    "    CALL gds.graph.project('dor', 'Character', {INTERACTS:{orientation:'UNDIRECTED'}})\n",
    "    YIELD nodeId, score\n",
    "    RETURN gds.util.asNode(nodeId).name AS title, score AS rank\n",
    "    ORDER BY rank DESCENDING, title LIMIT 5\n",
    "\"\"\""
   ]
  },
  {
   "cell_type": "code",
   "execution_count": null,
   "id": "24ff231a",
   "metadata": {},
   "outputs": [],
   "source": [
    "response = read_gds(query)\n",
    "response"
   ]
  },
  {
   "cell_type": "code",
   "execution_count": null,
   "id": "afda1d00",
   "metadata": {},
   "outputs": [],
   "source": [
    "query = \"\"\"\n",
    "    CALL gds.louvain.stream('dom')\n",
    "    YIELD nodeId, communityId, intermediateCommunityIds\n",
    "    RETURN gds.util.asNode(nodeId).name AS name, communityId\n",
    "    ORDER BY communityId ASC LIMIT 15\n",
    "\"\"\""
   ]
  },
  {
   "cell_type": "code",
   "execution_count": null,
   "id": "fbab07b4",
   "metadata": {},
   "outputs": [],
   "source": [
    "# writes the calculated community coeficients as parameters of the nodes\n",
    "response = read_gds(query)\n",
    "response"
   ]
  },
  {
   "cell_type": "markdown",
   "id": "fe8ada56",
   "metadata": {},
   "source": [
    "### Degree Centrality"
   ]
  },
  {
   "cell_type": "code",
   "execution_count": null,
   "id": "a3bf2709",
   "metadata": {},
   "outputs": [],
   "source": [
    "query = \"\"\"\n",
    "    CALL gds.degree.stream('dor')\n",
    "    YIELD nodeId, score\n",
    "    RETURN gds.util.asNode(nodeId).name AS title, score AS connections\n",
    "    ORDER BY rank DESCENDING, title LIMIT 5\n",
    "\"\"\""
   ]
  },
  {
   "cell_type": "code",
   "execution_count": null,
   "id": "f15162f3",
   "metadata": {},
   "outputs": [],
   "source": [
    "response = read_gds(query)\n",
    "response"
   ]
  },
  {
   "cell_type": "markdown",
   "id": "137799e5",
   "metadata": {},
   "source": [
    "### Page Rank"
   ]
  },
  {
   "cell_type": "code",
   "execution_count": null,
   "id": "154da59c",
   "metadata": {},
   "outputs": [],
   "source": [
    "# create projection\n",
    "query = '''\n",
    "CALL gds.graph.project(\n",
    "  'dom',\n",
    "  'Character',\n",
    "  'INTERACTS',\n",
    "  {\n",
    "    relationshipProperties: 'weight'\n",
    "  }\n",
    ")\n",
    "'''"
   ]
  },
  {
   "cell_type": "code",
   "execution_count": null,
   "id": "4174be99",
   "metadata": {},
   "outputs": [],
   "source": [
    "response = read_gds(query)\n",
    "response"
   ]
  },
  {
   "cell_type": "code",
   "execution_count": null,
   "id": "f3d78597",
   "metadata": {},
   "outputs": [],
   "source": [
    "query = \"\"\"\n",
    "    CALL gds.pageRank.stream('dom')\n",
    "    YIELD nodeId, score\n",
    "    RETURN gds.util.asNode(nodeId).title AS title, score\n",
    "    ORDER BY score DESC\n",
    "\"\"\""
   ]
  },
  {
   "cell_type": "code",
   "execution_count": null,
   "id": "c2d0c79d",
   "metadata": {},
   "outputs": [],
   "source": [
    "response = read_gds(query)\n",
    "response"
   ]
  },
  {
   "cell_type": "markdown",
   "id": "0322e95f",
   "metadata": {},
   "source": [
    "### Shortest Path"
   ]
  },
  {
   "cell_type": "code",
   "execution_count": null,
   "id": "c921d5f4",
   "metadata": {},
   "outputs": [],
   "source": [
    "# create projection\n",
    "query = '''\n",
    "CALL gds.graph.project(\n",
    "    'pat',\n",
    "    'Character',\n",
    "    'INTERACTS',\n",
    "    {\n",
    "        relationshipProperties: 'weight'\n",
    "    }\n",
    ")\n",
    "'''"
   ]
  },
  {
   "cell_type": "code",
   "execution_count": null,
   "id": "0065dbae",
   "metadata": {},
   "outputs": [],
   "source": [
    "response = read_gds(query)\n",
    "response"
   ]
  },
  {
   "cell_type": "code",
   "execution_count": null,
   "id": "50bc8508",
   "metadata": {},
   "outputs": [],
   "source": [
    "query = \"\"\"\n",
    "    MATCH (source:Character {title: 'Harry Potter'}), (target:Character {title: 'Albus Dumbledore'})\n",
    "    CALL gds.shortestPath.dijkstra.stream('pat', \n",
    "    {\n",
    "        sourceNode: source,\n",
    "        targetNode: target,\n",
    "        relationshipWeightProperty: 'weight'\n",
    "    })\n",
    "    YIELD index, sourceNode, targetNode, totalCost, nodeIds, costs, path\n",
    "    RETURN\n",
    "        index,\n",
    "        gds.util.asNode(sourceNode).title AS sourceNodeName,\n",
    "        gds.util.asNode(targetNode).title AS targetNodeName,\n",
    "        totalCost,\n",
    "        [nodeId IN nodeIds | gds.util.asNode(nodeId).title] AS nodeNames,\n",
    "        costs,\n",
    "        nodes(path) as path\n",
    "    ORDER BY index\n",
    "\"\"\""
   ]
  },
  {
   "cell_type": "code",
   "execution_count": null,
   "id": "5435086b",
   "metadata": {},
   "outputs": [],
   "source": [
    "response = read_gds(query)\n",
    "response"
   ]
  },
  {
   "cell_type": "code",
   "execution_count": null,
   "id": "2fd5581c",
   "metadata": {},
   "outputs": [],
   "source": []
  },
  {
   "cell_type": "code",
   "execution_count": null,
   "id": "1d6d6418",
   "metadata": {},
   "outputs": [],
   "source": []
  }
 ],
 "metadata": {
  "kernelspec": {
   "display_name": "Python 3 (ipykernel)",
   "language": "python",
   "name": "python3"
  },
  "language_info": {
   "codemirror_mode": {
    "name": "ipython",
    "version": 3
   },
   "file_extension": ".py",
   "mimetype": "text/x-python",
   "name": "python",
   "nbconvert_exporter": "python",
   "pygments_lexer": "ipython3",
   "version": "3.11.1"
  }
 },
 "nbformat": 4,
 "nbformat_minor": 5
}
