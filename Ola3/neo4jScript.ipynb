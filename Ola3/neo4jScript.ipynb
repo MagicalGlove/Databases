{
 "cells": [
  {
   "cell_type": "markdown",
   "id": "d07c6275",
   "metadata": {},
   "source": [
    "# Creating and  Using Graph DB in Python Application"
   ]
  },
  {
   "cell_type": "markdown",
   "id": "5d2636ee",
   "metadata": {},
   "source": [
    "## Prepare the Environment"
   ]
  },
  {
   "cell_type": "code",
   "execution_count": null,
   "id": "37e9ddf2",
   "metadata": {
    "metadata": {}
   },
   "outputs": [],
   "source": [
    "# Try again\n",
    "#!pip install -U neo4j \n",
    "!python -m pip install neo4j"
   ]
  },
  {
   "cell_type": "code",
   "execution_count": null,
   "id": "4abb3b0b",
   "metadata": {
    "metadata": {}
   },
   "outputs": [],
   "source": [
    "from neo4j import GraphDatabase, RoutingControl, basic_auth"
   ]
  },
  {
   "cell_type": "code",
   "execution_count": null,
   "id": "c9446329",
   "metadata": {
    "metadata": {}
   },
   "outputs": [],
   "source": [
    "import pandas as pd\n",
    "import numpy as np"
   ]
  },
  {
   "cell_type": "markdown",
   "id": "b0c8b55a",
   "metadata": {},
   "source": [
    "## Setup the Connection to the Database\n",
    "Choose a database server, a database, credentials for accessing it, and use them to configure the driver.\\\n",
    "The driver helps connecting the database and passing the Cypher statements"
   ]
  },
  {
   "cell_type": "code",
   "execution_count": null,
   "id": "789b9896",
   "metadata": {
    "metadata": {}
   },
   "outputs": [],
   "source": [
    "# DB URI and authentication\n",
    "URI = \"bolt://localhost:7687\"\n",
    "AUTH = (\"neo4j\",\"Ola3Ola3\")"
   ]
  },
  {
   "cell_type": "code",
   "execution_count": null,
   "id": "425f14b6",
   "metadata": {
    "metadata": {}
   },
   "outputs": [],
   "source": [
    "driver = GraphDatabase.driver(URI, auth=AUTH)"
   ]
  },
  {
   "cell_type": "code",
   "execution_count": null,
   "id": "28cbb451",
   "metadata": {
    "metadata": {}
   },
   "outputs": [],
   "source": [
    "driver.verify_connectivity()"
   ]
  },
  {
   "cell_type": "markdown",
   "id": "1be487cc",
   "metadata": {},
   "source": [
    "### Query Templates"
   ]
  },
  {
   "cell_type": "markdown",
   "id": "77936962",
   "metadata": {},
   "source": [
    "Execute a Cypher statement by creating a session and using the methods \n",
    "- Session.execute_read() and \n",
    "- Session.execute_write()\n",
    "\n",
    "Do not hardcode or concatenate parameters: \n",
    "- use placeholders and \n",
    "- specify the parameters as keyword arguments"
   ]
  },
  {
   "cell_type": "code",
   "execution_count": null,
   "id": "700c791a",
   "metadata": {},
   "outputs": [],
   "source": [
    "# template write request\n",
    "def write_query(query, params={}):\n",
    "    with driver.session(database=\"neo4j\") as session:\n",
    "        results = session.execute_write(lambda tx: tx.run(query, params).data())\n",
    "        # response = [record.values()[0] for record in results]\n",
    "        return results"
   ]
  },
  {
   "cell_type": "code",
   "execution_count": null,
   "id": "c553fb58",
   "metadata": {},
   "outputs": [],
   "source": [
    "# template read request\n",
    "def read_query(query, params={}):\n",
    "    with driver.session(database=\"neo4j\") as session:\n",
    "        results = session.execute_read(lambda tx: tx.run(query, params).data())       \n",
    "        response = [record.values()[0] for record in results]\n",
    "        return response"
   ]
  },
  {
   "cell_type": "markdown",
   "id": "dfc2010e",
   "metadata": {},
   "source": [
    "### File Reading Utilities"
   ]
  },
  {
   "cell_type": "code",
   "execution_count": null,
   "id": "0524bd19",
   "metadata": {},
   "outputs": [],
   "source": [
    "# Run countries before this\n",
    "\n",
    "community_Wide_2017 = pd.read_csv('./Data/2017_-_Cities_Community_Wide_Emissions.csv')\n",
    "emissions_reduction_2016 = pd.read_csv('./Data/2016_-_Cities_Emissions_Reduction_Targets_20240207.csv')\n",
    "emissions_reduction_2017 = pd.read_csv(\"./Data/2017_-_Cities_Emissions_Reduction_Targets_20240207.csv\")\n",
    "citywide_ghg_2016 = pd.read_csv('./Data/2016_-_Citywide_GHG_Emissions_20240207.csv')\n",
    "climate_risk = pd.read_csv('./Data/2023_Cities_Climate_Risk_and_Vulnerability_Assessments_20240207.csv')"
   ]
  },
  {
   "cell_type": "code",
   "execution_count": null,
   "id": "563518d3",
   "metadata": {},
   "outputs": [],
   "source": [
    "\n",
    "def fillna_with_mode(series):\n",
    "    # Calculate the mode while ignoring NaN values\n",
    "    mode_series = series.dropna().mode()\n",
    "    if not mode_series.empty:\n",
    "        # If there's at least one mode, use the first one\n",
    "        mode_value = mode_series.iloc[0]\n",
    "    else:\n",
    "        # Fallback strategy if there's no mode\n",
    "        mode_value = \"Some default value\"  # Adjust this as necessary\n",
    "    return series.fillna(mode_value)\n"
   ]
  },
  {
   "cell_type": "code",
   "execution_count": null,
   "id": "770c5e3c",
   "metadata": {},
   "outputs": [],
   "source": [
    "country = emissions_reduction_2017[[\"Country\",\"Country Location\",\"Region\"]]\n",
    "country = pd.concat([country, emissions_reduction_2016[[\"Country\",\"Country Location\"]]])\n",
    "country = pd.concat([country, community_Wide_2017[[\"Country\",\"Country Location\",\"Region\"]]])\n",
    "country = pd.concat([country, citywide_ghg_2016[[\"Country\",\"Country Location\"]]])\n",
    "\n",
    "climate_risk = climate_risk.rename(columns={\"Country/Area\":\"Country\", \"CDP Region\": \"Region\"})\n",
    "country = pd.concat([country, climate_risk[[\"Country\",\"Region\"]]])\n",
    "country = country.rename(columns = {\"Country\":\"name\", \"Country Location\":\"location\", \"Region\":\"region\"})\n",
    "\n",
    "country['location'] = country.groupby('name')['location'].transform(fillna_with_mode)\n",
    "country['region'] = country.groupby('name')['region'].transform(fillna_with_mode)"
   ]
  },
  {
   "cell_type": "code",
   "execution_count": null,
   "id": "bce436db",
   "metadata": {},
   "outputs": [],
   "source": [
    "country = country.drop_duplicates(subset= [\"name\"], keep='first').head(1000)\n",
    "country = country.dropna(subset=[\"name\"])\n"
   ]
  },
  {
   "cell_type": "code",
   "execution_count": null,
   "id": "f0437bb6",
   "metadata": {},
   "outputs": [],
   "source": [
    "city = emissions_reduction_2016[[\"Organisation\", \"Country\", \"Account No\", \"C40\", \"City Location\", \"City Short Name\"]]\n",
    "city =city.rename(columns ={\"Organisation\":\"city_name\", \"Country\": \"country_id\", \"Account No\":\"account_no\", \"City Short Name\": \"city_short_name\", \"City Location\": \"city_location\", \"C40\":\"c40\"})\n",
    "df2 = emissions_reduction_2017[[\"Organisation\", \"Country\", \"Account No\", \"C40\", \"City Location\"]]\n",
    "df2 =df2.rename(columns ={\"Organisation\":\"city_name\", \"Country\": \"country_id\", \"Account No\":\"account_no\",  \"City Location\": \"city_location\", \"C40\":\"c40\"})\n",
    "\n",
    "city = pd.concat([city,df2])\n",
    "\n",
    "city =city.drop_duplicates(\"account_no\")\n",
    "city[\"c40\"]=city[\"c40\"]==\"C40\"\n",
    "\n"
   ]
  },
  {
   "cell_type": "code",
   "execution_count": null,
   "id": "e7aecc1c",
   "metadata": {},
   "outputs": [],
   "source": [
    "\n",
    "for index, row in community_Wide_2017.iterrows():\n",
    "    if row[\"Account number\"] in city[\"account_no\"].values:\n",
    "        city.loc[city[\"account_no\"] == row[\"Account number\"], \"land_area\"] = row[\"​Land area (in square km)\"]\n",
    "        city.loc[city[\"account_no\"] == row[\"Account number\"], \"average_altitude\"] = row[\"​Average altitude (m)\"]\n",
    "\n",
    "    else:\n",
    "        _row = pd.DataFrame({\"city_name\": [row[\"Organization\"]],\"country_id\": [row[\"Country\"]], \"account_no\": [row[\"Account number\"]],\n",
    "                             \"city_short_name\": [row[\"City\"]], \"c40\": [row[\"C40\"]]==\"C40\", \"city_location\": row[[\"City Location\"]], \"average_altitude\": row[\"​Average altitude (m)\"], \"land_area\": row[\"​Land area (in square km)\"]})\n",
    "        city = pd.concat([city, _row], ignore_index = True)"
   ]
  },
  {
   "cell_type": "code",
   "execution_count": null,
   "id": "b7b56d1c",
   "metadata": {},
   "outputs": [],
   "source": [
    "for index, row in citywide_ghg_2016.iterrows():\n",
    "    if row[\"Account Number\"] in city[\"account_no\"].values:\n",
    "        city.loc[city[\"account_no\"] == row[\"Account Number\"], \"land_area\"] = row[\"​Land area (in square km)\"]\n",
    "        city.loc[city[\"account_no\"] == row[\"Account Number\"], \"average_altitude\"] = row[\"Average altitude (m)\"]\n",
    "\n",
    "    else:\n",
    "        _row = pd.DataFrame({\"city_name\": [row[\"City Name\"]],\"country_id\": [row[\"Country\"]], \"account_no\": [row[\"Account Number\"]],\n",
    "                             \"city_short_name\": [row[\"City Short Name\"]], \"c40\": [row[\"C40\"]]==\"C40\", \"city_location\": row[[\"City Location\"]], \"average_altitude\": row[\"Average altitude (m)\"], \"land_area\": row[\"​Land area (in square km)\"]})\n",
    "        city = pd.concat([city, _row], ignore_index = True)"
   ]
  },
  {
   "cell_type": "code",
   "execution_count": null,
   "id": "df379f08",
   "metadata": {},
   "outputs": [],
   "source": [
    "city[\"gcom\"] = None\n",
    "for index, row in climate_risk.iterrows():\n",
    "    if row[\"Organization Number\"] in city[\"account_no\"].values:\n",
    "        city.loc[city[\"account_no\"] == row[\"Organization Number\"], \"gcom\"] = row[\"GCoM City\"]\n",
    "    else:\n",
    "        _row = pd.DataFrame({\"city_name\": [row[\"Organization Name\"]],\"country_id\": [row[\"Country\"]], \"account_no\": [row[\"Organization Number\"]],\n",
    "                             \"city_short_name\": [row[\"City\"]], \"c40\": [row[\"C40 City\"]], \"city_location\": row[[\"City Location\"]], \"gcom\": [row[\"GCoM City\"]]})\n",
    "        city = pd.concat([city, _row], ignore_index = True)\n"
   ]
  },
  {
   "cell_type": "code",
   "execution_count": null,
   "id": "4476ecc5",
   "metadata": {},
   "outputs": [],
   "source": [
    "reduction16 = emissions_reduction_2016[[\"Account No\", \n",
    "                                        \"Reporting Year\", \n",
    "                                        \"Target boundary\", \n",
    "                                        \"Baseline year\", \n",
    "                                        \"Baseline emissions (metric tonnes CO2e)\", \n",
    "                                        \"Percentage reduction target\",\n",
    "                                        \"Target date\",\n",
    "                                        \"Comment\"]]\n",
    "\n",
    "#Reduction 17 column \"​Intensity unit (emissions per)\" has a zero width space in front of \"Intensity\" in the csv file. This space is need for it to corretly gather the data from the file\n",
    "reduction17 =  emissions_reduction_2017[[\"Account No\",\n",
    "                                         \"Reporting year\",\n",
    "                                         \"Type of target\",\n",
    "                                         \"Sector\",\n",
    "                                         \"Baseline year\",\n",
    "                                         \"Baseline emissions (metric tonnes CO2e)\",\n",
    "                                         \"Percentage reduction target\",\n",
    "                                         \"Target date\",\n",
    "                                         \"Estimated business as usual absolute emissions in target year (metric tonnes CO2e)\",\n",
    "                                         \"​Intensity unit (emissions per)\",\n",
    "                                         \"Comment\"]]\n",
    "\n",
    "reduction16 = reduction16.rename(columns= {\"Account No\":\"city_id\",\n",
    "                                           \"Reporting Year\":\"reporting_year\",\n",
    "                                           \"Target boundary\":\"target_boundary\",\n",
    "                                           \"Baseline year\":\"baseline_year\",\n",
    "                                           \"Baseline emissions (metric tonnes CO2e)\":\"baseline_emissions\",\n",
    "                                           \"Percentage reduction target\":\"percentage_reduction_target\",\n",
    "                                           \"Target date\":\"target_date\",\n",
    "                                           \"Comment\":\"comment\"})\n",
    "\n",
    "#Reduction 17 column \"​Intensity unit (emissions per)\" has a zero width space in front of \"Intensity\" in the csv file. This space is need for it to corretly gather the data from the file\n",
    "reduction17 = reduction17.rename(columns= {\"Account No\":\"city_id\",\n",
    "                                           \"Reporting year\":\"reporting_year\",\n",
    "                                           \"Target boundary\":\"target_boundary\",\n",
    "                                           \"Baseline year\":\"baseline_year\",\n",
    "                                           \"Baseline emissions (metric tonnes CO2e)\":\"baseline_emissions\",\n",
    "                                           \"Percentage reduction target\":\"percentage_reduction_target\",\n",
    "                                           \"Target date\":\"target_date\",\n",
    "                                           \"Comment\":\"comment\",\n",
    "                                           \"Type of target\":\"type_of_target\",\n",
    "                                           \"Estimated business as usual absolute emissions in target year (metric tonnes CO2e)\":\"estimated_target\",\n",
    "                                           \"Sector\":\"sector\",\n",
    "                                           \"Access\":\"access\",\n",
    "                                           \"​Intensity unit (emissions per)\":\"intensity_unit\"})"
   ]
  },
  {
   "cell_type": "markdown",
   "id": "266bb6fc",
   "metadata": {},
   "source": [
    "### Ingest the Data into the Database"
   ]
  },
  {
   "cell_type": "markdown",
   "id": "ff47ad9e",
   "metadata": {},
   "source": [
    "#### Countries"
   ]
  },
  {
   "cell_type": "code",
   "execution_count": null,
   "id": "a01b3594",
   "metadata": {},
   "outputs": [],
   "source": [
    "create_db = \"\"\"\n",
    "MERGE (c:Country{name:$name})\n",
    "    SET c.location = CASE trim(toString(c.location)) WHEN 'None' THEN null ELSE $location END\n",
    "    SET c.region = CASE trim(toString(c.region)) WHEN 'None' THEN null ELSE $region END\n",
    "\"\"\""
   ]
  },
  {
   "cell_type": "code",
   "execution_count": null,
   "id": "dd6f8f1b",
   "metadata": {},
   "outputs": [],
   "source": [
    "# Execute transaction\n",
    "for index, row in country.iterrows():\n",
    "    response = write_query(create_db, params = {'name':row['name'], 'location':row['location'], 'region':row['region']})"
   ]
  },
  {
   "cell_type": "markdown",
   "id": "96bd3d76",
   "metadata": {},
   "source": [
    "#### Cities"
   ]
  },
  {
   "cell_type": "code",
   "execution_count": null,
   "id": "b889cdb9",
   "metadata": {},
   "outputs": [],
   "source": [
    "add_cities = '''\n",
    "    MERGE (c:Country {name:$name})\n",
    "    WITH c\n",
    "    MERGE (g:City {account_no: $account_no, country: c.name}) \n",
    "        SET g.city_name = CASE trim(toString(g.city_name)) WHEN 'None' THEN null ELSE $city_name END\n",
    "        SET g.city_short_name = CASE trim(toString(g.city_short_name)) WHEN 'None' THEN null ELSE $city_short_name END\n",
    "        SET g.c40 = CASE trim(toString(g.c40)) WHEN 'None' THEN null ELSE $c40 END\n",
    "        SET g.city_location = CASE trim(toString(g.city_location)) WHEN 'None' THEN null ELSE $city_location END\n",
    "        SET g.gcom = CASE trim(toString(g.gcom)) WHEN 'None' THEN null ELSE $gcom END\n",
    "    MERGE (g)-[:IS_IN]->(c)\n",
    "    RETURN c\n",
    "'''"
   ]
  },
  {
   "cell_type": "code",
   "execution_count": null,
   "id": "b035c9d3",
   "metadata": {},
   "outputs": [],
   "source": [
    "city = city.dropna(subset=\"country_id\")"
   ]
  },
  {
   "cell_type": "code",
   "execution_count": null,
   "id": "7b05d0e3",
   "metadata": {},
   "outputs": [],
   "source": [
    "\n",
    "# Execute transaction\n",
    "for index, row in city.iterrows():\n",
    "    response = write_query(add_cities, params = {'city_name':row['city_name'], \n",
    "                                                 'city_location':row['city_location'], \n",
    "                                                 'account_no':row['account_no'], \n",
    "                                                 'name':row['country_id'], \n",
    "                                                 'city_short_name':row['city_short_name'], \n",
    "                                                 'c40':row['c40'], \n",
    "                                                 'gcom':row['gcom']})"
   ]
  },
  {
   "cell_type": "markdown",
   "id": "fccc555b",
   "metadata": {},
   "source": [
    "#### GHG"
   ]
  },
  {
   "cell_type": "code",
   "execution_count": null,
   "id": "027b7559",
   "metadata": {},
   "outputs": [],
   "source": [
    "citywide_ghg_2016 = citywide_ghg_2016.rename(columns ={ \"Account Number\": \"account_no\", \"Reporting Year\": \"reporting_year\",\"Measurement Year\":\"measurement_year\", \"Boundary\": \"boundary\", \"Primary Methodology\": \"primary_methodology\", \"Methodology Details\": \"methodology_details\", \"Gases included\": \"gases\", \"Total City-wide Emissions (metric tonnes CO2e)\": \"total_emissions\", \"Total Scope 1 Emissions (metric tonnes CO2e)\": \"total_scope_1\", \"Total Scope 2 Emissions (metric tonnes CO2e)\": \"total_scope_2\", \"Increase/Decrease from last year\": \"increase_decrease\", \"Reason for increase/decrease in emissions\": \"reason_for_increase\"})"
   ]
  },
  {
   "cell_type": "code",
   "execution_count": null,
   "id": "347079a5",
   "metadata": {},
   "outputs": [],
   "source": [
    "add_ghg = '''\n",
    "    MERGE (g:ghg {city_id:$account_no})\n",
    "        SET g.reporting_year = CASE trim(toString(g.reporting_year)) WHEN 'None' THEN null ELSE $reporting_year END\n",
    "        SET g.measurement_year = CASE trim(toString(g.measurement_year)) WHEN 'None' THEN null ELSE $measurement_year END\n",
    "        SET g.boundary = CASE trim(toString(g.boundary)) WHEN 'None' THEN null ELSE $boundary END\n",
    "        SET g.primary_methodology = CASE trim(toString(g.primary_methodology)) WHEN 'None' THEN null ELSE $primary_methodology END\n",
    "        SET g.methodology_details = CASE trim(toString(g.methodology_details)) WHEN 'None' THEN null ELSE $methodology_details END\n",
    "        SET g.gases = CASE trim(toString(g.gases)) WHEN 'None' THEN null ELSE $gases END\n",
    "        SET g.total_emissions = CASE trim(toString(g.total_emissions)) WHEN 'None' THEN null ELSE $total_emissions END\n",
    "        SET g.total_scope_1 = CASE trim(toString(g.total_scope_1)) WHEN 'None' THEN null ELSE $total_scope_1 END\n",
    "        SET g.total_scope_2 = CASE trim(toString(g.total_scope_2)) WHEN 'None' THEN null ELSE $total_scope_2 END\n",
    "        SET g.increase_decrease = CASE trim(toString(g.increase_decrease)) WHEN 'None' THEN null ELSE $increase_decrease END\n",
    "        SET g.reason_for_increase = CASE trim(toString(g.reason_for_increase)) WHEN 'None' THEN null ELSE $reason_for_increase END\n",
    "    WITH g\n",
    "    MERGE (c:City {account_no: $account_no}) \n",
    "    MERGE (g)-[:FROM]->(c)\n",
    "    RETURN g\n",
    "'''"
   ]
  },
  {
   "cell_type": "code",
   "execution_count": null,
   "id": "e0c63a74",
   "metadata": {},
   "outputs": [],
   "source": [
    "\n",
    "# Execute transaction\n",
    "for index, row in citywide_ghg_2016.iterrows():\n",
    "    response = write_query(add_ghg, params = { \"account_no\": row[\"account_no\"],\n",
    "            \"reporting_year\": row[\"reporting_year\"],\n",
    "            \"measurement_year\":row[\"measurement_year\"],\n",
    "            \"boundary\": row[\"boundary\"],\n",
    "            \"primary_methodology\":row[\"primary_methodology\"],\n",
    "            \"methodology_details\":row[\"methodology_details\"],\n",
    "            \"gases\": row[\"gases\"].split(\";\") if pd.notna(row[\"gases\"]) else [],\n",
    "            \"total_emissions\": row[\"total_emissions\"],\n",
    "            \"total_scope_1\": row[\"total_scope_1\"],\n",
    "            \"total_scope_2\": row[\"total_scope_2\"],\n",
    "            \"increase_decrease\": row[\"increase_decrease\"],\n",
    "            \"reason_for_increase\":row[\"reason_for_increase\"]\n",
    "            })"
   ]
  },
  {
   "cell_type": "markdown",
   "id": "7f91c17d",
   "metadata": {},
   "source": [
    "#### Climate risk"
   ]
  },
  {
   "cell_type": "code",
   "execution_count": null,
   "id": "b99b6c22",
   "metadata": {},
   "outputs": [],
   "source": [
    "climate_risk = climate_risk.rename(columns ={ \"Organization Number\": \"city_id\", \"Primary author(s) of assessment\": \"author\", \"Confirm attachment/link provided\": \"confirmation\",\"Assessment attachment and/or direct link\":\"attachment\", \"Access\": \"is_public\", \"Questionnaire\": \"questionnaire\"})\n",
    "climate_risk[\"is_public\"] = climate_risk[\"is_public\"] == \"public\""
   ]
  },
  {
   "cell_type": "code",
   "execution_count": null,
   "id": "b8fa422c",
   "metadata": {},
   "outputs": [],
   "source": [
    "add_climate_risk = '''\n",
    "    MERGE (r:risk {city_id:$city_id})\n",
    "        SET r.author = CASE trim(toString(r.author)) WHEN 'None' THEN null ELSE $author END\n",
    "        SET r.confirmation = CASE trim(toString(r.confirmation)) WHEN 'None' THEN null ELSE $confirmation END\n",
    "        SET r.attachment = CASE trim(toString(r.attachment)) WHEN 'None' THEN null ELSE $attachment END\n",
    "        SET r.is_public = CASE trim(toString(r.is_public)) WHEN 'None' THEN null ELSE $is_public END\n",
    "        SET r.questionnaire = CASE trim(toString(r.questionnaire)) WHEN 'None' THEN null ELSE $questionnaire END\n",
    "    WITH r\n",
    "    MERGE (c:City {account_no: $city_id})\n",
    "    MERGE (r)-[:FROM]->(c)\n",
    "    RETURN r\n",
    "'''"
   ]
  },
  {
   "cell_type": "code",
   "execution_count": null,
   "id": "98331b78",
   "metadata": {},
   "outputs": [],
   "source": [
    "\n",
    "# Execute transaction\n",
    "for index, row in climate_risk.iterrows():\n",
    "    response = write_query(add_climate_risk, params = { \"city_id\": row[\"city_id\"],\n",
    "            \"author\": row[\"author\"],\n",
    "            \"confirmation\":row[\"confirmation\"],\n",
    "            \"attachment\": row[\"attachment\"],\n",
    "            \"is_public\":row[\"is_public\"],\n",
    "            \"questionnaire\":row[\"questionnaire\"],\n",
    "            })"
   ]
  },
  {
   "cell_type": "markdown",
   "id": "71221c89",
   "metadata": {},
   "source": [
    "#### Community wide"
   ]
  },
  {
   "cell_type": "code",
   "execution_count": null,
   "id": "283ef645",
   "metadata": {
    "metadata": {}
   },
   "outputs": [],
   "source": [
    "community_Wide_2017_subset = community_Wide_2017[[\"Account number\", \"Access\", \"Reporting year\", \"Accounting year\", 'Boundary', \n",
    "                          \"Protocol\",\"Protocol column\", \"Total emissions (metric tonnes CO2e)\", \"Total Scope 1 Emissions (metric tonnes CO2e)\", \"Total Scope 2 Emissions (metric tonnes CO2e)\", \"Comment\", \"Increase/Decrease from last year\", \"Reason for increase/decrease in emissions\"]]\n",
    "\n",
    "community_Wide_2017_subset = community_Wide_2017_subset.rename(columns = {\"Account number\": \"city_id\",\n",
    "                          \"Access\": \"is_public\",\n",
    "                          \"Reporting year\": \"reporting_year\",\n",
    "                          \"Accounting year\": \"accounting_year\",\n",
    "                          'Boundary': \"boundary\", \n",
    "                          \"Protocol\": \"protocol\", \n",
    "                          \"Protocol column\": \"protocol_column\", \n",
    "                          \"Total emissions (metric tonnes CO2e)\": \"total_emissions\",\n",
    "                        \"Total Scope 1 Emissions (metric tonnes CO2e)\": \"total_scope_1_emissions\",\n",
    "                         \"Total Scope 2 Emissions (metric tonnes CO2e)\": \"total_scope_2_emissions\",\n",
    "                        \"Comment\": \"comment\",\n",
    "                        \"Increase/Decrease from last year\": \"increase_or_decrease_last_year\",\n",
    "                        \"Reason for increase/decrease in emissions\": \"reasons_for_increase_or_decrease\"})\n",
    "\n",
    "community_Wide_2017_subset[\"is_public\"] = community_Wide_2017_subset['is_public'] == \"Public\""
   ]
  },
  {
   "cell_type": "code",
   "execution_count": null,
   "id": "f469a7e4",
   "metadata": {},
   "outputs": [],
   "source": [
    "add_community_wide = '''\n",
    "    MERGE (w:community_wide {city_id:$city_id})\n",
    "        SET w.is_public = CASE trim(toString(w.is_public)) WHEN 'None' THEN null ELSE $is_public END\n",
    "        SET w.reporting_year = CASE trim(toString(w.reporting_year)) WHEN 'None' THEN null ELSE $reporting_year END\n",
    "        SET w.accounting_year = CASE trim(toString(w.accounting_year)) WHEN 'None' THEN null ELSE $accounting_year END\n",
    "        SET w.boundary = CASE trim(toString(w.boundary)) WHEN 'None' THEN null ELSE $boundary END\n",
    "        SET w.protocol = CASE trim(toString(w.protocol)) WHEN 'None' THEN null ELSE $protocol END\n",
    "        SET w.protocol_column = CASE trim(toString(w.protocol_column)) WHEN 'None' THEN null ELSE $protocol_column END\n",
    "        SET w.total_emissions = CASE trim(toString(w.total_emissions)) WHEN 'None' THEN null ELSE $total_emissions END\n",
    "        SET w.total_scope_1_emissions = CASE trim(toString(w.total_scope_1_emissions)) WHEN 'None' THEN null ELSE $total_scope_1_emissions END\n",
    "        SET w.total_scope_2_emissions = CASE trim(toString(w.total_scope_2_emissions)) WHEN 'None' THEN null ELSE $total_scope_2_emissions END\n",
    "        SET w.comment = CASE trim(toString(w.comment)) WHEN 'None' THEN null ELSE $comment END\n",
    "        SET w.increase_or_decrease_last_year = CASE trim(toString(w.increase_or_decrease_last_year)) WHEN 'None' THEN null ELSE $increase_or_decrease_last_year END\n",
    "        SET w.reasons_for_increase_or_decrease = CASE trim(toString(w.reasons_for_increase_or_decrease)) WHEN 'None' THEN null ELSE $reasons_for_increase_or_decrease END\n",
    "    WITH w\n",
    "    MERGE (c:City {account_no: $city_id})\n",
    "    MERGE (w)-[:FROM]->(c)\n",
    "    RETURN w\n",
    "'''"
   ]
  },
  {
   "cell_type": "code",
   "execution_count": null,
   "id": "b9a352ab",
   "metadata": {},
   "outputs": [],
   "source": [
    "# Execute transaction\n",
    "for index, row in community_Wide_2017_subset.iterrows():\n",
    "    response = write_query(add_community_wide, params = { \"city_id\": row[\"city_id\"],\n",
    "            \"is_public\":row[\"is_public\"],\n",
    "            \"reporting_year\": row[\"reporting_year\"],\n",
    "            \"accounting_year\":row[\"accounting_year\"],\n",
    "            \"boundary\": row[\"boundary\"],\n",
    "            \"protocol\":row[\"protocol\"],\n",
    "            \"protocol_column\":row[\"protocol_column\"],\n",
    "            \"total_emissions\": row[\"total_emissions\"],\n",
    "            \"total_scope_1_emissions\": row[\"total_scope_1_emissions\"],\n",
    "            \"total_scope_2_emissions\": row[\"total_scope_2_emissions\"],\n",
    "            \"comment\": row[\"comment\"],\n",
    "            \"increase_or_decrease_last_year\": row[\"increase_or_decrease_last_year\"],\n",
    "            \"reasons_for_increase_or_decrease\":row[\"reasons_for_increase_or_decrease\"]\n",
    "            })"
   ]
  },
  {
   "cell_type": "code",
   "execution_count": null,
   "id": "f304a970",
   "metadata": {},
   "outputs": [],
   "source": [
    "add_reduction16 = '''\n",
    "    MERGE (c:City {account_no:$account_no})\n",
    "    WITH c\n",
    "    MERGE (g:Reduction16 {account_no:c.account_no, reporting_year:$reporting_year, percentage_reduction_target:$percentage_reduction_target, baseline_emissions:$baseline_emissions, baseline_year:$baseline_year})\n",
    "        SET g.target_boundary = CASE trim(toString(g.target_boundary)) WHEN 'None' THEN null ELSE $target_boundary END\n",
    "        SET g.target_date = CASE trim(toString(g.target_date)) WHEN 'None' THEN null ELSE $target_date END\n",
    "        SET g.comment = CASE trim(toString(g.comment)) WHEN 'None' THEN null ELSE $comment END\n",
    "    MERGE (g)-[:Made_In]->(c)\n",
    "    RETURN g\n",
    "'''"
   ]
  },
  {
   "cell_type": "code",
   "execution_count": null,
   "id": "aa749e0a",
   "metadata": {},
   "outputs": [],
   "source": [
    "# Execute transaction\n",
    "for index, row in reduction16.iterrows():\n",
    "    baseline_year = row[\"baseline_year\"]\n",
    "    baseline_emissions = row[\"baseline_emissions\"]\n",
    "\n",
    "    if(baseline_year != baseline_year):\n",
    "        baseline_year = -1\n",
    "\n",
    "    if(baseline_emissions != baseline_emissions):\n",
    "        baseline_emissions = -1;    \n",
    "    \n",
    "    response = write_query(add_reduction16, params = {'account_no':row['city_id'], \n",
    "                                                 'reporting_year':row['reporting_year'], \n",
    "                                                 'target_boundary':row['target_boundary'] ,\n",
    "                                                 'baseline_year':baseline_year ,\n",
    "                                                 'baseline_emissions':baseline_emissions,\n",
    "                                                 'percentage_reduction_target':row['percentage_reduction_target'] ,\n",
    "                                                 'target_date':row['target_date'] ,\n",
    "                                                 'comment':row['comment'] ,\n",
    "                                                 })"
   ]
  },
  {
   "cell_type": "code",
   "execution_count": null,
   "id": "ed7a4fe8",
   "metadata": {},
   "outputs": [],
   "source": [
    "add_reduction17 = '''\n",
    "    MERGE (c:City {account_no:$account_no})\n",
    "    WITH c\n",
    "    MERGE (g:Reduction17 {account_no:c.account_no, reporting_year:$reporting_year, type_of_target:$type_of_target, baseline_year:$baseline_year, baseline_emissions:$baseline_emissions, percentage_reduction_target:$percentage_reduction_target, target_date:$target_date, estimated_target:$estimated_target, sector:$sector, comment:$comment, intensity_unit:$intensity_unit})\n",
    "    MERGE (g)-[:Made_In]->(c)\n",
    "    RETURN g\n",
    "'''"
   ]
  },
  {
   "cell_type": "code",
   "execution_count": null,
   "id": "fdcc294b",
   "metadata": {},
   "outputs": [],
   "source": [
    "# Execute transaction\n",
    "for index, row in reduction17.iterrows():\n",
    "    baseline_year = row[\"baseline_year\"]\n",
    "    baseline_emissions = row[\"baseline_emissions\"]\n",
    "    percentage_reduction_target = row[\"percentage_reduction_target\"]\n",
    "    target_date = row[\"target_date\"]\n",
    "    estimated_target = row[\"estimated_target\"]\n",
    "    sector = row[\"sector\"]\n",
    "    comment = row[\"comment\"]\n",
    "    intensity_unit = row[\"intensity_unit\"]\n",
    "\n",
    "    if(baseline_year != baseline_year):\n",
    "        baseline_year = -1\n",
    "\n",
    "    if(baseline_emissions != baseline_emissions):\n",
    "        baseline_emissions = -1   \n",
    "    \n",
    "    if(percentage_reduction_target != percentage_reduction_target):\n",
    "        percentage_reduction_target = -1\n",
    "\n",
    "    if(target_date != target_date):\n",
    "        target_date = -1\n",
    "\n",
    "    if(estimated_target != estimated_target):\n",
    "        estimated_target = -1\n",
    "\n",
    "    if(sector != sector):\n",
    "        sector = \"Null\"\n",
    "\n",
    "    if(comment != comment):\n",
    "        comment = \"Null\"   \n",
    "\n",
    "    if(intensity_unit != intensity_unit):\n",
    "        intensity_unit = \"Null\"     \n",
    "\n",
    "    response = write_query(add_reduction17, params = {'account_no':row['city_id'], \n",
    "                                                 'reporting_year':row['reporting_year'], \n",
    "                                                 'baseline_year':baseline_year ,\n",
    "                                                 'baseline_emissions':baseline_emissions ,\n",
    "                                                 'percentage_reduction_target':percentage_reduction_target ,\n",
    "                                                 'target_date':target_date,\n",
    "                                                 'comment':comment ,\n",
    "                                                 'type_of_target':row['type_of_target'] ,\n",
    "                                                 'estimated_target':estimated_target ,\n",
    "                                                 'sector':sector,\n",
    "                                                 'intensity_unit':intensity_unit ,\n",
    "                                                 })"
   ]
  },
  {
   "cell_type": "markdown",
   "id": "814ac336",
   "metadata": {},
   "source": [
    "#### Relations"
   ]
  },
  {
   "cell_type": "code",
   "execution_count": null,
   "id": "7696bbf0",
   "metadata": {},
   "outputs": [],
   "source": [
    "file_name = 'HP-relations-seen.csv'\n",
    "path = data_dir+file_name"
   ]
  },
  {
   "cell_type": "code",
   "execution_count": null,
   "id": "43f71ce2",
   "metadata": {},
   "outputs": [],
   "source": [
    "# with pandas\n",
    "data = pd.read_csv(path, ',')\n",
    "data"
   ]
  },
  {
   "cell_type": "code",
   "execution_count": null,
   "id": "0ce53d51",
   "metadata": {},
   "outputs": [],
   "source": [
    "data.isnull().sum()"
   ]
  },
  {
   "cell_type": "code",
   "execution_count": null,
   "id": "687052be",
   "metadata": {},
   "outputs": [],
   "source": [
    "data.info()"
   ]
  },
  {
   "cell_type": "code",
   "execution_count": null,
   "id": "09c15bb6",
   "metadata": {},
   "outputs": [],
   "source": [
    "datay = data.replace({np.nan: None})"
   ]
  },
  {
   "cell_type": "code",
   "execution_count": null,
   "id": "b08b0200",
   "metadata": {},
   "outputs": [],
   "source": [
    "datay.sample(5)"
   ]
  },
  {
   "cell_type": "code",
   "execution_count": null,
   "id": "c12fdfcc",
   "metadata": {},
   "outputs": [],
   "source": [
    "create_rel = \"\"\"\n",
    "    MERGE (s:Character{name:$source})\n",
    "    MERGE (t:Character{name:$target})\n",
    "    MERGE (s)-[r:INTERACTS]-(t)\n",
    "    SET r.weight = $value\n",
    "\"\"\"    "
   ]
  },
  {
   "cell_type": "code",
   "execution_count": null,
   "id": "ecbcbc40",
   "metadata": {},
   "outputs": [],
   "source": [
    "# Execute transaction\n",
    "for index, row in datay.iterrows():\n",
    "    response = write_query(create_rel, \n",
    "                           params = {'source':row['source'], 'target':row['target'], 'value':row['value']})"
   ]
  },
  {
   "cell_type": "markdown",
   "id": "a0cf3af1",
   "metadata": {},
   "source": [
    "## Query the Database"
   ]
  },
  {
   "cell_type": "markdown",
   "id": "661d6b9d",
   "metadata": {},
   "source": [
    "To enable permissions for running the algorithms on the localmachine, aadd this line to your config file:\n",
    "__dbms.security.procedures.unrestricted=jwt.security.*, apoc.*, gds.*__"
   ]
  },
  {
   "cell_type": "code",
   "execution_count": null,
   "id": "5c2b8ef2",
   "metadata": {},
   "outputs": [],
   "source": [
    "def read_gds(query, params=None):\n",
    "    with driver.session() as session:\n",
    "        result = session.run(query, params)\n",
    "        return pd.DataFrame([r.values() for r in result], columns=result.keys())"
   ]
  },
  {
   "cell_type": "markdown",
   "id": "1fae82de",
   "metadata": {},
   "source": [
    "### Community Detection"
   ]
  },
  {
   "cell_type": "code",
   "execution_count": null,
   "id": "c9f9946f",
   "metadata": {},
   "outputs": [],
   "source": [
    "# create a projection\n",
    "query = \"\"\"\n",
    "    CALL gds.graph.project('dor', 'Character', {INTERACTS:{orientation:'UNDIRECTED'}})\n",
    "    YIELD nodeId, score\n",
    "    RETURN gds.util.asNode(nodeId).name AS title, score AS rank\n",
    "    ORDER BY rank DESCENDING, title LIMIT 5\n",
    "\"\"\""
   ]
  },
  {
   "cell_type": "code",
   "execution_count": null,
   "id": "24ff231a",
   "metadata": {},
   "outputs": [],
   "source": [
    "response = read_gds(query)\n",
    "response"
   ]
  },
  {
   "cell_type": "code",
   "execution_count": null,
   "id": "afda1d00",
   "metadata": {},
   "outputs": [],
   "source": [
    "query = \"\"\"\n",
    "    CALL gds.louvain.stream('dom')\n",
    "    YIELD nodeId, communityId, intermediateCommunityIds\n",
    "    RETURN gds.util.asNode(nodeId).name AS name, communityId\n",
    "    ORDER BY communityId ASC LIMIT 15\n",
    "\"\"\""
   ]
  },
  {
   "cell_type": "code",
   "execution_count": null,
   "id": "fbab07b4",
   "metadata": {},
   "outputs": [],
   "source": [
    "# writes the calculated community coeficients as parameters of the nodes\n",
    "response = read_gds(query)\n",
    "response"
   ]
  },
  {
   "cell_type": "markdown",
   "id": "fe8ada56",
   "metadata": {},
   "source": [
    "### Degree Centrality"
   ]
  },
  {
   "cell_type": "code",
   "execution_count": null,
   "id": "a3bf2709",
   "metadata": {},
   "outputs": [],
   "source": [
    "query = \"\"\"\n",
    "    CALL gds.degree.stream('dor')\n",
    "    YIELD nodeId, score\n",
    "    RETURN gds.util.asNode(nodeId).name AS title, score AS connections\n",
    "    ORDER BY rank DESCENDING, title LIMIT 5\n",
    "\"\"\""
   ]
  },
  {
   "cell_type": "code",
   "execution_count": null,
   "id": "f15162f3",
   "metadata": {},
   "outputs": [],
   "source": [
    "response = read_gds(query)\n",
    "response"
   ]
  },
  {
   "cell_type": "markdown",
   "id": "137799e5",
   "metadata": {},
   "source": [
    "### Page Rank"
   ]
  },
  {
   "cell_type": "code",
   "execution_count": null,
   "id": "154da59c",
   "metadata": {},
   "outputs": [],
   "source": [
    "# create projection\n",
    "query = '''\n",
    "CALL gds.graph.project(\n",
    "  'dom',\n",
    "  'Character',\n",
    "  'INTERACTS',\n",
    "  {\n",
    "    relationshipProperties: 'weight'\n",
    "  }\n",
    ")\n",
    "'''"
   ]
  },
  {
   "cell_type": "code",
   "execution_count": null,
   "id": "4174be99",
   "metadata": {},
   "outputs": [],
   "source": [
    "response = read_gds(query)\n",
    "response"
   ]
  },
  {
   "cell_type": "code",
   "execution_count": null,
   "id": "f3d78597",
   "metadata": {},
   "outputs": [],
   "source": [
    "query = \"\"\"\n",
    "    CALL gds.pageRank.stream('dom')\n",
    "    YIELD nodeId, score\n",
    "    RETURN gds.util.asNode(nodeId).title AS title, score\n",
    "    ORDER BY score DESC\n",
    "\"\"\""
   ]
  },
  {
   "cell_type": "code",
   "execution_count": null,
   "id": "c2d0c79d",
   "metadata": {},
   "outputs": [],
   "source": [
    "response = read_gds(query)\n",
    "response"
   ]
  },
  {
   "cell_type": "markdown",
   "id": "0322e95f",
   "metadata": {},
   "source": [
    "### Shortest Path"
   ]
  },
  {
   "cell_type": "code",
   "execution_count": null,
   "id": "c921d5f4",
   "metadata": {},
   "outputs": [],
   "source": [
    "# create projection\n",
    "query = '''\n",
    "CALL gds.graph.project(\n",
    "    'pat',\n",
    "    'Character',\n",
    "    'INTERACTS',\n",
    "    {\n",
    "        relationshipProperties: 'weight'\n",
    "    }\n",
    ")\n",
    "'''"
   ]
  },
  {
   "cell_type": "code",
   "execution_count": null,
   "id": "0065dbae",
   "metadata": {},
   "outputs": [],
   "source": [
    "response = read_gds(query)\n",
    "response"
   ]
  },
  {
   "cell_type": "code",
   "execution_count": null,
   "id": "50bc8508",
   "metadata": {},
   "outputs": [],
   "source": [
    "query = \"\"\"\n",
    "    MATCH (source:Character {title: 'Harry Potter'}), (target:Character {title: 'Albus Dumbledore'})\n",
    "    CALL gds.shortestPath.dijkstra.stream('pat', \n",
    "    {\n",
    "        sourceNode: source,\n",
    "        targetNode: target,\n",
    "        relationshipWeightProperty: 'weight'\n",
    "    })\n",
    "    YIELD index, sourceNode, targetNode, totalCost, nodeIds, costs, path\n",
    "    RETURN\n",
    "        index,\n",
    "        gds.util.asNode(sourceNode).title AS sourceNodeName,\n",
    "        gds.util.asNode(targetNode).title AS targetNodeName,\n",
    "        totalCost,\n",
    "        [nodeId IN nodeIds | gds.util.asNode(nodeId).title] AS nodeNames,\n",
    "        costs,\n",
    "        nodes(path) as path\n",
    "    ORDER BY index\n",
    "\"\"\""
   ]
  },
  {
   "cell_type": "code",
   "execution_count": null,
   "id": "5435086b",
   "metadata": {},
   "outputs": [],
   "source": [
    "response = read_gds(query)\n",
    "response"
   ]
  },
  {
   "cell_type": "code",
   "execution_count": null,
   "id": "2fd5581c",
   "metadata": {},
   "outputs": [],
   "source": []
  },
  {
   "cell_type": "code",
   "execution_count": null,
   "id": "1d6d6418",
   "metadata": {},
   "outputs": [],
   "source": []
  }
 ],
 "metadata": {
  "kernelspec": {
   "display_name": "Python 3 (ipykernel)",
   "language": "python",
   "name": "python3"
  },
  "language_info": {
   "codemirror_mode": {
    "name": "ipython",
    "version": 3
   },
   "file_extension": ".py",
   "mimetype": "text/x-python",
   "name": "python",
   "nbconvert_exporter": "python",
   "pygments_lexer": "ipython3",
   "version": "3.12.3"
  }
 },
 "nbformat": 4,
 "nbformat_minor": 5
}
