{
 "cells": [
  {
   "cell_type": "markdown",
   "id": "d07c6275",
   "metadata": {},
   "source": [
    "# Creating and  Using Graph DB in Python Application"
   ]
  },
  {
   "cell_type": "markdown",
   "id": "5d2636ee",
   "metadata": {},
   "source": [
    "## Prepare the Environment"
   ]
  },
  {
   "cell_type": "code",
   "execution_count": 1,
   "id": "37e9ddf2",
   "metadata": {},
   "outputs": [
    {
     "name": "stdout",
     "output_type": "stream",
     "text": [
      "Collecting neo4j\n",
      "  Downloading neo4j-5.19.0.tar.gz (202 kB)\n",
      "     ---------------------------------------- 0.0/203.0 kB ? eta -:--:--\n",
      "     -------------------------------------- 203.0/203.0 kB 6.2 MB/s eta 0:00:00\n",
      "  Installing build dependencies: started\n",
      "  Installing build dependencies: finished with status 'done'\n",
      "  Getting requirements to build wheel: started\n",
      "  Getting requirements to build wheel: finished with status 'done'\n",
      "  Installing backend dependencies: started\n",
      "  Installing backend dependencies: finished with status 'done'\n",
      "  Preparing metadata (pyproject.toml): started\n",
      "  Preparing metadata (pyproject.toml): finished with status 'done'\n",
      "Requirement already satisfied: pytz in c:\\users\\bruger\\appdata\\local\\programs\\python\\python311\\lib\\site-packages (from neo4j) (2022.7.1)\n",
      "Building wheels for collected packages: neo4j\n",
      "  Building wheel for neo4j (pyproject.toml): started\n",
      "  Building wheel for neo4j (pyproject.toml): finished with status 'done'\n",
      "  Created wheel for neo4j: filename=neo4j-5.19.0-py3-none-any.whl size=280768 sha256=6632a2c0e989df9ba01b32e181f78c165a0a22822cb9b532e31d9747638f2ee9\n",
      "  Stored in directory: c:\\users\\bruger\\appdata\\local\\pip\\cache\\wheels\\48\\0d\\71\\a6d5ad9ecdd1cb0fae2aeea918a9bed3d8120ded12b3cfa8ed\n",
      "Successfully built neo4j\n",
      "Installing collected packages: neo4j\n",
      "Successfully installed neo4j-5.19.0\n"
     ]
    }
   ],
   "source": [
    "# Try again\n",
    "#!pip install -U neo4j \n",
    "!python -m pip install neo4j"
   ]
  },
  {
   "cell_type": "code",
   "execution_count": null,
   "id": "46ce6bf9",
   "metadata": {},
   "outputs": [],
   "source": [
    "# download the latest Python driver from https://pypi.org/project/neo4j/#files and install it\n",
    "!pip install \"/Users/tdi/Downloads/neo4j-5.18.0.tar\""
   ]
  },
  {
   "cell_type": "code",
   "execution_count": 2,
   "id": "4abb3b0b",
   "metadata": {},
   "outputs": [],
   "source": [
    "from neo4j import GraphDatabase, RoutingControl, basic_auth"
   ]
  },
  {
   "cell_type": "code",
   "execution_count": 3,
   "id": "c9446329",
   "metadata": {},
   "outputs": [],
   "source": [
    "import pandas as pd\n",
    "import numpy as np"
   ]
  },
  {
   "cell_type": "markdown",
   "id": "b0c8b55a",
   "metadata": {},
   "source": [
    "## Setup the Connection to the Database\n",
    "Choose a database server, a database, credentials for accessing it, and use them to configure the driver.\\\n",
    "The driver helps connecting the database and passing the Cypher statements"
   ]
  },
  {
   "cell_type": "code",
   "execution_count": 6,
   "id": "789b9896",
   "metadata": {},
   "outputs": [],
   "source": [
    "# DB URI and authentication\n",
    "URI = \"bolt://localhost:7687\"\n",
    "AUTH = (\"neo4j\",\"Ola3\")"
   ]
  },
  {
   "cell_type": "code",
   "execution_count": 7,
   "id": "425f14b6",
   "metadata": {},
   "outputs": [],
   "source": [
    "driver = GraphDatabase.driver(URI, auth=AUTH)"
   ]
  },
  {
   "cell_type": "code",
   "execution_count": 8,
   "id": "28cbb451",
   "metadata": {},
   "outputs": [],
   "source": [
    "driver.verify_connectivity()"
   ]
  },
  {
   "cell_type": "markdown",
   "id": "1be487cc",
   "metadata": {},
   "source": [
    "### Query Templates"
   ]
  },
  {
   "cell_type": "markdown",
   "id": "77936962",
   "metadata": {},
   "source": [
    "Execute a Cypher statement by creating a session and using the methods \n",
    "- Session.execute_read() and \n",
    "- Session.execute_write()\n",
    "\n",
    "Do not hardcode or concatenate parameters: \n",
    "- use placeholders and \n",
    "- specify the parameters as keyword arguments"
   ]
  },
  {
   "cell_type": "code",
   "execution_count": 9,
   "id": "700c791a",
   "metadata": {},
   "outputs": [],
   "source": [
    "# template write request\n",
    "def write_query(query, params={}):\n",
    "    with driver.session(database=\"neo4j\") as session:\n",
    "        results = session.execute_write(lambda tx: tx.run(query, params).data())\n",
    "        # response = [record.values()[0] for record in results]\n",
    "        return results"
   ]
  },
  {
   "cell_type": "code",
   "execution_count": 10,
   "id": "c553fb58",
   "metadata": {},
   "outputs": [],
   "source": [
    "# template read request\n",
    "def read_query(query, params={}):\n",
    "    with driver.session(database=\"neo4j\") as session:\n",
    "        results = session.execute_read(lambda tx: tx.run(query, params).data())       \n",
    "        response = [record.values()[0] for record in results]\n",
    "        return response"
   ]
  },
  {
   "cell_type": "markdown",
   "id": "8215b418",
   "metadata": {},
   "source": [
    "## Harry Potter Demo Implementation"
   ]
  },
  {
   "cell_type": "markdown",
   "id": "dfc2010e",
   "metadata": {},
   "source": [
    "### File Reading Utilities"
   ]
  },
  {
   "cell_type": "code",
   "execution_count": 19,
   "id": "added0cd",
   "metadata": {},
   "outputs": [],
   "source": [
    "data_dir = '../Data/HarryPotter/'\n",
    "file_name = 'HP-characters.csv'\n",
    "path = data_dir+file_name"
   ]
  },
  {
   "cell_type": "code",
   "execution_count": 20,
   "id": "0524bd19",
   "metadata": {},
   "outputs": [
    {
     "name": "stderr",
     "output_type": "stream",
     "text": [
      "C:\\Users\\Bruger\\AppData\\Local\\Temp\\ipykernel_18736\\301918582.py:2: FutureWarning: In a future version of pandas all arguments of read_csv except for the argument 'filepath_or_buffer' will be keyword-only.\n",
      "  data = pd.read_csv(path, ',')\n"
     ]
    },
    {
     "name": "stdout",
     "output_type": "stream",
     "text": [
      "Unexpected exception formatting exception. Falling back to standard exception\n"
     ]
    },
    {
     "name": "stderr",
     "output_type": "stream",
     "text": [
      "Traceback (most recent call last):\n",
      "  File \"C:\\Users\\Bruger\\AppData\\Roaming\\Python\\Python311\\site-packages\\IPython\\core\\formatters.py\", line 221, in catch_format_error\n",
      "    r = method(self, *args, **kwargs)\n",
      "        ^^^^^^^^^^^^^^^^^^^^^^^^^^^^^\n",
      "  File \"C:\\Users\\Bruger\\AppData\\Roaming\\Python\\Python311\\site-packages\\IPython\\core\\formatters.py\", line 342, in __call__\n",
      "    return method()\n",
      "           ^^^^^^^^\n",
      "  File \"c:\\Users\\Bruger\\AppData\\Local\\Programs\\Python\\Python311\\Lib\\site-packages\\pandas\\core\\frame.py\", line 1106, in _repr_html_\n",
      "  File \"c:\\Users\\Bruger\\AppData\\Local\\Programs\\Python\\Python311\\Lib\\site-packages\\pandas\\io\\formats\\format.py\", line 1110, in to_html\n",
      "    When formatting an Index subclass\n",
      "             ^^^^^^^^^^^^^^^^^^^^^^^^^\n",
      "  File \"c:\\Users\\Bruger\\AppData\\Local\\Programs\\Python\\Python311\\Lib\\site-packages\\pandas\\io\\formats\\html.py\", line 88, in to_string\n",
      "    lines = self.render()\n",
      "            ^^^^^^^^^^^^^\n",
      "  File \"c:\\Users\\Bruger\\AppData\\Local\\Programs\\Python\\Python311\\Lib\\site-packages\\pandas\\io\\formats\\html.py\", line 644, in render\n",
      "    super().render()\n",
      "  File \"c:\\Users\\Bruger\\AppData\\Local\\Programs\\Python\\Python311\\Lib\\site-packages\\pandas\\io\\formats\\html.py\", line 94, in render\n",
      "    self._write_table()\n",
      "  File \"c:\\Users\\Bruger\\AppData\\Local\\Programs\\Python\\Python311\\Lib\\site-packages\\pandas\\io\\formats\\html.py\", line 267, in _write_table\n",
      "    self._write_header(indent + self.indent_delta)\n",
      "  File \"c:\\Users\\Bruger\\AppData\\Local\\Programs\\Python\\Python311\\Lib\\site-packages\\pandas\\io\\formats\\html.py\", line 403, in _write_header\n",
      "    self._write_col_header(indent + self.indent_delta)\n",
      "  File \"c:\\Users\\Bruger\\AppData\\Local\\Programs\\Python\\Python311\\Lib\\site-packages\\pandas\\io\\formats\\html.py\", line 383, in _write_col_header\n",
      "    row.extend(self._get_columns_formatted_values())\n",
      "               ^^^^^^^^^^^^^^^^^^^^^^^^^^^^^^^^^^^^\n",
      "  File \"c:\\Users\\Bruger\\AppData\\Local\\Programs\\Python\\Python311\\Lib\\site-packages\\pandas\\io\\formats\\html.py\", line 611, in _get_columns_formatted_values\n",
      "    return self.columns._format_flat(include_name=False)\n",
      "           ^^^^^^^^^^^^^^^^^^^^^^^^^\n",
      "AttributeError: 'Index' object has no attribute '_format_flat'\n",
      "\n",
      "During handling of the above exception, another exception occurred:\n",
      "\n",
      "Traceback (most recent call last):\n",
      "  File \"C:\\Users\\Bruger\\AppData\\Roaming\\Python\\Python311\\site-packages\\IPython\\core\\interactiveshell.py\", line 2057, in showtraceback\n",
      "    stb = self.InteractiveTB.structured_traceback(\n",
      "          ^^^^^^^^^^^^^^^^^^^^^^^^^^^^^^^^^^^^^^^^\n",
      "  File \"C:\\Users\\Bruger\\AppData\\Roaming\\Python\\Python311\\site-packages\\IPython\\core\\ultratb.py\", line 1118, in structured_traceback\n",
      "    return FormattedTB.structured_traceback(\n",
      "           ^^^^^^^^^^^^^^^^^^^^^^^^^^^^^^^^^\n",
      "  File \"C:\\Users\\Bruger\\AppData\\Roaming\\Python\\Python311\\site-packages\\IPython\\core\\ultratb.py\", line 1012, in structured_traceback\n",
      "    return VerboseTB.structured_traceback(\n",
      "           ^^^^^^^^^^^^^^^^^^^^^^^^^^^^^^^\n",
      "  File \"C:\\Users\\Bruger\\AppData\\Roaming\\Python\\Python311\\site-packages\\IPython\\core\\ultratb.py\", line 865, in structured_traceback\n",
      "    formatted_exception = self.format_exception_as_a_whole(etype, evalue, etb, number_of_lines_of_context,\n",
      "                          ^^^^^^^^^^^^^^^^^^^^^^^^^^^^^^^^^^^^^^^^^^^^^^^^^^^^^^^^^^^^^^^^^^^^^^^^^^^^^^^^\n",
      "  File \"C:\\Users\\Bruger\\AppData\\Roaming\\Python\\Python311\\site-packages\\IPython\\core\\ultratb.py\", line 818, in format_exception_as_a_whole\n",
      "    frames.append(self.format_record(r))\n",
      "                  ^^^^^^^^^^^^^^^^^^^^^\n",
      "  File \"C:\\Users\\Bruger\\AppData\\Roaming\\Python\\Python311\\site-packages\\IPython\\core\\ultratb.py\", line 736, in format_record\n",
      "    result += ''.join(_format_traceback_lines(frame_info.lines, Colors, self.has_colors, lvals))\n",
      "                                              ^^^^^^^^^^^^^^^^\n",
      "  File \"C:\\Users\\Bruger\\AppData\\Roaming\\Python\\Python311\\site-packages\\stack_data\\utils.py\", line 144, in cached_property_wrapper\n",
      "    value = obj.__dict__[self.func.__name__] = self.func(obj)\n",
      "                                               ^^^^^^^^^^^^^^\n",
      "  File \"C:\\Users\\Bruger\\AppData\\Roaming\\Python\\Python311\\site-packages\\stack_data\\core.py\", line 734, in lines\n",
      "    pieces = self.included_pieces\n",
      "             ^^^^^^^^^^^^^^^^^^^^\n",
      "  File \"C:\\Users\\Bruger\\AppData\\Roaming\\Python\\Python311\\site-packages\\stack_data\\utils.py\", line 144, in cached_property_wrapper\n",
      "    value = obj.__dict__[self.func.__name__] = self.func(obj)\n",
      "                                               ^^^^^^^^^^^^^^\n",
      "  File \"C:\\Users\\Bruger\\AppData\\Roaming\\Python\\Python311\\site-packages\\stack_data\\core.py\", line 681, in included_pieces\n",
      "    pos = scope_pieces.index(self.executing_piece)\n",
      "                             ^^^^^^^^^^^^^^^^^^^^\n",
      "  File \"C:\\Users\\Bruger\\AppData\\Roaming\\Python\\Python311\\site-packages\\stack_data\\utils.py\", line 144, in cached_property_wrapper\n",
      "    value = obj.__dict__[self.func.__name__] = self.func(obj)\n",
      "                                               ^^^^^^^^^^^^^^\n",
      "  File \"C:\\Users\\Bruger\\AppData\\Roaming\\Python\\Python311\\site-packages\\stack_data\\core.py\", line 660, in executing_piece\n",
      "    return only(\n",
      "           ^^^^^\n",
      "  File \"C:\\Users\\Bruger\\AppData\\Roaming\\Python\\Python311\\site-packages\\executing\\executing.py\", line 190, in only\n",
      "    raise NotOneValueFound('Expected one value, found 0')\n",
      "executing.executing.NotOneValueFound: Expected one value, found 0\n"
     ]
    },
    {
     "data": {
      "text/plain": [
       "                                         title  \\\n",
       "0                               Vernon Dursley   \n",
       "1                              Petunia Dursley   \n",
       "2                               Dudley Dursley   \n",
       "3                               Lily J. Potter   \n",
       "4                               James Potter I   \n",
       "..                                         ...   \n",
       "157                           Elfric the Eager   \n",
       "158                       Hogwarts Giant Squid   \n",
       "159  Quirinus Quirrell's second mountain troll   \n",
       "160                       King's Cross Station   \n",
       "161                                 Wizardkind   \n",
       "\n",
       "                                                   url  \\\n",
       "0    https://harrypotter.fandom.com/wiki/Vernon_Dur...   \n",
       "1    https://harrypotter.fandom.com/wiki/Petunia_Du...   \n",
       "2    https://harrypotter.fandom.com/wiki/Dudley_Dur...   \n",
       "3    https://harrypotter.fandom.com/wiki/Lily_J._Po...   \n",
       "4    https://harrypotter.fandom.com/wiki/James_Pott...   \n",
       "..                                                 ...   \n",
       "157  https://harrypotter.fandom.com/wiki/Elfric_the...   \n",
       "158  https://harrypotter.fandom.com/wiki/Hogwarts_G...   \n",
       "159  https://harrypotter.fandom.com/wiki/Quirinus_Q...   \n",
       "160  https://harrypotter.fandom.com/wiki/King%27s_C...   \n",
       "161     https://harrypotter.fandom.com/wiki/Wizardkind   \n",
       "\n",
       "                                               loyalty  \\\n",
       "0                             Dursley family,Grunnings   \n",
       "1                          Evans family,Dursley family   \n",
       "2    Dursley family,Evans family,Smeltings Academy,...   \n",
       "3    Evans family,Potter family,Hogwarts School of ...   \n",
       "4    Potter family,Evans family,Hogwarts School of ...   \n",
       "..                                                 ...   \n",
       "157                                                NaN   \n",
       "158                                                NaN   \n",
       "159                                                NaN   \n",
       "160                                                NaN   \n",
       "161                                                NaN   \n",
       "\n",
       "                                                family        blood  \\\n",
       "0    Mrs Dursley,Marjorie Dursley,Petunia Dursley,D...       Muggle   \n",
       "1    Mr Evans,Mrs Evans,Lily Potter,Vernon Dursley,...       Muggle   \n",
       "2    Vernon Dursley,Petunia Dursley,Mrs Dursley,Chi...       Muggle   \n",
       "3    Mr Evans,Mrs Evans,Petunia Dursley,James Potte...  Muggle-born   \n",
       "4    Ignotus Peverell,Linfred of Stinchcombe,Hardwi...   Pure-blood   \n",
       "..                                                 ...          ...   \n",
       "157                                                NaN          NaN   \n",
       "158                                                NaN          NaN   \n",
       "159                                                NaN          NaN   \n",
       "160                                                NaN          NaN   \n",
       "161                                                NaN          NaN   \n",
       "\n",
       "    nationality         species       house  gender  \\\n",
       "0       English           Human         NaN    Male   \n",
       "1       English           Human         NaN  Female   \n",
       "2       English           Human         NaN    Male   \n",
       "3       English           Human  Gryffindor  Female   \n",
       "4       English           Human  Gryffindor    Male   \n",
       "..          ...             ...         ...     ...   \n",
       "157         NaN             NaN         NaN     NaN   \n",
       "158         NaN     Giant Squid         NaN     NaN   \n",
       "159         NaN  Mountain Troll         NaN     NaN   \n",
       "160         NaN             NaN         NaN     NaN   \n",
       "161         NaN             NaN         NaN     NaN   \n",
       "\n",
       "                                               aliases  \n",
       "0                                                  NaN  \n",
       "1                                                   []  \n",
       "2    ['Dudders', 'Ickle Dudleykins', 'Popkin', 'Did...  \n",
       "3                                                  NaN  \n",
       "4                                                   []  \n",
       "..                                                 ...  \n",
       "157                                                NaN  \n",
       "158                                                NaN  \n",
       "159                                                NaN  \n",
       "160                                                NaN  \n",
       "161    ['Wizards & Witches', 'Sorcerers', 'Magicians']  \n",
       "\n",
       "[162 rows x 10 columns]"
      ]
     },
     "execution_count": 20,
     "metadata": {},
     "output_type": "execute_result"
    }
   ],
   "source": [
    "# with pandas\n",
    "data = pd.read_csv(path, ',')\n",
    "data"
   ]
  },
  {
   "cell_type": "code",
   "execution_count": 21,
   "id": "00acf69a",
   "metadata": {},
   "outputs": [
    {
     "data": {
      "text/plain": [
       "title            0\n",
       "url              0\n",
       "loyalty         63\n",
       "family         106\n",
       "blood           79\n",
       "nationality     53\n",
       "species         10\n",
       "house           94\n",
       "gender          19\n",
       "aliases        121\n",
       "dtype: int64"
      ]
     },
     "execution_count": 21,
     "metadata": {},
     "output_type": "execute_result"
    }
   ],
   "source": [
    "data.isnull().sum()"
   ]
  },
  {
   "cell_type": "code",
   "execution_count": 22,
   "id": "a02503bd",
   "metadata": {},
   "outputs": [
    {
     "name": "stdout",
     "output_type": "stream",
     "text": [
      "<class 'pandas.core.frame.DataFrame'>\n",
      "RangeIndex: 162 entries, 0 to 161\n",
      "Data columns (total 10 columns):\n",
      " #   Column       Non-Null Count  Dtype \n",
      "---  ------       --------------  ----- \n",
      " 0   title        162 non-null    object\n",
      " 1   url          162 non-null    object\n",
      " 2   loyalty      99 non-null     object\n",
      " 3   family       56 non-null     object\n",
      " 4   blood        83 non-null     object\n",
      " 5   nationality  109 non-null    object\n",
      " 6   species      152 non-null    object\n",
      " 7   house        68 non-null     object\n",
      " 8   gender       143 non-null    object\n",
      " 9   aliases      41 non-null     object\n",
      "dtypes: object(10)\n",
      "memory usage: 12.8+ KB\n"
     ]
    }
   ],
   "source": [
    "data.info()"
   ]
  },
  {
   "cell_type": "code",
   "execution_count": 23,
   "id": "a971e982",
   "metadata": {},
   "outputs": [],
   "source": [
    "datax = data.replace({np.nan: None})"
   ]
  },
  {
   "cell_type": "code",
   "execution_count": 24,
   "id": "b5315f50",
   "metadata": {},
   "outputs": [
    {
     "name": "stdout",
     "output_type": "stream",
     "text": [
      "Unexpected exception formatting exception. Falling back to standard exception\n"
     ]
    },
    {
     "name": "stderr",
     "output_type": "stream",
     "text": [
      "Traceback (most recent call last):\n",
      "  File \"C:\\Users\\Bruger\\AppData\\Roaming\\Python\\Python311\\site-packages\\IPython\\core\\formatters.py\", line 221, in catch_format_error\n",
      "    r = method(self, *args, **kwargs)\n",
      "        ^^^^^^^^^^^^^^^^^^^^^^^^^^^^^\n",
      "  File \"C:\\Users\\Bruger\\AppData\\Roaming\\Python\\Python311\\site-packages\\IPython\\core\\formatters.py\", line 342, in __call__\n",
      "    return method()\n",
      "           ^^^^^^^^\n",
      "  File \"c:\\Users\\Bruger\\AppData\\Local\\Programs\\Python\\Python311\\Lib\\site-packages\\pandas\\core\\frame.py\", line 1106, in _repr_html_\n",
      "  File \"c:\\Users\\Bruger\\AppData\\Local\\Programs\\Python\\Python311\\Lib\\site-packages\\pandas\\io\\formats\\format.py\", line 1110, in to_html\n",
      "    When formatting an Index subclass\n",
      "             ^^^^^^^^^^^^^^^^^^^^^^^^^\n",
      "  File \"c:\\Users\\Bruger\\AppData\\Local\\Programs\\Python\\Python311\\Lib\\site-packages\\pandas\\io\\formats\\html.py\", line 88, in to_string\n",
      "    lines = self.render()\n",
      "            ^^^^^^^^^^^^^\n",
      "  File \"c:\\Users\\Bruger\\AppData\\Local\\Programs\\Python\\Python311\\Lib\\site-packages\\pandas\\io\\formats\\html.py\", line 644, in render\n",
      "    super().render()\n",
      "  File \"c:\\Users\\Bruger\\AppData\\Local\\Programs\\Python\\Python311\\Lib\\site-packages\\pandas\\io\\formats\\html.py\", line 94, in render\n",
      "    self._write_table()\n",
      "  File \"c:\\Users\\Bruger\\AppData\\Local\\Programs\\Python\\Python311\\Lib\\site-packages\\pandas\\io\\formats\\html.py\", line 267, in _write_table\n",
      "    self._write_header(indent + self.indent_delta)\n",
      "  File \"c:\\Users\\Bruger\\AppData\\Local\\Programs\\Python\\Python311\\Lib\\site-packages\\pandas\\io\\formats\\html.py\", line 403, in _write_header\n",
      "    self._write_col_header(indent + self.indent_delta)\n",
      "  File \"c:\\Users\\Bruger\\AppData\\Local\\Programs\\Python\\Python311\\Lib\\site-packages\\pandas\\io\\formats\\html.py\", line 383, in _write_col_header\n",
      "    row.extend(self._get_columns_formatted_values())\n",
      "               ^^^^^^^^^^^^^^^^^^^^^^^^^^^^^^^^^^^^\n",
      "  File \"c:\\Users\\Bruger\\AppData\\Local\\Programs\\Python\\Python311\\Lib\\site-packages\\pandas\\io\\formats\\html.py\", line 611, in _get_columns_formatted_values\n",
      "    return self.columns._format_flat(include_name=False)\n",
      "           ^^^^^^^^^^^^^^^^^^^^^^^^^\n",
      "AttributeError: 'Index' object has no attribute '_format_flat'\n",
      "\n",
      "During handling of the above exception, another exception occurred:\n",
      "\n",
      "Traceback (most recent call last):\n",
      "  File \"C:\\Users\\Bruger\\AppData\\Roaming\\Python\\Python311\\site-packages\\IPython\\core\\interactiveshell.py\", line 2057, in showtraceback\n",
      "    stb = self.InteractiveTB.structured_traceback(\n",
      "          ^^^^^^^^^^^^^^^^^^^^^^^^^^^^^^^^^^^^^^^^\n",
      "  File \"C:\\Users\\Bruger\\AppData\\Roaming\\Python\\Python311\\site-packages\\IPython\\core\\ultratb.py\", line 1118, in structured_traceback\n",
      "    return FormattedTB.structured_traceback(\n",
      "           ^^^^^^^^^^^^^^^^^^^^^^^^^^^^^^^^^\n",
      "  File \"C:\\Users\\Bruger\\AppData\\Roaming\\Python\\Python311\\site-packages\\IPython\\core\\ultratb.py\", line 1012, in structured_traceback\n",
      "    return VerboseTB.structured_traceback(\n",
      "           ^^^^^^^^^^^^^^^^^^^^^^^^^^^^^^^\n",
      "  File \"C:\\Users\\Bruger\\AppData\\Roaming\\Python\\Python311\\site-packages\\IPython\\core\\ultratb.py\", line 865, in structured_traceback\n",
      "    formatted_exception = self.format_exception_as_a_whole(etype, evalue, etb, number_of_lines_of_context,\n",
      "                          ^^^^^^^^^^^^^^^^^^^^^^^^^^^^^^^^^^^^^^^^^^^^^^^^^^^^^^^^^^^^^^^^^^^^^^^^^^^^^^^^\n",
      "  File \"C:\\Users\\Bruger\\AppData\\Roaming\\Python\\Python311\\site-packages\\IPython\\core\\ultratb.py\", line 818, in format_exception_as_a_whole\n",
      "    frames.append(self.format_record(r))\n",
      "                  ^^^^^^^^^^^^^^^^^^^^^\n",
      "  File \"C:\\Users\\Bruger\\AppData\\Roaming\\Python\\Python311\\site-packages\\IPython\\core\\ultratb.py\", line 736, in format_record\n",
      "    result += ''.join(_format_traceback_lines(frame_info.lines, Colors, self.has_colors, lvals))\n",
      "                                              ^^^^^^^^^^^^^^^^\n",
      "  File \"C:\\Users\\Bruger\\AppData\\Roaming\\Python\\Python311\\site-packages\\stack_data\\utils.py\", line 144, in cached_property_wrapper\n",
      "    value = obj.__dict__[self.func.__name__] = self.func(obj)\n",
      "                                               ^^^^^^^^^^^^^^\n",
      "  File \"C:\\Users\\Bruger\\AppData\\Roaming\\Python\\Python311\\site-packages\\stack_data\\core.py\", line 734, in lines\n",
      "    pieces = self.included_pieces\n",
      "             ^^^^^^^^^^^^^^^^^^^^\n",
      "  File \"C:\\Users\\Bruger\\AppData\\Roaming\\Python\\Python311\\site-packages\\stack_data\\utils.py\", line 144, in cached_property_wrapper\n",
      "    value = obj.__dict__[self.func.__name__] = self.func(obj)\n",
      "                                               ^^^^^^^^^^^^^^\n",
      "  File \"C:\\Users\\Bruger\\AppData\\Roaming\\Python\\Python311\\site-packages\\stack_data\\core.py\", line 681, in included_pieces\n",
      "    pos = scope_pieces.index(self.executing_piece)\n",
      "                             ^^^^^^^^^^^^^^^^^^^^\n",
      "  File \"C:\\Users\\Bruger\\AppData\\Roaming\\Python\\Python311\\site-packages\\stack_data\\utils.py\", line 144, in cached_property_wrapper\n",
      "    value = obj.__dict__[self.func.__name__] = self.func(obj)\n",
      "                                               ^^^^^^^^^^^^^^\n",
      "  File \"C:\\Users\\Bruger\\AppData\\Roaming\\Python\\Python311\\site-packages\\stack_data\\core.py\", line 660, in executing_piece\n",
      "    return only(\n",
      "           ^^^^^\n",
      "  File \"C:\\Users\\Bruger\\AppData\\Roaming\\Python\\Python311\\site-packages\\executing\\executing.py\", line 190, in only\n",
      "    raise NotOneValueFound('Expected one value, found 0')\n",
      "executing.executing.NotOneValueFound: Expected one value, found 0\n"
     ]
    },
    {
     "data": {
      "text/plain": [
       "                title                                                url  \\\n",
       "4      James Potter I  https://harrypotter.fandom.com/wiki/James_Pott...   \n",
       "69     George Weasley  https://harrypotter.fandom.com/wiki/George_Wea...   \n",
       "59      Lucius Malfoy  https://harrypotter.fandom.com/wiki/Lucius_Malfoy   \n",
       "17   Marjorie Dursley  https://harrypotter.fandom.com/wiki/Marjorie_D...   \n",
       "153             Ronan          https://harrypotter.fandom.com/wiki/Ronan   \n",
       "\n",
       "                                               loyalty  \\\n",
       "4    Potter family,Evans family,Hogwarts School of ...   \n",
       "69   Circle of Khanna,Dumbledore's Army,Order of th...   \n",
       "59   Malfoy family,House of Black,British Ministry ...   \n",
       "17                                                None   \n",
       "153  Forbidden Forest Centaur colony,Hogwarts Schoo...   \n",
       "\n",
       "                                                family       blood  \\\n",
       "4    Ignotus Peverell,Linfred of Stinchcombe,Hardwi...  Pure-blood   \n",
       "69   Septimus Weasley,Cedrella Black,Mr Prewett,Mrs...  Pure-blood   \n",
       "59   Armand Malfoy,Nicholas Malfoy,Lucius Malfoy I,...  Pure-blood   \n",
       "17   Mr Dursley,Mrs Dursley,Vernon Dursley,Petunia ...      Muggle   \n",
       "153                                               None        None   \n",
       "\n",
       "    nationality  species       house  gender  \\\n",
       "4       English    Human  Gryffindor    Male   \n",
       "69      English    Human  Gryffindor    Male   \n",
       "59      British    Human   Slytherin    Male   \n",
       "17      English    Human        None  Female   \n",
       "153        None  Centaur        None    Male   \n",
       "\n",
       "                                               aliases  \n",
       "4                                                   []  \n",
       "69                    ['Gred', 'Georgie', 'Tentacula']  \n",
       "59                                                None  \n",
       "17   ['Auntie Marge', 'Aunt Marge', 'Marge', 'Margie']  \n",
       "153                                               None  "
      ]
     },
     "execution_count": 24,
     "metadata": {},
     "output_type": "execute_result"
    }
   ],
   "source": [
    "datax.sample(5)"
   ]
  },
  {
   "cell_type": "code",
   "execution_count": 25,
   "id": "264bd927",
   "metadata": {},
   "outputs": [
    {
     "data": {
      "text/plain": [
       "[None,\n",
       " None,\n",
       " None,\n",
       " 'Gryffindor',\n",
       " 'Gryffindor',\n",
       " 'Gryffindor',\n",
       " None,\n",
       " 'Slytherin',\n",
       " None,\n",
       " None,\n",
       " None,\n",
       " 'Gryffindor',\n",
       " 'Gryffindor',\n",
       " None,\n",
       " None,\n",
       " 'Gryffindor',\n",
       " 'Gryffindor',\n",
       " None,\n",
       " None,\n",
       " None,\n",
       " None,\n",
       " None,\n",
       " None,\n",
       " None,\n",
       " None,\n",
       " None,\n",
       " None,\n",
       " None,\n",
       " None,\n",
       " None,\n",
       " None,\n",
       " None,\n",
       " None,\n",
       " None,\n",
       " None,\n",
       " None,\n",
       " None,\n",
       " 'Slytherin',\n",
       " None,\n",
       " None,\n",
       " None,\n",
       " 'Hufflepuff',\n",
       " 'Gryffindor',\n",
       " None,\n",
       " None,\n",
       " None,\n",
       " None,\n",
       " None,\n",
       " None,\n",
       " None,\n",
       " 'Hufflepuff',\n",
       " None,\n",
       " None,\n",
       " None,\n",
       " 'Ravenclaw',\n",
       " None,\n",
       " None,\n",
       " None,\n",
       " 'Slytherin',\n",
       " 'Slytherin',\n",
       " 'Slytherin',\n",
       " None,\n",
       " None,\n",
       " 'Ravenclaw',\n",
       " None,\n",
       " 'Gryffindor',\n",
       " 'Gryffindor',\n",
       " 'Gryffindor',\n",
       " 'Gryffindor',\n",
       " 'Gryffindor',\n",
       " 'Gryffindor',\n",
       " 'Gryffindor',\n",
       " None,\n",
       " 'Gryffindor',\n",
       " None,\n",
       " 'Gryffindor',\n",
       " 'Gryffindor',\n",
       " 'Gryffindor',\n",
       " 'Gryffindor',\n",
       " None,\n",
       " None,\n",
       " None,\n",
       " None,\n",
       " None,\n",
       " None,\n",
       " 'Hufflepuff',\n",
       " None,\n",
       " None,\n",
       " None,\n",
       " None,\n",
       " None,\n",
       " None,\n",
       " 'Gryffindor',\n",
       " 'Slytherin',\n",
       " 'Slytherin',\n",
       " None,\n",
       " None,\n",
       " 'Hufflepuff',\n",
       " None,\n",
       " None,\n",
       " 'Hufflepuff',\n",
       " 'Hufflepuff',\n",
       " 'Ravenclaw',\n",
       " 'Ravenclaw',\n",
       " 'Gryffindor',\n",
       " 'Slytherin',\n",
       " 'Hufflepuff',\n",
       " 'Gryffindor',\n",
       " None,\n",
       " 'Gryffindor',\n",
       " 'Slytherin',\n",
       " 'Slytherin',\n",
       " 'Ravenclaw',\n",
       " 'Gryffindor',\n",
       " 'Gryffindor',\n",
       " 'Gryffindor',\n",
       " 'Ravenclaw',\n",
       " 'Slytherin',\n",
       " 'Gryffindor',\n",
       " 'Slytherin',\n",
       " None,\n",
       " 'Gryffindor',\n",
       " None,\n",
       " None,\n",
       " 'Slytherin',\n",
       " None,\n",
       " None,\n",
       " 'Gryffindor',\n",
       " None,\n",
       " 'Hufflepuff',\n",
       " None,\n",
       " None,\n",
       " 'Ravenclaw',\n",
       " 'Ravenclaw',\n",
       " None,\n",
       " 'Gryffindor',\n",
       " 'Ravenclaw',\n",
       " None,\n",
       " None,\n",
       " None,\n",
       " None,\n",
       " None,\n",
       " 'Gryffindor',\n",
       " 'Slytherin',\n",
       " 'Gryffindor',\n",
       " 'Gryffindor',\n",
       " 'Slytherin',\n",
       " 'Slytherin',\n",
       " 'Slytherin',\n",
       " None,\n",
       " None,\n",
       " None,\n",
       " None,\n",
       " None,\n",
       " None,\n",
       " None,\n",
       " None,\n",
       " None,\n",
       " None,\n",
       " None,\n",
       " None,\n",
       " None]"
      ]
     },
     "execution_count": 25,
     "metadata": {},
     "output_type": "execute_result"
    }
   ],
   "source": [
    "datax['house'].tolist()"
   ]
  },
  {
   "cell_type": "markdown",
   "id": "266bb6fc",
   "metadata": {},
   "source": [
    "### Ingest the Data into the Database"
   ]
  },
  {
   "cell_type": "markdown",
   "id": "ff47ad9e",
   "metadata": {},
   "source": [
    "#### Characters"
   ]
  },
  {
   "cell_type": "code",
   "execution_count": 26,
   "id": "a01b3594",
   "metadata": {},
   "outputs": [],
   "source": [
    "create_db = \"\"\"\n",
    "MERGE (c:Character{name:$title, url:$url})\n",
    "    SET c.aliases = CASE trim(toString(c.aliases)) WHEN 'None' THEN null ELSE $aliases END\n",
    "    SET c.blood = CASE trim(toString(c.blood)) WHEN 'None' THEN null ELSE $blood END\n",
    "    SET c.nationality = CASE trim(toString(c.nationality)) WHEN 'None' THEN null ELSE $nationality END\n",
    "    SET c.gender = CASE trim(toString(c.gender)) WHEN 'None' THEN null ELSE $gender END\n",
    "    SET c.species = CASE trim(toString(c.species)) WHEN 'None' THEN null ELSE $species END\n",
    "  \n",
    "\"\"\"\n"
   ]
  },
  {
   "cell_type": "code",
   "execution_count": 27,
   "id": "dd6f8f1b",
   "metadata": {},
   "outputs": [
    {
     "name": "stderr",
     "output_type": "stream",
     "text": [
      "Failed to write data to connection IPv4Address(('localhost', 7687)) (ResolvedIPv4Address(('127.0.0.1', 7687)))\n",
      "Transaction failed and will be retried in 1.0794824865478536s (Failed to write data to connection IPv4Address(('localhost', 7687)) (ResolvedIPv4Address(('127.0.0.1', 7687))))\n"
     ]
    }
   ],
   "source": [
    "# Execute transaction\n",
    "for index, row in datax.iterrows():\n",
    "    response = write_query(create_db, \n",
    "                           params = {'title':row['title'], 'url':row['url'], 'aliases':row['aliases'],\n",
    "                                     'blood':row['blood'], 'nationality':row['nationality'], \n",
    "                                     'species':row['species'], 'gender':row['gender'] \n",
    "                                    })"
   ]
  },
  {
   "cell_type": "code",
   "execution_count": 28,
   "id": "b889cdb9",
   "metadata": {},
   "outputs": [],
   "source": [
    "add_groups = '''\n",
    "    MERGE (c:Character {title:$title})\n",
    "    WITH c\n",
    "    UNWIND split($loyalty, ',') AS l\n",
    "        MERGE (g:Group {name:l}) \n",
    "        MERGE (c)-[:LOYAL_TO]->(g)\n",
    "    RETURN c\n",
    "'''"
   ]
  },
  {
   "cell_type": "code",
   "execution_count": 29,
   "id": "4ae4cd7f",
   "metadata": {},
   "outputs": [],
   "source": [
    "# Execute transaction\n",
    "for index, row in datax.iterrows():\n",
    "    response = write_query(add_groups, params = {'title':row['title'], 'loyalty':row['loyalty'] })"
   ]
  },
  {
   "cell_type": "code",
   "execution_count": 30,
   "id": "d51ebc2b",
   "metadata": {},
   "outputs": [],
   "source": [
    "add_family = '''\n",
    "    MERGE (c:Character {title:$title})\n",
    "    WITH c\n",
    "    UNWIND split($family, ',') AS f\n",
    "    MERGE (f1:Character {name:f}) \n",
    "    MERGE (c)-[t:IN_FAMILY_WITH]->(f1) \n",
    "    RETURN c\n",
    "'''"
   ]
  },
  {
   "cell_type": "code",
   "execution_count": 31,
   "id": "e2297c91",
   "metadata": {},
   "outputs": [],
   "source": [
    "# Execute transaction\n",
    "for index, row in datax.iterrows():\n",
    "    response = write_query(add_family, params = {'title':row['title'], 'family':row['family'] })"
   ]
  },
  {
   "cell_type": "code",
   "execution_count": 32,
   "id": "f6254372",
   "metadata": {},
   "outputs": [],
   "source": [
    "add_house = '''\n",
    "    MERGE (c:Character {title:$title})\n",
    "    WITH c\n",
    "    FOREACH (h in CASE WHEN $house IS NOT NULL THEN [1] ELSE [] END | \n",
    "    MERGE (h1:House {name:$house}) \n",
    "    MERGE (c)-[:BELONGS_TO]->(h1)  ) \n",
    "    RETURN c\n",
    "'''"
   ]
  },
  {
   "cell_type": "code",
   "execution_count": 33,
   "id": "c342ee1f",
   "metadata": {},
   "outputs": [],
   "source": [
    "# Execute transaction\n",
    "for index, row in datax.iterrows():\n",
    "    response = write_query(add_house, params = {'title':row['title'],'house':row['house']})"
   ]
  },
  {
   "cell_type": "code",
   "execution_count": null,
   "id": "98014834",
   "metadata": {},
   "outputs": [],
   "source": []
  },
  {
   "cell_type": "markdown",
   "id": "814ac336",
   "metadata": {},
   "source": [
    "#### Relations"
   ]
  },
  {
   "cell_type": "code",
   "execution_count": 34,
   "id": "7696bbf0",
   "metadata": {},
   "outputs": [],
   "source": [
    "file_name = 'HP-relations-seen.csv'\n",
    "path = data_dir+file_name"
   ]
  },
  {
   "cell_type": "code",
   "execution_count": 35,
   "id": "43f71ce2",
   "metadata": {},
   "outputs": [
    {
     "name": "stdout",
     "output_type": "stream",
     "text": [
      "Unexpected exception formatting exception. Falling back to standard exception\n"
     ]
    },
    {
     "name": "stderr",
     "output_type": "stream",
     "text": [
      "C:\\Users\\Bruger\\AppData\\Local\\Temp\\ipykernel_18736\\301918582.py:2: FutureWarning: In a future version of pandas all arguments of read_csv except for the argument 'filepath_or_buffer' will be keyword-only.\n",
      "  data = pd.read_csv(path, ',')\n",
      "Traceback (most recent call last):\n",
      "  File \"C:\\Users\\Bruger\\AppData\\Roaming\\Python\\Python311\\site-packages\\IPython\\core\\formatters.py\", line 221, in catch_format_error\n",
      "    r = method(self, *args, **kwargs)\n",
      "        ^^^^^^^^^^^^^^^^^^^^^^^^^^^^^\n",
      "  File \"C:\\Users\\Bruger\\AppData\\Roaming\\Python\\Python311\\site-packages\\IPython\\core\\formatters.py\", line 342, in __call__\n",
      "    return method()\n",
      "           ^^^^^^^^\n",
      "  File \"c:\\Users\\Bruger\\AppData\\Local\\Programs\\Python\\Python311\\Lib\\site-packages\\pandas\\core\\frame.py\", line 1106, in _repr_html_\n",
      "  File \"c:\\Users\\Bruger\\AppData\\Local\\Programs\\Python\\Python311\\Lib\\site-packages\\pandas\\io\\formats\\format.py\", line 1110, in to_html\n",
      "    When formatting an Index subclass\n",
      "             ^^^^^^^^^^^^^^^^^^^^^^^^^\n",
      "  File \"c:\\Users\\Bruger\\AppData\\Local\\Programs\\Python\\Python311\\Lib\\site-packages\\pandas\\io\\formats\\html.py\", line 88, in to_string\n",
      "    lines = self.render()\n",
      "            ^^^^^^^^^^^^^\n",
      "  File \"c:\\Users\\Bruger\\AppData\\Local\\Programs\\Python\\Python311\\Lib\\site-packages\\pandas\\io\\formats\\html.py\", line 644, in render\n",
      "    super().render()\n",
      "  File \"c:\\Users\\Bruger\\AppData\\Local\\Programs\\Python\\Python311\\Lib\\site-packages\\pandas\\io\\formats\\html.py\", line 94, in render\n",
      "    self._write_table()\n",
      "  File \"c:\\Users\\Bruger\\AppData\\Local\\Programs\\Python\\Python311\\Lib\\site-packages\\pandas\\io\\formats\\html.py\", line 267, in _write_table\n",
      "    self._write_header(indent + self.indent_delta)\n",
      "  File \"c:\\Users\\Bruger\\AppData\\Local\\Programs\\Python\\Python311\\Lib\\site-packages\\pandas\\io\\formats\\html.py\", line 403, in _write_header\n",
      "    self._write_col_header(indent + self.indent_delta)\n",
      "  File \"c:\\Users\\Bruger\\AppData\\Local\\Programs\\Python\\Python311\\Lib\\site-packages\\pandas\\io\\formats\\html.py\", line 383, in _write_col_header\n",
      "    row.extend(self._get_columns_formatted_values())\n",
      "               ^^^^^^^^^^^^^^^^^^^^^^^^^^^^^^^^^^^^\n",
      "  File \"c:\\Users\\Bruger\\AppData\\Local\\Programs\\Python\\Python311\\Lib\\site-packages\\pandas\\io\\formats\\html.py\", line 611, in _get_columns_formatted_values\n",
      "    return self.columns._format_flat(include_name=False)\n",
      "           ^^^^^^^^^^^^^^^^^^^^^^^^^\n",
      "AttributeError: 'Index' object has no attribute '_format_flat'\n",
      "\n",
      "During handling of the above exception, another exception occurred:\n",
      "\n",
      "Traceback (most recent call last):\n",
      "  File \"C:\\Users\\Bruger\\AppData\\Roaming\\Python\\Python311\\site-packages\\IPython\\core\\interactiveshell.py\", line 2057, in showtraceback\n",
      "    stb = self.InteractiveTB.structured_traceback(\n",
      "          ^^^^^^^^^^^^^^^^^^^^^^^^^^^^^^^^^^^^^^^^\n",
      "  File \"C:\\Users\\Bruger\\AppData\\Roaming\\Python\\Python311\\site-packages\\IPython\\core\\ultratb.py\", line 1118, in structured_traceback\n",
      "    return FormattedTB.structured_traceback(\n",
      "           ^^^^^^^^^^^^^^^^^^^^^^^^^^^^^^^^^\n",
      "  File \"C:\\Users\\Bruger\\AppData\\Roaming\\Python\\Python311\\site-packages\\IPython\\core\\ultratb.py\", line 1012, in structured_traceback\n",
      "    return VerboseTB.structured_traceback(\n",
      "           ^^^^^^^^^^^^^^^^^^^^^^^^^^^^^^^\n",
      "  File \"C:\\Users\\Bruger\\AppData\\Roaming\\Python\\Python311\\site-packages\\IPython\\core\\ultratb.py\", line 865, in structured_traceback\n",
      "    formatted_exception = self.format_exception_as_a_whole(etype, evalue, etb, number_of_lines_of_context,\n",
      "                          ^^^^^^^^^^^^^^^^^^^^^^^^^^^^^^^^^^^^^^^^^^^^^^^^^^^^^^^^^^^^^^^^^^^^^^^^^^^^^^^^\n",
      "  File \"C:\\Users\\Bruger\\AppData\\Roaming\\Python\\Python311\\site-packages\\IPython\\core\\ultratb.py\", line 818, in format_exception_as_a_whole\n",
      "    frames.append(self.format_record(r))\n",
      "                  ^^^^^^^^^^^^^^^^^^^^^\n",
      "  File \"C:\\Users\\Bruger\\AppData\\Roaming\\Python\\Python311\\site-packages\\IPython\\core\\ultratb.py\", line 736, in format_record\n",
      "    result += ''.join(_format_traceback_lines(frame_info.lines, Colors, self.has_colors, lvals))\n",
      "                                              ^^^^^^^^^^^^^^^^\n",
      "  File \"C:\\Users\\Bruger\\AppData\\Roaming\\Python\\Python311\\site-packages\\stack_data\\utils.py\", line 144, in cached_property_wrapper\n",
      "    value = obj.__dict__[self.func.__name__] = self.func(obj)\n",
      "                                               ^^^^^^^^^^^^^^\n",
      "  File \"C:\\Users\\Bruger\\AppData\\Roaming\\Python\\Python311\\site-packages\\stack_data\\core.py\", line 734, in lines\n",
      "    pieces = self.included_pieces\n",
      "             ^^^^^^^^^^^^^^^^^^^^\n",
      "  File \"C:\\Users\\Bruger\\AppData\\Roaming\\Python\\Python311\\site-packages\\stack_data\\utils.py\", line 144, in cached_property_wrapper\n",
      "    value = obj.__dict__[self.func.__name__] = self.func(obj)\n",
      "                                               ^^^^^^^^^^^^^^\n",
      "  File \"C:\\Users\\Bruger\\AppData\\Roaming\\Python\\Python311\\site-packages\\stack_data\\core.py\", line 681, in included_pieces\n",
      "    pos = scope_pieces.index(self.executing_piece)\n",
      "                             ^^^^^^^^^^^^^^^^^^^^\n",
      "  File \"C:\\Users\\Bruger\\AppData\\Roaming\\Python\\Python311\\site-packages\\stack_data\\utils.py\", line 144, in cached_property_wrapper\n",
      "    value = obj.__dict__[self.func.__name__] = self.func(obj)\n",
      "                                               ^^^^^^^^^^^^^^\n",
      "  File \"C:\\Users\\Bruger\\AppData\\Roaming\\Python\\Python311\\site-packages\\stack_data\\core.py\", line 660, in executing_piece\n",
      "    return only(\n",
      "           ^^^^^\n",
      "  File \"C:\\Users\\Bruger\\AppData\\Roaming\\Python\\Python311\\site-packages\\executing\\executing.py\", line 190, in only\n",
      "    raise NotOneValueFound('Expected one value, found 0')\n",
      "executing.executing.NotOneValueFound: Expected one value, found 0\n"
     ]
    },
    {
     "data": {
      "text/plain": [
       "               source            target   value\n",
       "0     Petunia Dursley    Vernon Dursley   67629\n",
       "1      Dudley Dursley    Vernon Dursley   30647\n",
       "2      Dudley Dursley   Petunia Dursley  104637\n",
       "3        Harry Potter    Vernon Dursley   30959\n",
       "4        Harry Potter   Petunia Dursley  104646\n",
       "..                ...               ...     ...\n",
       "401    George Weasley     Poppy Pomfrey  100216\n",
       "402    Nicolas Flamel  Perenelle Flamel  100608\n",
       "403  Albus Dumbledore  Helena Ravenclaw  103872\n",
       "404    Ronald Weasley    Vernon Dursley  104671\n",
       "405  Hermione Granger    Vernon Dursley  104732\n",
       "\n",
       "[406 rows x 3 columns]"
      ]
     },
     "execution_count": 35,
     "metadata": {},
     "output_type": "execute_result"
    }
   ],
   "source": [
    "# with pandas\n",
    "data = pd.read_csv(path, ',')\n",
    "data"
   ]
  },
  {
   "cell_type": "code",
   "execution_count": 36,
   "id": "0ce53d51",
   "metadata": {},
   "outputs": [
    {
     "data": {
      "text/plain": [
       "source    0\n",
       "target    0\n",
       "value     0\n",
       "dtype: int64"
      ]
     },
     "execution_count": 36,
     "metadata": {},
     "output_type": "execute_result"
    }
   ],
   "source": [
    "data.isnull().sum()"
   ]
  },
  {
   "cell_type": "code",
   "execution_count": 37,
   "id": "687052be",
   "metadata": {},
   "outputs": [
    {
     "name": "stdout",
     "output_type": "stream",
     "text": [
      "<class 'pandas.core.frame.DataFrame'>\n",
      "RangeIndex: 406 entries, 0 to 405\n",
      "Data columns (total 3 columns):\n",
      " #   Column  Non-Null Count  Dtype \n",
      "---  ------  --------------  ----- \n",
      " 0   source  406 non-null    object\n",
      " 1   target  406 non-null    object\n",
      " 2   value   406 non-null    int64 \n",
      "dtypes: int64(1), object(2)\n",
      "memory usage: 9.6+ KB\n"
     ]
    }
   ],
   "source": [
    "data.info()"
   ]
  },
  {
   "cell_type": "code",
   "execution_count": 38,
   "id": "09c15bb6",
   "metadata": {},
   "outputs": [],
   "source": [
    "datay = data.replace({np.nan: None})"
   ]
  },
  {
   "cell_type": "code",
   "execution_count": 39,
   "id": "b08b0200",
   "metadata": {},
   "outputs": [
    {
     "name": "stdout",
     "output_type": "stream",
     "text": [
      "Unexpected exception formatting exception. Falling back to standard exception\n"
     ]
    },
    {
     "name": "stderr",
     "output_type": "stream",
     "text": [
      "Traceback (most recent call last):\n",
      "  File \"C:\\Users\\Bruger\\AppData\\Roaming\\Python\\Python311\\site-packages\\IPython\\core\\formatters.py\", line 221, in catch_format_error\n",
      "    r = method(self, *args, **kwargs)\n",
      "        ^^^^^^^^^^^^^^^^^^^^^^^^^^^^^\n",
      "  File \"C:\\Users\\Bruger\\AppData\\Roaming\\Python\\Python311\\site-packages\\IPython\\core\\formatters.py\", line 342, in __call__\n",
      "    return method()\n",
      "           ^^^^^^^^\n",
      "  File \"c:\\Users\\Bruger\\AppData\\Local\\Programs\\Python\\Python311\\Lib\\site-packages\\pandas\\core\\frame.py\", line 1106, in _repr_html_\n",
      "  File \"c:\\Users\\Bruger\\AppData\\Local\\Programs\\Python\\Python311\\Lib\\site-packages\\pandas\\io\\formats\\format.py\", line 1110, in to_html\n",
      "    When formatting an Index subclass\n",
      "             ^^^^^^^^^^^^^^^^^^^^^^^^^\n",
      "  File \"c:\\Users\\Bruger\\AppData\\Local\\Programs\\Python\\Python311\\Lib\\site-packages\\pandas\\io\\formats\\html.py\", line 88, in to_string\n",
      "    lines = self.render()\n",
      "            ^^^^^^^^^^^^^\n",
      "  File \"c:\\Users\\Bruger\\AppData\\Local\\Programs\\Python\\Python311\\Lib\\site-packages\\pandas\\io\\formats\\html.py\", line 644, in render\n",
      "    super().render()\n",
      "  File \"c:\\Users\\Bruger\\AppData\\Local\\Programs\\Python\\Python311\\Lib\\site-packages\\pandas\\io\\formats\\html.py\", line 94, in render\n",
      "    self._write_table()\n",
      "  File \"c:\\Users\\Bruger\\AppData\\Local\\Programs\\Python\\Python311\\Lib\\site-packages\\pandas\\io\\formats\\html.py\", line 267, in _write_table\n",
      "    self._write_header(indent + self.indent_delta)\n",
      "  File \"c:\\Users\\Bruger\\AppData\\Local\\Programs\\Python\\Python311\\Lib\\site-packages\\pandas\\io\\formats\\html.py\", line 403, in _write_header\n",
      "    self._write_col_header(indent + self.indent_delta)\n",
      "  File \"c:\\Users\\Bruger\\AppData\\Local\\Programs\\Python\\Python311\\Lib\\site-packages\\pandas\\io\\formats\\html.py\", line 383, in _write_col_header\n",
      "    row.extend(self._get_columns_formatted_values())\n",
      "               ^^^^^^^^^^^^^^^^^^^^^^^^^^^^^^^^^^^^\n",
      "  File \"c:\\Users\\Bruger\\AppData\\Local\\Programs\\Python\\Python311\\Lib\\site-packages\\pandas\\io\\formats\\html.py\", line 611, in _get_columns_formatted_values\n",
      "    return self.columns._format_flat(include_name=False)\n",
      "           ^^^^^^^^^^^^^^^^^^^^^^^^^\n",
      "AttributeError: 'Index' object has no attribute '_format_flat'\n",
      "\n",
      "During handling of the above exception, another exception occurred:\n",
      "\n",
      "Traceback (most recent call last):\n",
      "  File \"C:\\Users\\Bruger\\AppData\\Roaming\\Python\\Python311\\site-packages\\IPython\\core\\interactiveshell.py\", line 2057, in showtraceback\n",
      "    stb = self.InteractiveTB.structured_traceback(\n",
      "          ^^^^^^^^^^^^^^^^^^^^^^^^^^^^^^^^^^^^^^^^\n",
      "  File \"C:\\Users\\Bruger\\AppData\\Roaming\\Python\\Python311\\site-packages\\IPython\\core\\ultratb.py\", line 1118, in structured_traceback\n",
      "    return FormattedTB.structured_traceback(\n",
      "           ^^^^^^^^^^^^^^^^^^^^^^^^^^^^^^^^^\n",
      "  File \"C:\\Users\\Bruger\\AppData\\Roaming\\Python\\Python311\\site-packages\\IPython\\core\\ultratb.py\", line 1012, in structured_traceback\n",
      "    return VerboseTB.structured_traceback(\n",
      "           ^^^^^^^^^^^^^^^^^^^^^^^^^^^^^^^\n",
      "  File \"C:\\Users\\Bruger\\AppData\\Roaming\\Python\\Python311\\site-packages\\IPython\\core\\ultratb.py\", line 865, in structured_traceback\n",
      "    formatted_exception = self.format_exception_as_a_whole(etype, evalue, etb, number_of_lines_of_context,\n",
      "                          ^^^^^^^^^^^^^^^^^^^^^^^^^^^^^^^^^^^^^^^^^^^^^^^^^^^^^^^^^^^^^^^^^^^^^^^^^^^^^^^^\n",
      "  File \"C:\\Users\\Bruger\\AppData\\Roaming\\Python\\Python311\\site-packages\\IPython\\core\\ultratb.py\", line 818, in format_exception_as_a_whole\n",
      "    frames.append(self.format_record(r))\n",
      "                  ^^^^^^^^^^^^^^^^^^^^^\n",
      "  File \"C:\\Users\\Bruger\\AppData\\Roaming\\Python\\Python311\\site-packages\\IPython\\core\\ultratb.py\", line 736, in format_record\n",
      "    result += ''.join(_format_traceback_lines(frame_info.lines, Colors, self.has_colors, lvals))\n",
      "                                              ^^^^^^^^^^^^^^^^\n",
      "  File \"C:\\Users\\Bruger\\AppData\\Roaming\\Python\\Python311\\site-packages\\stack_data\\utils.py\", line 144, in cached_property_wrapper\n",
      "    value = obj.__dict__[self.func.__name__] = self.func(obj)\n",
      "                                               ^^^^^^^^^^^^^^\n",
      "  File \"C:\\Users\\Bruger\\AppData\\Roaming\\Python\\Python311\\site-packages\\stack_data\\core.py\", line 734, in lines\n",
      "    pieces = self.included_pieces\n",
      "             ^^^^^^^^^^^^^^^^^^^^\n",
      "  File \"C:\\Users\\Bruger\\AppData\\Roaming\\Python\\Python311\\site-packages\\stack_data\\utils.py\", line 144, in cached_property_wrapper\n",
      "    value = obj.__dict__[self.func.__name__] = self.func(obj)\n",
      "                                               ^^^^^^^^^^^^^^\n",
      "  File \"C:\\Users\\Bruger\\AppData\\Roaming\\Python\\Python311\\site-packages\\stack_data\\core.py\", line 681, in included_pieces\n",
      "    pos = scope_pieces.index(self.executing_piece)\n",
      "                             ^^^^^^^^^^^^^^^^^^^^\n",
      "  File \"C:\\Users\\Bruger\\AppData\\Roaming\\Python\\Python311\\site-packages\\stack_data\\utils.py\", line 144, in cached_property_wrapper\n",
      "    value = obj.__dict__[self.func.__name__] = self.func(obj)\n",
      "                                               ^^^^^^^^^^^^^^\n",
      "  File \"C:\\Users\\Bruger\\AppData\\Roaming\\Python\\Python311\\site-packages\\stack_data\\core.py\", line 660, in executing_piece\n",
      "    return only(\n",
      "           ^^^^^\n",
      "  File \"C:\\Users\\Bruger\\AppData\\Roaming\\Python\\Python311\\site-packages\\executing\\executing.py\", line 190, in only\n",
      "    raise NotOneValueFound('Expected one value, found 0')\n",
      "executing.executing.NotOneValueFound: Expected one value, found 0\n"
     ]
    },
    {
     "data": {
      "text/plain": [
       "                 source                target  value\n",
       "196        Harry Potter                Peeves  92920\n",
       "132       Gregory Goyle          Harry Potter  75359\n",
       "118    Alberic Grunnion  Hengist of Woodcroft  35543\n",
       "145  Neville Longbottom                Trevor  92348\n",
       "198  Neville Longbottom                Peeves  44475"
      ]
     },
     "execution_count": 39,
     "metadata": {},
     "output_type": "execute_result"
    }
   ],
   "source": [
    "datay.sample(5)"
   ]
  },
  {
   "cell_type": "code",
   "execution_count": 40,
   "id": "c12fdfcc",
   "metadata": {},
   "outputs": [],
   "source": [
    "create_rel = \"\"\"\n",
    "    MERGE (s:Character{name:$source})\n",
    "    MERGE (t:Character{name:$target})\n",
    "    MERGE (s)-[r:INTERACTS]-(t)\n",
    "    SET r.weight = $value\n",
    "\"\"\"    "
   ]
  },
  {
   "cell_type": "code",
   "execution_count": 41,
   "id": "ecbcbc40",
   "metadata": {},
   "outputs": [],
   "source": [
    "# Execute transaction\n",
    "for index, row in datay.iterrows():\n",
    "    response = write_query(create_rel, \n",
    "                           params = {'source':row['source'], 'target':row['target'], 'value':row['value']})"
   ]
  },
  {
   "cell_type": "markdown",
   "id": "a0cf3af1",
   "metadata": {},
   "source": [
    "## Query the Database"
   ]
  },
  {
   "cell_type": "markdown",
   "id": "661d6b9d",
   "metadata": {},
   "source": [
    "To enable permissions for running the algorithms on the localmachine, aadd this line to your config file:\n",
    "__dbms.security.procedures.unrestricted=jwt.security.*, apoc.*, gds.*__"
   ]
  },
  {
   "cell_type": "code",
   "execution_count": null,
   "id": "5c2b8ef2",
   "metadata": {},
   "outputs": [],
   "source": [
    "def read_gds(query, params=None):\n",
    "    with driver.session() as session:\n",
    "        result = session.run(query, params)\n",
    "        return pd.DataFrame([r.values() for r in result], columns=result.keys())"
   ]
  },
  {
   "cell_type": "markdown",
   "id": "1fae82de",
   "metadata": {},
   "source": [
    "### Community Detection"
   ]
  },
  {
   "cell_type": "code",
   "execution_count": null,
   "id": "c9f9946f",
   "metadata": {},
   "outputs": [],
   "source": [
    "# create a projection\n",
    "query = \"\"\"\n",
    "    CALL gds.graph.project('dor', 'Character', {INTERACTS:{orientation:'UNDIRECTED'}})\n",
    "    YIELD nodeId, score\n",
    "    RETURN gds.util.asNode(nodeId).name AS title, score AS rank\n",
    "    ORDER BY rank DESCENDING, title LIMIT 5\n",
    "\"\"\""
   ]
  },
  {
   "cell_type": "code",
   "execution_count": null,
   "id": "24ff231a",
   "metadata": {},
   "outputs": [],
   "source": [
    "response = read_gds(query)\n",
    "response"
   ]
  },
  {
   "cell_type": "code",
   "execution_count": null,
   "id": "afda1d00",
   "metadata": {},
   "outputs": [],
   "source": [
    "query = \"\"\"\n",
    "    CALL gds.louvain.stream('dom')\n",
    "    YIELD nodeId, communityId, intermediateCommunityIds\n",
    "    RETURN gds.util.asNode(nodeId).name AS name, communityId\n",
    "    ORDER BY communityId ASC LIMIT 15\n",
    "\"\"\""
   ]
  },
  {
   "cell_type": "code",
   "execution_count": null,
   "id": "fbab07b4",
   "metadata": {},
   "outputs": [],
   "source": [
    "# writes the calculated community coeficients as parameters of the nodes\n",
    "response = read_gds(query)\n",
    "response"
   ]
  },
  {
   "cell_type": "markdown",
   "id": "fe8ada56",
   "metadata": {},
   "source": [
    "### Degree Centrality"
   ]
  },
  {
   "cell_type": "code",
   "execution_count": null,
   "id": "a3bf2709",
   "metadata": {},
   "outputs": [],
   "source": [
    "query = \"\"\"\n",
    "    CALL gds.degree.stream('dor')\n",
    "    YIELD nodeId, score\n",
    "    RETURN gds.util.asNode(nodeId).name AS title, score AS connections\n",
    "    ORDER BY rank DESCENDING, title LIMIT 5\n",
    "\"\"\""
   ]
  },
  {
   "cell_type": "code",
   "execution_count": null,
   "id": "f15162f3",
   "metadata": {},
   "outputs": [],
   "source": [
    "response = read_gds(query)\n",
    "response"
   ]
  },
  {
   "cell_type": "markdown",
   "id": "137799e5",
   "metadata": {},
   "source": [
    "### Page Rank"
   ]
  },
  {
   "cell_type": "code",
   "execution_count": null,
   "id": "154da59c",
   "metadata": {},
   "outputs": [],
   "source": [
    "# create projection\n",
    "query = '''\n",
    "CALL gds.graph.project(\n",
    "  'dom',\n",
    "  'Character',\n",
    "  'INTERACTS',\n",
    "  {\n",
    "    relationshipProperties: 'weight'\n",
    "  }\n",
    ")\n",
    "'''"
   ]
  },
  {
   "cell_type": "code",
   "execution_count": null,
   "id": "4174be99",
   "metadata": {},
   "outputs": [],
   "source": [
    "response = read_gds(query)\n",
    "response"
   ]
  },
  {
   "cell_type": "code",
   "execution_count": null,
   "id": "f3d78597",
   "metadata": {},
   "outputs": [],
   "source": [
    "query = \"\"\"\n",
    "    CALL gds.pageRank.stream('dom')\n",
    "    YIELD nodeId, score\n",
    "    RETURN gds.util.asNode(nodeId).title AS title, score\n",
    "    ORDER BY score DESC\n",
    "\"\"\""
   ]
  },
  {
   "cell_type": "code",
   "execution_count": null,
   "id": "c2d0c79d",
   "metadata": {},
   "outputs": [],
   "source": [
    "response = read_gds(query)\n",
    "response"
   ]
  },
  {
   "cell_type": "markdown",
   "id": "0322e95f",
   "metadata": {},
   "source": [
    "### Shortest Path"
   ]
  },
  {
   "cell_type": "code",
   "execution_count": null,
   "id": "c921d5f4",
   "metadata": {},
   "outputs": [],
   "source": [
    "# create projection\n",
    "query = '''\n",
    "CALL gds.graph.project(\n",
    "    'pat',\n",
    "    'Character',\n",
    "    'INTERACTS',\n",
    "    {\n",
    "        relationshipProperties: 'weight'\n",
    "    }\n",
    ")\n",
    "'''"
   ]
  },
  {
   "cell_type": "code",
   "execution_count": null,
   "id": "0065dbae",
   "metadata": {},
   "outputs": [],
   "source": [
    "response = read_gds(query)\n",
    "response"
   ]
  },
  {
   "cell_type": "code",
   "execution_count": null,
   "id": "50bc8508",
   "metadata": {},
   "outputs": [],
   "source": [
    "query = \"\"\"\n",
    "    MATCH (source:Character {title: 'Harry Potter'}), (target:Character {title: 'Albus Dumbledore'})\n",
    "    CALL gds.shortestPath.dijkstra.stream('pat', \n",
    "    {\n",
    "        sourceNode: source,\n",
    "        targetNode: target,\n",
    "        relationshipWeightProperty: 'weight'\n",
    "    })\n",
    "    YIELD index, sourceNode, targetNode, totalCost, nodeIds, costs, path\n",
    "    RETURN\n",
    "        index,\n",
    "        gds.util.asNode(sourceNode).title AS sourceNodeName,\n",
    "        gds.util.asNode(targetNode).title AS targetNodeName,\n",
    "        totalCost,\n",
    "        [nodeId IN nodeIds | gds.util.asNode(nodeId).title] AS nodeNames,\n",
    "        costs,\n",
    "        nodes(path) as path\n",
    "    ORDER BY index\n",
    "\"\"\""
   ]
  },
  {
   "cell_type": "code",
   "execution_count": null,
   "id": "5435086b",
   "metadata": {},
   "outputs": [],
   "source": [
    "response = read_gds(query)\n",
    "response"
   ]
  },
  {
   "cell_type": "code",
   "execution_count": null,
   "id": "2fd5581c",
   "metadata": {},
   "outputs": [],
   "source": []
  },
  {
   "cell_type": "code",
   "execution_count": null,
   "id": "1d6d6418",
   "metadata": {},
   "outputs": [],
   "source": []
  }
 ],
 "metadata": {
  "kernelspec": {
   "display_name": "Python 3 (ipykernel)",
   "language": "python",
   "name": "python3"
  },
  "language_info": {
   "codemirror_mode": {
    "name": "ipython",
    "version": 3
   },
   "file_extension": ".py",
   "mimetype": "text/x-python",
   "name": "python",
   "nbconvert_exporter": "python",
   "pygments_lexer": "ipython3",
   "version": "3.11.1"
  }
 },
 "nbformat": 4,
 "nbformat_minor": 5
}
